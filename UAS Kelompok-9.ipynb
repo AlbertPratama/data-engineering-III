{
 "cells": [
  {
   "cell_type": "markdown",
   "id": "5e68ccde",
   "metadata": {},
   "source": [
    "<h1 align=\"center\"><font size=\"5\">Ujian Akhir Semester</font></h1>\n",
    "<h2 align=\"center\"><font size=\"4\">Rekayasa Data (IF2106) - Tipe A</font></h2>"
   ]
  },
  {
   "cell_type": "markdown",
   "id": "108961f5",
   "metadata": {},
   "source": [
    "<h2>Daftar Isi</h2>\n",
    "<div class=\"alert alert-block alert-info\" style=\"margin-top: 20px\">\n",
    "    <ul>\n",
    "    <li><a href=\"#Identitas-Kelompok\">Identitas Kelompok</a></li>\n",
    "    <li><a href=\"#Identitas-Anggota\">Identitas Anggota</a></li>\n",
    "    <li><a href=\"#Kontribusi-Setiap-Anggota\">Kontribusi Setiap Anggota</a></li>\n",
    "    <li><a href=\"#Deskripsi-Proyek\">Deskripsi Proyek</a></li>\n",
    "    <li><a href=\"#Tahap-1:-Menentukan-Pertanyaan-Bisnis\">Tahap 1: Menentukan Pertanyaan Bisnis</a></li>\n",
    "    <li><a href=\"#Tahap-2:-Menyiapkan-Library\">Tahap 2: Menyiapkan Library</a></li>\n",
    "    <li><a href=\"#Tahap-3:-Mengumpulkan-Data\">Tahap 3: Mengumpulkan Data</a></li>\n",
    "    <li><a href=\"#Tahap-4:-Menilai-Data\">Tahap 4: Menilai Data</a></li>\n",
    "    <li><a href=\"#Tahap-5:-Membersihkan-Data\">Tahap 5: Membersihkan Data</a></li>\n",
    "    <li><a href=\"#Tahap-6:-Mengeksplorasi-dan-Menganalisis-Data\">Tahap 6: Mengeksplorasi dan Menganalisis Data</a></li>\n",
    "    <li><a href=\"#Tahap-7:-Memvisualisasikan-Data\">Tahap 7: Memvisualisasikan Data</a></li>\n",
    "    <li><a href=\"#Tahap-8:-Membuat-Kesimpulan\">Tahap 8: Membuat Kesimpulan</a></li>\n",
    "    </ul>\n",
    "</a></li>\n",
    "</div>"
   ]
  },
  {
   "cell_type": "markdown",
   "id": "d02919d2",
   "metadata": {},
   "source": [
    "## Identitas Kelompok"
   ]
  },
  {
   "cell_type": "markdown",
   "id": "8845b033",
   "metadata": {},
   "source": [
    "#### Nomor Kelompok: 9"
   ]
  },
  {
   "cell_type": "markdown",
   "id": "cc3771cb",
   "metadata": {},
   "source": [
    "## Identitas Anggota"
   ]
  },
  {
   "cell_type": "markdown",
   "id": "60bca683",
   "metadata": {},
   "source": [
    "Tuliskan identitas dari setiap anggota, meliputi NIM dan nama mahasiswa."
   ]
  },
  {
   "cell_type": "markdown",
   "id": "89e682fc",
   "metadata": {},
   "source": [
    "#### NIM Anggota-1: { 221112820 }, Nama Anggota-1: { Albert Putra Pratama Halawa }\n",
    "#### NIM Anggota-2: { 221113406 }, Nama Anggota-2: { Jhon Kennedy Harefa }\n",
    "#### NIM Anggota-3: { 221111265 }, Nama Anggota-3: { Octa Dana Rizky Lubis }\n",
    "#### NIM Anggota-4: { 221113024 }, Nama Anggota-4: { Renaldi Aritonang }"
   ]
  },
  {
   "cell_type": "markdown",
   "id": "30a101e5",
   "metadata": {},
   "source": [
    "## Kontribusi Setiap Anggota"
   ]
  },
  {
   "cell_type": "markdown",
   "id": "ad814f5e",
   "metadata": {},
   "source": [
    "Tuliskan kontribusi dari setiap anggota di dalam pengerjaan soal UAS berbasis proyek ini."
   ]
  },
  {
   "cell_type": "markdown",
   "id": "573187ed",
   "metadata": {},
   "source": [
    "#### Anggota-1: { ngokxxx }\n",
    "#### Anggota-2: { ngejomoks }\n",
    "#### Anggota-3: { ngehaha bokep }\n",
    "#### Anggota-4: { ngehaha bucin }"
   ]
  },
  {
   "cell_type": "markdown",
   "id": "8788442b",
   "metadata": {},
   "source": [
    "## Deskripsi Proyek"
   ]
  },
  {
   "cell_type": "markdown",
   "id": "e0252b1f",
   "metadata": {},
   "source": [
    "Pada UAS berbasis proyek ini, kelompok Anda harus melakukan seluruh proses analisis data, mulai dari mendefinisikan pertanyaan bisnis (pertanyaan analisis) yang ingin dijawab melalui proses analisis data hingga membuat kesimpulan dari hasil analisis (berupa visualisasi data untuk menjawab pertanyaan bisnis yang telah dibuat)."
   ]
  },
  {
   "cell_type": "markdown",
   "id": "5c308716",
   "metadata": {},
   "source": [
    "Untuk <b>tipe A</b>, lakukan analisis terhadap dataset <a href=\"https://mikroskilacid-my.sharepoint.com/:x:/g/personal/gunawan_mikroskil_ac_id/EXy63U8g5NRPtNvWKeKr-4EB6IJhgg1arjqwrmKz_W2wHQ?e=nv48St\">insurance.csv</a> yang berisi data transaksi asuransi. Lakukan analisis dengan tepat untuk mendapatkan insight/informasi sebanyak mungkin dari dataset tersebut. Penjelasan dari setiap kolom yang terdapat di dataset tersebut adalah sebagai berikut."
   ]
  },
  {
   "cell_type": "markdown",
   "id": "f5b84ca6",
   "metadata": {},
   "source": [
    "<table>\n",
    "    <thead>\n",
    "      <tr>\n",
    "        <th>No.</th>\n",
    "        <th>Nama Kolom</th>\n",
    "        <th>Penjelasan</th>\n",
    "      </tr>\n",
    "    </thead>\n",
    "    <tbody>\n",
    "      <tr>\n",
    "        <td>1</td>\n",
    "        <td>age</td>\n",
    "        <td>umur nasabah asuransi</td>\n",
    "      </tr>\n",
    "      <tr>\n",
    "        <td>2</td>\n",
    "        <td>sex</td>\n",
    "        <td>jenis kelamin nasabah asuransi</td>\n",
    "      </tr>\n",
    "      <tr>\n",
    "        <td>3</td>\n",
    "        <td>bmi</td>\n",
    "        <td>indeks massa tubuh (berat badan (kg) dibagi dengan kuadrat tinggi badan (m))</td>\n",
    "      </tr>\n",
    "      <tr>\n",
    "        <td>4</td>\n",
    "        <td>children</td>\n",
    "        <td>jumlah anak yang dimiliki nasabah asuransi</td>\n",
    "      </tr>\n",
    "      <tr>\n",
    "        <td>5</td>\n",
    "        <td>smoker</td>\n",
    "        <td>apakah nasabah asuransi merupakan perokok atau bukan</td>\n",
    "      </tr>\n",
    "      <tr>\n",
    "        <td>6</td>\n",
    "        <td>region</td>\n",
    "        <td>wilayah domisili nasabah asuransi</td>\n",
    "      </tr>\n",
    "      <tr>\n",
    "        <td>7</td>\n",
    "        <td>charges</td>\n",
    "        <td>premi yang dikenakan pada nasabah asuransi</td>\n",
    "      </tr>\n",
    "    </tbody>\n",
    "</table>"
   ]
  },
  {
   "cell_type": "markdown",
   "id": "675ef26c",
   "metadata": {},
   "source": [
    "## Tahap 1: Menentukan Pertanyaan Bisnis"
   ]
  },
  {
   "cell_type": "markdown",
   "id": "0fc2e6ff",
   "metadata": {},
   "source": [
    "Pada tahap ini, silahkan tentukan minimal 3 (tiga) pertanyaan bisnis yang akan dijawab berdasarkan dataset yang telah ditentukan di atas (analisis dan pahami data apa saja yang disimpan di masing-masing kolom)"
   ]
  },
  {
   "cell_type": "code",
   "execution_count": null,
   "id": "60342fa9",
   "metadata": {},
   "outputs": [],
   "source": []
  },
  {
   "cell_type": "markdown",
   "id": "d9c96950",
   "metadata": {},
   "source": [
    "## Tahap 2: Menyiapkan Library"
   ]
  },
  {
   "cell_type": "markdown",
   "id": "5e650e31",
   "metadata": {},
   "source": [
    "Sebelum memulai proyek, pastikan telah mengimpor semua library yang dibutuhkan untuk mengerjakan proyeknya"
   ]
  },
  {
   "cell_type": "code",
   "execution_count": 27,
   "id": "9070a5ad",
   "metadata": {},
   "outputs": [],
   "source": [
    "import pandas as pd\n",
    "import numpy as np\n",
    "import matplotlib.pyplot as plt \n",
    "import seaborn as sns "
   ]
  },
  {
   "cell_type": "markdown",
   "id": "3321cb95",
   "metadata": {},
   "source": [
    "## Tahap 3: Mengumpulkan Data"
   ]
  },
  {
   "cell_type": "markdown",
   "id": "d1e7566c",
   "metadata": {},
   "source": [
    "Pada tahap ini, lakukan pengumpulan data dari dataset yang telah ditentukan di atas"
   ]
  },
  {
   "cell_type": "code",
   "execution_count": 28,
   "id": "b2c6c6aa",
   "metadata": {},
   "outputs": [
    {
     "data": {
      "text/html": [
       "<div>\n",
       "<style scoped>\n",
       "    .dataframe tbody tr th:only-of-type {\n",
       "        vertical-align: middle;\n",
       "    }\n",
       "\n",
       "    .dataframe tbody tr th {\n",
       "        vertical-align: top;\n",
       "    }\n",
       "\n",
       "    .dataframe thead th {\n",
       "        text-align: right;\n",
       "    }\n",
       "</style>\n",
       "<table border=\"1\" class=\"dataframe\">\n",
       "  <thead>\n",
       "    <tr style=\"text-align: right;\">\n",
       "      <th></th>\n",
       "      <th>age</th>\n",
       "      <th>sex</th>\n",
       "      <th>bmi</th>\n",
       "      <th>children</th>\n",
       "      <th>smoker</th>\n",
       "      <th>region</th>\n",
       "      <th>charges</th>\n",
       "    </tr>\n",
       "  </thead>\n",
       "  <tbody>\n",
       "    <tr>\n",
       "      <th>0</th>\n",
       "      <td>'19</td>\n",
       "      <td>female</td>\n",
       "      <td>27.900</td>\n",
       "      <td>0</td>\n",
       "      <td>yes</td>\n",
       "      <td>southwest</td>\n",
       "      <td>16884.92400</td>\n",
       "    </tr>\n",
       "    <tr>\n",
       "      <th>1</th>\n",
       "      <td>18</td>\n",
       "      <td>male</td>\n",
       "      <td>33.770</td>\n",
       "      <td>1</td>\n",
       "      <td>no</td>\n",
       "      <td>southeast</td>\n",
       "      <td>1725.55230</td>\n",
       "    </tr>\n",
       "    <tr>\n",
       "      <th>2</th>\n",
       "      <td>28</td>\n",
       "      <td>male</td>\n",
       "      <td>33.000</td>\n",
       "      <td>3</td>\n",
       "      <td>no</td>\n",
       "      <td>southeast</td>\n",
       "      <td>4449.46200</td>\n",
       "    </tr>\n",
       "    <tr>\n",
       "      <th>3</th>\n",
       "      <td>33</td>\n",
       "      <td>male</td>\n",
       "      <td>22.705</td>\n",
       "      <td>0</td>\n",
       "      <td>no</td>\n",
       "      <td>northwest</td>\n",
       "      <td>21984.47061</td>\n",
       "    </tr>\n",
       "    <tr>\n",
       "      <th>4</th>\n",
       "      <td>32</td>\n",
       "      <td>male</td>\n",
       "      <td>28.880</td>\n",
       "      <td>0</td>\n",
       "      <td>no</td>\n",
       "      <td>northwest</td>\n",
       "      <td>3866.85520</td>\n",
       "    </tr>\n",
       "  </tbody>\n",
       "</table>\n",
       "</div>"
      ],
      "text/plain": [
       "   age     sex     bmi  children smoker     region      charges\n",
       "0  '19  female  27.900         0    yes  southwest  16884.92400\n",
       "1   18    male  33.770         1     no  southeast   1725.55230\n",
       "2   28    male  33.000         3     no  southeast   4449.46200\n",
       "3   33    male  22.705         0     no  northwest  21984.47061\n",
       "4   32    male  28.880         0     no  northwest   3866.85520"
      ]
     },
     "execution_count": 28,
     "metadata": {},
     "output_type": "execute_result"
    }
   ],
   "source": [
    "data_insurance = pd.read_excel(\"./insurance.xlsx\")\n",
    "data_insurance.head()"
   ]
  },
  {
   "cell_type": "markdown",
   "id": "5d1f1cb1",
   "metadata": {},
   "source": [
    "## Tahap 4: Menilai Data"
   ]
  },
  {
   "cell_type": "markdown",
   "id": "385bd108",
   "metadata": {},
   "source": [
    "Pada tahap ini bisa dilakukan pengecekan tipe data, missing value, duplikasi data, keanehan pada nilai statistik, dan sebagainya"
   ]
  },
  {
   "cell_type": "code",
   "execution_count": 29,
   "id": "b527a4bf",
   "metadata": {},
   "outputs": [
    {
     "name": "stdout",
     "output_type": "stream",
     "text": [
      "<class 'pandas.core.frame.DataFrame'>\n",
      "RangeIndex: 1338 entries, 0 to 1337\n",
      "Data columns (total 7 columns):\n",
      " #   Column    Non-Null Count  Dtype  \n",
      "---  ------    --------------  -----  \n",
      " 0   age       1338 non-null   object \n",
      " 1   sex       1325 non-null   object \n",
      " 2   bmi       1338 non-null   float64\n",
      " 3   children  1338 non-null   int64  \n",
      " 4   smoker    1338 non-null   object \n",
      " 5   region    1330 non-null   object \n",
      " 6   charges   1338 non-null   float64\n",
      "dtypes: float64(2), int64(1), object(4)\n",
      "memory usage: 73.3+ KB\n"
     ]
    }
   ],
   "source": [
    "data_insurance.info()"
   ]
  },
  {
   "cell_type": "code",
   "execution_count": 30,
   "id": "a297728d",
   "metadata": {},
   "outputs": [
    {
     "data": {
      "text/plain": [
       "age          0\n",
       "sex         13\n",
       "bmi          0\n",
       "children     0\n",
       "smoker       0\n",
       "region       8\n",
       "charges      0\n",
       "dtype: int64"
      ]
     },
     "execution_count": 30,
     "metadata": {},
     "output_type": "execute_result"
    }
   ],
   "source": [
    "data_insurance.isna().sum()"
   ]
  },
  {
   "cell_type": "code",
   "execution_count": 31,
   "id": "0c384727",
   "metadata": {},
   "outputs": [
    {
     "name": "stdout",
     "output_type": "stream",
     "text": [
      "Jumlah Duplikasi:  1\n"
     ]
    }
   ],
   "source": [
    "print('Jumlah Duplikasi: ',data_insurance.duplicated().sum())"
   ]
  },
  {
   "cell_type": "code",
   "execution_count": 32,
   "id": "743db1b7",
   "metadata": {},
   "outputs": [
    {
     "data": {
      "text/html": [
       "<div>\n",
       "<style scoped>\n",
       "    .dataframe tbody tr th:only-of-type {\n",
       "        vertical-align: middle;\n",
       "    }\n",
       "\n",
       "    .dataframe tbody tr th {\n",
       "        vertical-align: top;\n",
       "    }\n",
       "\n",
       "    .dataframe thead th {\n",
       "        text-align: right;\n",
       "    }\n",
       "</style>\n",
       "<table border=\"1\" class=\"dataframe\">\n",
       "  <thead>\n",
       "    <tr style=\"text-align: right;\">\n",
       "      <th></th>\n",
       "      <th>bmi</th>\n",
       "      <th>children</th>\n",
       "      <th>charges</th>\n",
       "    </tr>\n",
       "  </thead>\n",
       "  <tbody>\n",
       "    <tr>\n",
       "      <th>count</th>\n",
       "      <td>1338.000000</td>\n",
       "      <td>1338.000000</td>\n",
       "      <td>1338.000000</td>\n",
       "    </tr>\n",
       "    <tr>\n",
       "      <th>mean</th>\n",
       "      <td>30.663397</td>\n",
       "      <td>1.094918</td>\n",
       "      <td>13270.422265</td>\n",
       "    </tr>\n",
       "    <tr>\n",
       "      <th>std</th>\n",
       "      <td>6.098187</td>\n",
       "      <td>1.205493</td>\n",
       "      <td>12110.011237</td>\n",
       "    </tr>\n",
       "    <tr>\n",
       "      <th>min</th>\n",
       "      <td>15.960000</td>\n",
       "      <td>0.000000</td>\n",
       "      <td>1121.873900</td>\n",
       "    </tr>\n",
       "    <tr>\n",
       "      <th>25%</th>\n",
       "      <td>26.296250</td>\n",
       "      <td>0.000000</td>\n",
       "      <td>4740.287150</td>\n",
       "    </tr>\n",
       "    <tr>\n",
       "      <th>50%</th>\n",
       "      <td>30.400000</td>\n",
       "      <td>1.000000</td>\n",
       "      <td>9382.033000</td>\n",
       "    </tr>\n",
       "    <tr>\n",
       "      <th>75%</th>\n",
       "      <td>34.693750</td>\n",
       "      <td>2.000000</td>\n",
       "      <td>16639.912515</td>\n",
       "    </tr>\n",
       "    <tr>\n",
       "      <th>max</th>\n",
       "      <td>53.130000</td>\n",
       "      <td>5.000000</td>\n",
       "      <td>63770.428010</td>\n",
       "    </tr>\n",
       "  </tbody>\n",
       "</table>\n",
       "</div>"
      ],
      "text/plain": [
       "               bmi     children       charges\n",
       "count  1338.000000  1338.000000   1338.000000\n",
       "mean     30.663397     1.094918  13270.422265\n",
       "std       6.098187     1.205493  12110.011237\n",
       "min      15.960000     0.000000   1121.873900\n",
       "25%      26.296250     0.000000   4740.287150\n",
       "50%      30.400000     1.000000   9382.033000\n",
       "75%      34.693750     2.000000  16639.912515\n",
       "max      53.130000     5.000000  63770.428010"
      ]
     },
     "execution_count": 32,
     "metadata": {},
     "output_type": "execute_result"
    }
   ],
   "source": [
    "data_insurance.describe()"
   ]
  },
  {
   "cell_type": "markdown",
   "id": "1c711f0c",
   "metadata": {},
   "source": [
    "## Tahap 5: Membersihkan Data"
   ]
  },
  {
   "cell_type": "markdown",
   "id": "54a3da91",
   "metadata": {},
   "source": [
    "Pada tahap ini bisa dilakukan penghapusan terhadap kolom yang tidak dibutuhkan, mengubah tipe data yang tidak sesuai, melakukan transformasi data, menambah kolom yang dibutuhkan, dan sebagainya"
   ]
  },
  {
   "cell_type": "markdown",
   "id": "c34886b9",
   "metadata": {},
   "source": [
    "#### Menghapus Duplikasi Data"
   ]
  },
  {
   "cell_type": "code",
   "execution_count": 33,
   "id": "ea93aec7",
   "metadata": {},
   "outputs": [
    {
     "data": {
      "text/plain": [
       "1"
      ]
     },
     "execution_count": 33,
     "metadata": {},
     "output_type": "execute_result"
    }
   ],
   "source": [
    "data_insurance.duplicated().sum()"
   ]
  },
  {
   "cell_type": "code",
   "execution_count": 34,
   "id": "59c49f7a",
   "metadata": {},
   "outputs": [],
   "source": [
    "data_insurance.drop_duplicates(inplace=True)"
   ]
  },
  {
   "cell_type": "code",
   "execution_count": 35,
   "id": "a648e869",
   "metadata": {},
   "outputs": [
    {
     "name": "stdout",
     "output_type": "stream",
     "text": [
      "Jumlah Duplikasi:  0\n"
     ]
    }
   ],
   "source": [
    "print('Jumlah Duplikasi: ',data_insurance.duplicated().sum())"
   ]
  },
  {
   "cell_type": "markdown",
   "id": "53679125",
   "metadata": {},
   "source": [
    "#### Missing Values"
   ]
  },
  {
   "cell_type": "code",
   "execution_count": 36,
   "id": "f7cc78ce",
   "metadata": {},
   "outputs": [
    {
     "data": {
      "text/plain": [
       "age          0\n",
       "sex         13\n",
       "bmi          0\n",
       "children     0\n",
       "smoker       0\n",
       "region       8\n",
       "charges      0\n",
       "dtype: int64"
      ]
     },
     "execution_count": 36,
     "metadata": {},
     "output_type": "execute_result"
    }
   ],
   "source": [
    "data_insurance.isna().sum()"
   ]
  },
  {
   "cell_type": "code",
   "execution_count": 37,
   "id": "0c40e187",
   "metadata": {},
   "outputs": [
    {
     "data": {
      "text/html": [
       "<div>\n",
       "<style scoped>\n",
       "    .dataframe tbody tr th:only-of-type {\n",
       "        vertical-align: middle;\n",
       "    }\n",
       "\n",
       "    .dataframe tbody tr th {\n",
       "        vertical-align: top;\n",
       "    }\n",
       "\n",
       "    .dataframe thead th {\n",
       "        text-align: right;\n",
       "    }\n",
       "</style>\n",
       "<table border=\"1\" class=\"dataframe\">\n",
       "  <thead>\n",
       "    <tr style=\"text-align: right;\">\n",
       "      <th></th>\n",
       "      <th>age</th>\n",
       "      <th>sex</th>\n",
       "      <th>bmi</th>\n",
       "      <th>children</th>\n",
       "      <th>smoker</th>\n",
       "      <th>region</th>\n",
       "      <th>charges</th>\n",
       "    </tr>\n",
       "  </thead>\n",
       "  <tbody>\n",
       "    <tr>\n",
       "      <th>19</th>\n",
       "      <td>30</td>\n",
       "      <td>NaN</td>\n",
       "      <td>35.300</td>\n",
       "      <td>0</td>\n",
       "      <td>yes</td>\n",
       "      <td>southwest</td>\n",
       "      <td>36837.46700</td>\n",
       "    </tr>\n",
       "    <tr>\n",
       "      <th>64</th>\n",
       "      <td>20</td>\n",
       "      <td>NaN</td>\n",
       "      <td>22.420</td>\n",
       "      <td>0</td>\n",
       "      <td>yes</td>\n",
       "      <td>northwest</td>\n",
       "      <td>14711.74380</td>\n",
       "    </tr>\n",
       "    <tr>\n",
       "      <th>136</th>\n",
       "      <td>19</td>\n",
       "      <td>NaN</td>\n",
       "      <td>34.100</td>\n",
       "      <td>0</td>\n",
       "      <td>no</td>\n",
       "      <td>southwest</td>\n",
       "      <td>1261.44200</td>\n",
       "    </tr>\n",
       "    <tr>\n",
       "      <th>227</th>\n",
       "      <td>58</td>\n",
       "      <td>NaN</td>\n",
       "      <td>41.910</td>\n",
       "      <td>0</td>\n",
       "      <td>no</td>\n",
       "      <td>southeast</td>\n",
       "      <td>24227.33724</td>\n",
       "    </tr>\n",
       "    <tr>\n",
       "      <th>273</th>\n",
       "      <td>50</td>\n",
       "      <td>NaN</td>\n",
       "      <td>27.455</td>\n",
       "      <td>1</td>\n",
       "      <td>no</td>\n",
       "      <td>northeast</td>\n",
       "      <td>9617.66245</td>\n",
       "    </tr>\n",
       "    <tr>\n",
       "      <th>331</th>\n",
       "      <td>52</td>\n",
       "      <td>NaN</td>\n",
       "      <td>27.360</td>\n",
       "      <td>0</td>\n",
       "      <td>yes</td>\n",
       "      <td>northwest</td>\n",
       "      <td>24393.62240</td>\n",
       "    </tr>\n",
       "    <tr>\n",
       "      <th>383</th>\n",
       "      <td>35</td>\n",
       "      <td>NaN</td>\n",
       "      <td>43.340</td>\n",
       "      <td>2</td>\n",
       "      <td>no</td>\n",
       "      <td>southeast</td>\n",
       "      <td>5846.91760</td>\n",
       "    </tr>\n",
       "    <tr>\n",
       "      <th>444</th>\n",
       "      <td>56</td>\n",
       "      <td>NaN</td>\n",
       "      <td>26.695</td>\n",
       "      <td>1</td>\n",
       "      <td>yes</td>\n",
       "      <td>northwest</td>\n",
       "      <td>26109.32905</td>\n",
       "    </tr>\n",
       "    <tr>\n",
       "      <th>490</th>\n",
       "      <td>19</td>\n",
       "      <td>NaN</td>\n",
       "      <td>32.900</td>\n",
       "      <td>0</td>\n",
       "      <td>no</td>\n",
       "      <td>southwest</td>\n",
       "      <td>1748.77400</td>\n",
       "    </tr>\n",
       "    <tr>\n",
       "      <th>563</th>\n",
       "      <td>50</td>\n",
       "      <td>NaN</td>\n",
       "      <td>44.770</td>\n",
       "      <td>1</td>\n",
       "      <td>no</td>\n",
       "      <td>southeast</td>\n",
       "      <td>9058.73030</td>\n",
       "    </tr>\n",
       "    <tr>\n",
       "      <th>610</th>\n",
       "      <td>47</td>\n",
       "      <td>NaN</td>\n",
       "      <td>29.370</td>\n",
       "      <td>1</td>\n",
       "      <td>no</td>\n",
       "      <td>southeast</td>\n",
       "      <td>8547.69130</td>\n",
       "    </tr>\n",
       "    <tr>\n",
       "      <th>639</th>\n",
       "      <td>56</td>\n",
       "      <td>NaN</td>\n",
       "      <td>33.660</td>\n",
       "      <td>4</td>\n",
       "      <td>no</td>\n",
       "      <td>southeast</td>\n",
       "      <td>12949.15540</td>\n",
       "    </tr>\n",
       "    <tr>\n",
       "      <th>680</th>\n",
       "      <td>21</td>\n",
       "      <td>NaN</td>\n",
       "      <td>17.400</td>\n",
       "      <td>1</td>\n",
       "      <td>no</td>\n",
       "      <td>southwest</td>\n",
       "      <td>2585.26900</td>\n",
       "    </tr>\n",
       "  </tbody>\n",
       "</table>\n",
       "</div>"
      ],
      "text/plain": [
       "    age  sex     bmi  children smoker     region      charges\n",
       "19   30  NaN  35.300         0    yes  southwest  36837.46700\n",
       "64   20  NaN  22.420         0    yes  northwest  14711.74380\n",
       "136  19  NaN  34.100         0     no  southwest   1261.44200\n",
       "227  58  NaN  41.910         0     no  southeast  24227.33724\n",
       "273  50  NaN  27.455         1     no  northeast   9617.66245\n",
       "331  52  NaN  27.360         0    yes  northwest  24393.62240\n",
       "383  35  NaN  43.340         2     no  southeast   5846.91760\n",
       "444  56  NaN  26.695         1    yes  northwest  26109.32905\n",
       "490  19  NaN  32.900         0     no  southwest   1748.77400\n",
       "563  50  NaN  44.770         1     no  southeast   9058.73030\n",
       "610  47  NaN  29.370         1     no  southeast   8547.69130\n",
       "639  56  NaN  33.660         4     no  southeast  12949.15540\n",
       "680  21  NaN  17.400         1     no  southwest   2585.26900"
      ]
     },
     "execution_count": 37,
     "metadata": {},
     "output_type": "execute_result"
    }
   ],
   "source": [
    "data_insurance[data_insurance.sex.isna()]"
   ]
  },
  {
   "cell_type": "code",
   "execution_count": 38,
   "id": "4d4f2eb5",
   "metadata": {},
   "outputs": [
    {
     "data": {
      "text/plain": [
       "sex\n",
       "male      668\n",
       "female    656\n",
       "Name: count, dtype: int64"
      ]
     },
     "execution_count": 38,
     "metadata": {},
     "output_type": "execute_result"
    }
   ],
   "source": [
    "data_insurance.sex.value_counts()"
   ]
  },
  {
   "cell_type": "code",
   "execution_count": 39,
   "id": "049023b3",
   "metadata": {},
   "outputs": [
    {
     "data": {
      "text/plain": [
       "region\n",
       "southeast    361\n",
       "southwest    325\n",
       "northeast    322\n",
       "northwest    321\n",
       "Name: count, dtype: int64"
      ]
     },
     "execution_count": 39,
     "metadata": {},
     "output_type": "execute_result"
    }
   ],
   "source": [
    "data_insurance.region.value_counts()"
   ]
  },
  {
   "cell_type": "code",
   "execution_count": 40,
   "id": "a072bf51",
   "metadata": {},
   "outputs": [],
   "source": [
    "data_insurance.fillna(value=\" \", inplace=True)"
   ]
  },
  {
   "cell_type": "code",
   "execution_count": 41,
   "id": "a739b68c",
   "metadata": {},
   "outputs": [
    {
     "data": {
      "text/plain": [
       "age         0\n",
       "sex         0\n",
       "bmi         0\n",
       "children    0\n",
       "smoker      0\n",
       "region      0\n",
       "charges     0\n",
       "dtype: int64"
      ]
     },
     "execution_count": 41,
     "metadata": {},
     "output_type": "execute_result"
    }
   ],
   "source": [
    "data_insurance.isna().sum()"
   ]
  },
  {
   "cell_type": "markdown",
   "id": "f7450f55",
   "metadata": {},
   "source": [
    "#### Innacurate values"
   ]
  },
  {
   "cell_type": "code",
   "execution_count": 42,
   "id": "71765462",
   "metadata": {},
   "outputs": [
    {
     "data": {
      "text/html": [
       "<div>\n",
       "<style scoped>\n",
       "    .dataframe tbody tr th:only-of-type {\n",
       "        vertical-align: middle;\n",
       "    }\n",
       "\n",
       "    .dataframe tbody tr th {\n",
       "        vertical-align: top;\n",
       "    }\n",
       "\n",
       "    .dataframe thead th {\n",
       "        text-align: right;\n",
       "    }\n",
       "</style>\n",
       "<table border=\"1\" class=\"dataframe\">\n",
       "  <thead>\n",
       "    <tr style=\"text-align: right;\">\n",
       "      <th></th>\n",
       "      <th>bmi</th>\n",
       "      <th>children</th>\n",
       "      <th>charges</th>\n",
       "    </tr>\n",
       "  </thead>\n",
       "  <tbody>\n",
       "    <tr>\n",
       "      <th>count</th>\n",
       "      <td>1337.000000</td>\n",
       "      <td>1337.000000</td>\n",
       "      <td>1337.000000</td>\n",
       "    </tr>\n",
       "    <tr>\n",
       "      <th>mean</th>\n",
       "      <td>30.663452</td>\n",
       "      <td>1.095737</td>\n",
       "      <td>13279.121487</td>\n",
       "    </tr>\n",
       "    <tr>\n",
       "      <th>std</th>\n",
       "      <td>6.100468</td>\n",
       "      <td>1.205571</td>\n",
       "      <td>12110.359656</td>\n",
       "    </tr>\n",
       "    <tr>\n",
       "      <th>min</th>\n",
       "      <td>15.960000</td>\n",
       "      <td>0.000000</td>\n",
       "      <td>1121.873900</td>\n",
       "    </tr>\n",
       "    <tr>\n",
       "      <th>25%</th>\n",
       "      <td>26.290000</td>\n",
       "      <td>0.000000</td>\n",
       "      <td>4746.344000</td>\n",
       "    </tr>\n",
       "    <tr>\n",
       "      <th>50%</th>\n",
       "      <td>30.400000</td>\n",
       "      <td>1.000000</td>\n",
       "      <td>9386.161300</td>\n",
       "    </tr>\n",
       "    <tr>\n",
       "      <th>75%</th>\n",
       "      <td>34.700000</td>\n",
       "      <td>2.000000</td>\n",
       "      <td>16657.717450</td>\n",
       "    </tr>\n",
       "    <tr>\n",
       "      <th>max</th>\n",
       "      <td>53.130000</td>\n",
       "      <td>5.000000</td>\n",
       "      <td>63770.428010</td>\n",
       "    </tr>\n",
       "  </tbody>\n",
       "</table>\n",
       "</div>"
      ],
      "text/plain": [
       "               bmi     children       charges\n",
       "count  1337.000000  1337.000000   1337.000000\n",
       "mean     30.663452     1.095737  13279.121487\n",
       "std       6.100468     1.205571  12110.359656\n",
       "min      15.960000     0.000000   1121.873900\n",
       "25%      26.290000     0.000000   4746.344000\n",
       "50%      30.400000     1.000000   9386.161300\n",
       "75%      34.700000     2.000000  16657.717450\n",
       "max      53.130000     5.000000  63770.428010"
      ]
     },
     "execution_count": 42,
     "metadata": {},
     "output_type": "execute_result"
    }
   ],
   "source": [
    "data_insurance.describe()"
   ]
  },
  {
   "cell_type": "markdown",
   "id": "deb35b39",
   "metadata": {},
   "source": [
    "#### Memperbaiki Tipe Data"
   ]
  },
  {
   "cell_type": "code",
   "execution_count": 43,
   "id": "c1283412",
   "metadata": {},
   "outputs": [],
   "source": [
    "data_insurance['age'] = data_insurance['age'].apply(lambda x: int(x.strip(\"'\")) if isinstance(x, str) else x)"
   ]
  },
  {
   "cell_type": "code",
   "execution_count": 44,
   "id": "7794d821",
   "metadata": {},
   "outputs": [
    {
     "name": "stdout",
     "output_type": "stream",
     "text": [
      "<class 'pandas.core.frame.DataFrame'>\n",
      "Index: 1337 entries, 0 to 1337\n",
      "Data columns (total 7 columns):\n",
      " #   Column    Non-Null Count  Dtype  \n",
      "---  ------    --------------  -----  \n",
      " 0   age       1337 non-null   int64  \n",
      " 1   sex       1337 non-null   object \n",
      " 2   bmi       1337 non-null   float64\n",
      " 3   children  1337 non-null   int64  \n",
      " 4   smoker    1337 non-null   object \n",
      " 5   region    1337 non-null   object \n",
      " 6   charges   1337 non-null   float64\n",
      "dtypes: float64(2), int64(2), object(3)\n",
      "memory usage: 83.6+ KB\n"
     ]
    }
   ],
   "source": [
    "data_insurance.info()"
   ]
  },
  {
   "cell_type": "markdown",
   "id": "ec44eac4",
   "metadata": {},
   "source": [
    "#### Menambahkan Kolom Baru"
   ]
  },
  {
   "cell_type": "code",
   "execution_count": 45,
   "id": "9ef0924e",
   "metadata": {},
   "outputs": [],
   "source": [
    "data_insurance.insert(0, 'id', range(1, 1+len(data_insurance)))"
   ]
  },
  {
   "cell_type": "code",
   "execution_count": 46,
   "id": "198e8e4d",
   "metadata": {},
   "outputs": [
    {
     "data": {
      "text/html": [
       "<div>\n",
       "<style scoped>\n",
       "    .dataframe tbody tr th:only-of-type {\n",
       "        vertical-align: middle;\n",
       "    }\n",
       "\n",
       "    .dataframe tbody tr th {\n",
       "        vertical-align: top;\n",
       "    }\n",
       "\n",
       "    .dataframe thead th {\n",
       "        text-align: right;\n",
       "    }\n",
       "</style>\n",
       "<table border=\"1\" class=\"dataframe\">\n",
       "  <thead>\n",
       "    <tr style=\"text-align: right;\">\n",
       "      <th></th>\n",
       "      <th>id</th>\n",
       "      <th>age</th>\n",
       "      <th>sex</th>\n",
       "      <th>bmi</th>\n",
       "      <th>children</th>\n",
       "      <th>smoker</th>\n",
       "      <th>region</th>\n",
       "      <th>charges</th>\n",
       "    </tr>\n",
       "  </thead>\n",
       "  <tbody>\n",
       "    <tr>\n",
       "      <th>0</th>\n",
       "      <td>1</td>\n",
       "      <td>19</td>\n",
       "      <td>female</td>\n",
       "      <td>27.900</td>\n",
       "      <td>0</td>\n",
       "      <td>yes</td>\n",
       "      <td>southwest</td>\n",
       "      <td>16884.92400</td>\n",
       "    </tr>\n",
       "    <tr>\n",
       "      <th>1</th>\n",
       "      <td>2</td>\n",
       "      <td>18</td>\n",
       "      <td>male</td>\n",
       "      <td>33.770</td>\n",
       "      <td>1</td>\n",
       "      <td>no</td>\n",
       "      <td>southeast</td>\n",
       "      <td>1725.55230</td>\n",
       "    </tr>\n",
       "    <tr>\n",
       "      <th>2</th>\n",
       "      <td>3</td>\n",
       "      <td>28</td>\n",
       "      <td>male</td>\n",
       "      <td>33.000</td>\n",
       "      <td>3</td>\n",
       "      <td>no</td>\n",
       "      <td>southeast</td>\n",
       "      <td>4449.46200</td>\n",
       "    </tr>\n",
       "    <tr>\n",
       "      <th>3</th>\n",
       "      <td>4</td>\n",
       "      <td>33</td>\n",
       "      <td>male</td>\n",
       "      <td>22.705</td>\n",
       "      <td>0</td>\n",
       "      <td>no</td>\n",
       "      <td>northwest</td>\n",
       "      <td>21984.47061</td>\n",
       "    </tr>\n",
       "    <tr>\n",
       "      <th>4</th>\n",
       "      <td>5</td>\n",
       "      <td>32</td>\n",
       "      <td>male</td>\n",
       "      <td>28.880</td>\n",
       "      <td>0</td>\n",
       "      <td>no</td>\n",
       "      <td>northwest</td>\n",
       "      <td>3866.85520</td>\n",
       "    </tr>\n",
       "  </tbody>\n",
       "</table>\n",
       "</div>"
      ],
      "text/plain": [
       "   id  age     sex     bmi  children smoker     region      charges\n",
       "0   1   19  female  27.900         0    yes  southwest  16884.92400\n",
       "1   2   18    male  33.770         1     no  southeast   1725.55230\n",
       "2   3   28    male  33.000         3     no  southeast   4449.46200\n",
       "3   4   33    male  22.705         0     no  northwest  21984.47061\n",
       "4   5   32    male  28.880         0     no  northwest   3866.85520"
      ]
     },
     "execution_count": 46,
     "metadata": {},
     "output_type": "execute_result"
    }
   ],
   "source": [
    "data_insurance.head()"
   ]
  },
  {
   "cell_type": "markdown",
   "id": "540831c5",
   "metadata": {},
   "source": [
    "## Tahap 6: Mengeksplorasi dan Menganalisis Data"
   ]
  },
  {
   "cell_type": "markdown",
   "id": "8a23f9fa",
   "metadata": {},
   "source": [
    "Pada tahap ini bisa dilakukan pengelompokkan terhadap data berdasarkan kolom tertentu untuk dianalisis, mencari hubungan di antara kolom, melakukan filtrasi data, dan sebagainya"
   ]
  },
  {
   "cell_type": "code",
   "execution_count": 47,
   "id": "952006cf",
   "metadata": {},
   "outputs": [
    {
     "data": {
      "text/html": [
       "<div>\n",
       "<style scoped>\n",
       "    .dataframe tbody tr th:only-of-type {\n",
       "        vertical-align: middle;\n",
       "    }\n",
       "\n",
       "    .dataframe tbody tr th {\n",
       "        vertical-align: top;\n",
       "    }\n",
       "\n",
       "    .dataframe thead th {\n",
       "        text-align: right;\n",
       "    }\n",
       "</style>\n",
       "<table border=\"1\" class=\"dataframe\">\n",
       "  <thead>\n",
       "    <tr style=\"text-align: right;\">\n",
       "      <th></th>\n",
       "      <th>id</th>\n",
       "      <th>age</th>\n",
       "      <th>sex</th>\n",
       "      <th>bmi</th>\n",
       "      <th>children</th>\n",
       "      <th>smoker</th>\n",
       "      <th>region</th>\n",
       "      <th>charges</th>\n",
       "    </tr>\n",
       "  </thead>\n",
       "  <tbody>\n",
       "    <tr>\n",
       "      <th>541</th>\n",
       "      <td>542</td>\n",
       "      <td>20</td>\n",
       "      <td>female</td>\n",
       "      <td>31.79</td>\n",
       "      <td>2</td>\n",
       "      <td>no</td>\n",
       "      <td>southeast</td>\n",
       "      <td>3056.38810</td>\n",
       "    </tr>\n",
       "    <tr>\n",
       "      <th>1185</th>\n",
       "      <td>1185</td>\n",
       "      <td>45</td>\n",
       "      <td>male</td>\n",
       "      <td>23.56</td>\n",
       "      <td>2</td>\n",
       "      <td>no</td>\n",
       "      <td>northeast</td>\n",
       "      <td>8603.82340</td>\n",
       "    </tr>\n",
       "    <tr>\n",
       "      <th>498</th>\n",
       "      <td>499</td>\n",
       "      <td>44</td>\n",
       "      <td>female</td>\n",
       "      <td>23.98</td>\n",
       "      <td>2</td>\n",
       "      <td>no</td>\n",
       "      <td>southeast</td>\n",
       "      <td>8211.10020</td>\n",
       "    </tr>\n",
       "    <tr>\n",
       "      <th>219</th>\n",
       "      <td>220</td>\n",
       "      <td>24</td>\n",
       "      <td>female</td>\n",
       "      <td>23.21</td>\n",
       "      <td>0</td>\n",
       "      <td>no</td>\n",
       "      <td>southeast</td>\n",
       "      <td>25081.76784</td>\n",
       "    </tr>\n",
       "    <tr>\n",
       "      <th>845</th>\n",
       "      <td>845</td>\n",
       "      <td>60</td>\n",
       "      <td>female</td>\n",
       "      <td>32.45</td>\n",
       "      <td>0</td>\n",
       "      <td>yes</td>\n",
       "      <td>southeast</td>\n",
       "      <td>45008.95550</td>\n",
       "    </tr>\n",
       "  </tbody>\n",
       "</table>\n",
       "</div>"
      ],
      "text/plain": [
       "        id  age     sex    bmi  children smoker     region      charges\n",
       "541    542   20  female  31.79         2     no  southeast   3056.38810\n",
       "1185  1185   45    male  23.56         2     no  northeast   8603.82340\n",
       "498    499   44  female  23.98         2     no  southeast   8211.10020\n",
       "219    220   24  female  23.21         0     no  southeast  25081.76784\n",
       "845    845   60  female  32.45         0    yes  southeast  45008.95550"
      ]
     },
     "execution_count": 47,
     "metadata": {},
     "output_type": "execute_result"
    }
   ],
   "source": [
    "# Berikan penjelasan/kesimpulan untuk setiap analisis data yang telah dilakukan\n",
    "data_insurance.sample(5)"
   ]
  },
  {
   "cell_type": "code",
   "execution_count": 48,
   "id": "ee67d660",
   "metadata": {},
   "outputs": [
    {
     "data": {
      "text/html": [
       "<div>\n",
       "<style scoped>\n",
       "    .dataframe tbody tr th:only-of-type {\n",
       "        vertical-align: middle;\n",
       "    }\n",
       "\n",
       "    .dataframe tbody tr th {\n",
       "        vertical-align: top;\n",
       "    }\n",
       "\n",
       "    .dataframe thead th {\n",
       "        text-align: right;\n",
       "    }\n",
       "</style>\n",
       "<table border=\"1\" class=\"dataframe\">\n",
       "  <thead>\n",
       "    <tr style=\"text-align: right;\">\n",
       "      <th></th>\n",
       "      <th>id</th>\n",
       "      <th>age</th>\n",
       "      <th>sex</th>\n",
       "      <th>bmi</th>\n",
       "      <th>children</th>\n",
       "      <th>smoker</th>\n",
       "      <th>region</th>\n",
       "      <th>charges</th>\n",
       "    </tr>\n",
       "  </thead>\n",
       "  <tbody>\n",
       "    <tr>\n",
       "      <th>count</th>\n",
       "      <td>1337.000000</td>\n",
       "      <td>1337.000000</td>\n",
       "      <td>1337</td>\n",
       "      <td>1337.000000</td>\n",
       "      <td>1337.000000</td>\n",
       "      <td>1337</td>\n",
       "      <td>1337</td>\n",
       "      <td>1337.000000</td>\n",
       "    </tr>\n",
       "    <tr>\n",
       "      <th>unique</th>\n",
       "      <td>NaN</td>\n",
       "      <td>NaN</td>\n",
       "      <td>3</td>\n",
       "      <td>NaN</td>\n",
       "      <td>NaN</td>\n",
       "      <td>2</td>\n",
       "      <td>5</td>\n",
       "      <td>NaN</td>\n",
       "    </tr>\n",
       "    <tr>\n",
       "      <th>top</th>\n",
       "      <td>NaN</td>\n",
       "      <td>NaN</td>\n",
       "      <td>male</td>\n",
       "      <td>NaN</td>\n",
       "      <td>NaN</td>\n",
       "      <td>no</td>\n",
       "      <td>southeast</td>\n",
       "      <td>NaN</td>\n",
       "    </tr>\n",
       "    <tr>\n",
       "      <th>freq</th>\n",
       "      <td>NaN</td>\n",
       "      <td>NaN</td>\n",
       "      <td>668</td>\n",
       "      <td>NaN</td>\n",
       "      <td>NaN</td>\n",
       "      <td>1063</td>\n",
       "      <td>361</td>\n",
       "      <td>NaN</td>\n",
       "    </tr>\n",
       "    <tr>\n",
       "      <th>mean</th>\n",
       "      <td>669.000000</td>\n",
       "      <td>39.222139</td>\n",
       "      <td>NaN</td>\n",
       "      <td>30.663452</td>\n",
       "      <td>1.095737</td>\n",
       "      <td>NaN</td>\n",
       "      <td>NaN</td>\n",
       "      <td>13279.121487</td>\n",
       "    </tr>\n",
       "    <tr>\n",
       "      <th>std</th>\n",
       "      <td>386.102966</td>\n",
       "      <td>14.044333</td>\n",
       "      <td>NaN</td>\n",
       "      <td>6.100468</td>\n",
       "      <td>1.205571</td>\n",
       "      <td>NaN</td>\n",
       "      <td>NaN</td>\n",
       "      <td>12110.359656</td>\n",
       "    </tr>\n",
       "    <tr>\n",
       "      <th>min</th>\n",
       "      <td>1.000000</td>\n",
       "      <td>18.000000</td>\n",
       "      <td>NaN</td>\n",
       "      <td>15.960000</td>\n",
       "      <td>0.000000</td>\n",
       "      <td>NaN</td>\n",
       "      <td>NaN</td>\n",
       "      <td>1121.873900</td>\n",
       "    </tr>\n",
       "    <tr>\n",
       "      <th>25%</th>\n",
       "      <td>335.000000</td>\n",
       "      <td>27.000000</td>\n",
       "      <td>NaN</td>\n",
       "      <td>26.290000</td>\n",
       "      <td>0.000000</td>\n",
       "      <td>NaN</td>\n",
       "      <td>NaN</td>\n",
       "      <td>4746.344000</td>\n",
       "    </tr>\n",
       "    <tr>\n",
       "      <th>50%</th>\n",
       "      <td>669.000000</td>\n",
       "      <td>39.000000</td>\n",
       "      <td>NaN</td>\n",
       "      <td>30.400000</td>\n",
       "      <td>1.000000</td>\n",
       "      <td>NaN</td>\n",
       "      <td>NaN</td>\n",
       "      <td>9386.161300</td>\n",
       "    </tr>\n",
       "    <tr>\n",
       "      <th>75%</th>\n",
       "      <td>1003.000000</td>\n",
       "      <td>51.000000</td>\n",
       "      <td>NaN</td>\n",
       "      <td>34.700000</td>\n",
       "      <td>2.000000</td>\n",
       "      <td>NaN</td>\n",
       "      <td>NaN</td>\n",
       "      <td>16657.717450</td>\n",
       "    </tr>\n",
       "    <tr>\n",
       "      <th>max</th>\n",
       "      <td>1337.000000</td>\n",
       "      <td>64.000000</td>\n",
       "      <td>NaN</td>\n",
       "      <td>53.130000</td>\n",
       "      <td>5.000000</td>\n",
       "      <td>NaN</td>\n",
       "      <td>NaN</td>\n",
       "      <td>63770.428010</td>\n",
       "    </tr>\n",
       "  </tbody>\n",
       "</table>\n",
       "</div>"
      ],
      "text/plain": [
       "                 id          age   sex          bmi     children smoker  \\\n",
       "count   1337.000000  1337.000000  1337  1337.000000  1337.000000   1337   \n",
       "unique          NaN          NaN     3          NaN          NaN      2   \n",
       "top             NaN          NaN  male          NaN          NaN     no   \n",
       "freq            NaN          NaN   668          NaN          NaN   1063   \n",
       "mean     669.000000    39.222139   NaN    30.663452     1.095737    NaN   \n",
       "std      386.102966    14.044333   NaN     6.100468     1.205571    NaN   \n",
       "min        1.000000    18.000000   NaN    15.960000     0.000000    NaN   \n",
       "25%      335.000000    27.000000   NaN    26.290000     0.000000    NaN   \n",
       "50%      669.000000    39.000000   NaN    30.400000     1.000000    NaN   \n",
       "75%     1003.000000    51.000000   NaN    34.700000     2.000000    NaN   \n",
       "max     1337.000000    64.000000   NaN    53.130000     5.000000    NaN   \n",
       "\n",
       "           region       charges  \n",
       "count        1337   1337.000000  \n",
       "unique          5           NaN  \n",
       "top     southeast           NaN  \n",
       "freq          361           NaN  \n",
       "mean          NaN  13279.121487  \n",
       "std           NaN  12110.359656  \n",
       "min           NaN   1121.873900  \n",
       "25%           NaN   4746.344000  \n",
       "50%           NaN   9386.161300  \n",
       "75%           NaN  16657.717450  \n",
       "max           NaN  63770.428010  "
      ]
     },
     "execution_count": 48,
     "metadata": {},
     "output_type": "execute_result"
    }
   ],
   "source": [
    "data_insurance.describe(include=\"all\")"
   ]
  },
  {
   "cell_type": "code",
   "execution_count": 49,
   "id": "d1047c5b",
   "metadata": {},
   "outputs": [
    {
     "data": {
      "text/plain": [
       "True"
      ]
     },
     "execution_count": 49,
     "metadata": {},
     "output_type": "execute_result"
    }
   ],
   "source": [
    "data_insurance.id.is_unique"
   ]
  },
  {
   "cell_type": "code",
   "execution_count": 50,
   "id": "965c2501",
   "metadata": {},
   "outputs": [
    {
     "data": {
      "text/plain": [
       "<bound method Series.duplicated of 0          1\n",
       "1          2\n",
       "2          3\n",
       "3          4\n",
       "4          5\n",
       "        ... \n",
       "1333    1333\n",
       "1334    1334\n",
       "1335    1335\n",
       "1336    1336\n",
       "1337    1337\n",
       "Name: id, Length: 1337, dtype: int64>"
      ]
     },
     "execution_count": 50,
     "metadata": {},
     "output_type": "execute_result"
    }
   ],
   "source": [
    "data_insurance.id.duplicated"
   ]
  },
  {
   "cell_type": "code",
   "execution_count": 57,
   "id": "f9d2b46e",
   "metadata": {},
   "outputs": [],
   "source": [
    "data_insurance['age_group'] = data_insurance['age'].apply(lambda x: \"Teen\" if x <=21 else (\"Mature\" if x > 60 else \"Elderly\"))\n"
   ]
  },
  {
   "cell_type": "code",
   "execution_count": 56,
   "id": "ff4bc247",
   "metadata": {},
   "outputs": [
    {
     "data": {
      "text/html": [
       "<div>\n",
       "<style scoped>\n",
       "    .dataframe tbody tr th:only-of-type {\n",
       "        vertical-align: middle;\n",
       "    }\n",
       "\n",
       "    .dataframe tbody tr th {\n",
       "        vertical-align: top;\n",
       "    }\n",
       "\n",
       "    .dataframe thead th {\n",
       "        text-align: right;\n",
       "    }\n",
       "</style>\n",
       "<table border=\"1\" class=\"dataframe\">\n",
       "  <thead>\n",
       "    <tr style=\"text-align: right;\">\n",
       "      <th></th>\n",
       "      <th>id</th>\n",
       "      <th>age</th>\n",
       "      <th>sex</th>\n",
       "      <th>bmi</th>\n",
       "      <th>children</th>\n",
       "      <th>smoker</th>\n",
       "      <th>region</th>\n",
       "      <th>charges</th>\n",
       "      <th>age_group</th>\n",
       "    </tr>\n",
       "  </thead>\n",
       "  <tbody>\n",
       "    <tr>\n",
       "      <th>0</th>\n",
       "      <td>1</td>\n",
       "      <td>19</td>\n",
       "      <td>female</td>\n",
       "      <td>27.900</td>\n",
       "      <td>0</td>\n",
       "      <td>yes</td>\n",
       "      <td>southwest</td>\n",
       "      <td>16884.92400</td>\n",
       "      <td>Teen</td>\n",
       "    </tr>\n",
       "    <tr>\n",
       "      <th>1</th>\n",
       "      <td>2</td>\n",
       "      <td>18</td>\n",
       "      <td>male</td>\n",
       "      <td>33.770</td>\n",
       "      <td>1</td>\n",
       "      <td>no</td>\n",
       "      <td>southeast</td>\n",
       "      <td>1725.55230</td>\n",
       "      <td>Teen</td>\n",
       "    </tr>\n",
       "    <tr>\n",
       "      <th>2</th>\n",
       "      <td>3</td>\n",
       "      <td>28</td>\n",
       "      <td>male</td>\n",
       "      <td>33.000</td>\n",
       "      <td>3</td>\n",
       "      <td>no</td>\n",
       "      <td>southeast</td>\n",
       "      <td>4449.46200</td>\n",
       "      <td>Elderly</td>\n",
       "    </tr>\n",
       "    <tr>\n",
       "      <th>3</th>\n",
       "      <td>4</td>\n",
       "      <td>33</td>\n",
       "      <td>male</td>\n",
       "      <td>22.705</td>\n",
       "      <td>0</td>\n",
       "      <td>no</td>\n",
       "      <td>northwest</td>\n",
       "      <td>21984.47061</td>\n",
       "      <td>Elderly</td>\n",
       "    </tr>\n",
       "    <tr>\n",
       "      <th>4</th>\n",
       "      <td>5</td>\n",
       "      <td>32</td>\n",
       "      <td>male</td>\n",
       "      <td>28.880</td>\n",
       "      <td>0</td>\n",
       "      <td>no</td>\n",
       "      <td>northwest</td>\n",
       "      <td>3866.85520</td>\n",
       "      <td>Elderly</td>\n",
       "    </tr>\n",
       "  </tbody>\n",
       "</table>\n",
       "</div>"
      ],
      "text/plain": [
       "   id  age     sex     bmi  children smoker     region      charges age_group\n",
       "0   1   19  female  27.900         0    yes  southwest  16884.92400      Teen\n",
       "1   2   18    male  33.770         1     no  southeast   1725.55230      Teen\n",
       "2   3   28    male  33.000         3     no  southeast   4449.46200   Elderly\n",
       "3   4   33    male  22.705         0     no  northwest  21984.47061   Elderly\n",
       "4   5   32    male  28.880         0     no  northwest   3866.85520   Elderly"
      ]
     },
     "execution_count": 56,
     "metadata": {},
     "output_type": "execute_result"
    }
   ],
   "source": [
    "data_insurance.head()"
   ]
  },
  {
   "cell_type": "code",
   "execution_count": 65,
   "id": "4dceb46e",
   "metadata": {},
   "outputs": [
    {
     "data": {
      "text/plain": [
       "age_group\n",
       "Elderly    1053\n",
       "Teen        193\n",
       "Mature       91\n",
       "Name: count, dtype: int64"
      ]
     },
     "execution_count": 65,
     "metadata": {},
     "output_type": "execute_result"
    }
   ],
   "source": [
    "data_insurance['age_group'].value_counts()"
   ]
  },
  {
   "cell_type": "markdown",
   "id": "48e860c3",
   "metadata": {},
   "source": [
    "## Tahap 7: Memvisualisasikan Data"
   ]
  },
  {
   "cell_type": "markdown",
   "id": "3a4bd72c",
   "metadata": {},
   "source": [
    "Pada tahap ini, sajikan informasi dalam format gambar/grafik untuk setiap pertanyaan bisnis"
   ]
  },
  {
   "cell_type": "code",
   "execution_count": null,
   "id": "2c67e5c9",
   "metadata": {},
   "outputs": [],
   "source": [
    "# Buat visualisasi data untuk setiap pertanyaan bisnis yang telah ditentukan di awal\n",
    "# Berikan penjelasan/kesimpulan untuk setiap visualisasi data tersebut\n"
   ]
  },
  {
   "cell_type": "markdown",
   "id": "fc17ccff",
   "metadata": {},
   "source": [
    "## Tahap 8: Membuat Kesimpulan"
   ]
  },
  {
   "cell_type": "markdown",
   "id": "2a8c771a",
   "metadata": {},
   "source": [
    "Berikan kesimpulan untuk setiap pertanyaan berdasarkan keseluruhan tahapan yang telah dilakukan sebelumnya"
   ]
  },
  {
   "cell_type": "code",
   "execution_count": null,
   "id": "f56cc2ce",
   "metadata": {},
   "outputs": [],
   "source": [
    "# Buatlah kesimpulan dalam bentuk poin-poin dari pertanyaan di awal\n"
   ]
  }
 ],
 "metadata": {
  "kernelspec": {
   "display_name": "Python 3 (ipykernel)",
   "language": "python",
   "name": "python3"
  },
  "language_info": {
   "codemirror_mode": {
    "name": "ipython",
    "version": 3
   },
   "file_extension": ".py",
   "mimetype": "text/x-python",
   "name": "python",
   "nbconvert_exporter": "python",
   "pygments_lexer": "ipython3",
   "version": "3.11.2"
  }
 },
 "nbformat": 4,
 "nbformat_minor": 5
}
