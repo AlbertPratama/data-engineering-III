{
  "cells": [
    {
      "cell_type": "markdown",
      "id": "5e68ccde",
      "metadata": {
        "id": "5e68ccde"
      },
      "source": [
        "<h1 align=\"center\"><font size=\"5\">Ujian Akhir Semester</font></h1>\n",
        "<h2 align=\"center\"><font size=\"4\">Rekayasa Data (IF2106) - Tipe A</font></h2>"
      ]
    },
    {
      "cell_type": "markdown",
      "id": "108961f5",
      "metadata": {
        "id": "108961f5"
      },
      "source": [
        "<h2>Daftar Isi</h2>\n",
        "<div class=\"alert alert-block alert-info\" style=\"margin-top: 20px\">\n",
        "    <ul>\n",
        "    <li><a href=\"#Identitas-Kelompok\">Identitas Kelompok</a></li>\n",
        "    <li><a href=\"#Identitas-Anggota\">Identitas Anggota</a></li>\n",
        "    <li><a href=\"#Kontribusi-Setiap-Anggota\">Kontribusi Setiap Anggota</a></li>\n",
        "    <li><a href=\"#Deskripsi-Proyek\">Deskripsi Proyek</a></li>\n",
        "    <li><a href=\"#Tahap-1:-Menentukan-Pertanyaan-Bisnis\">Tahap 1: Menentukan Pertanyaan Bisnis</a></li>\n",
        "    <li><a href=\"#Tahap-2:-Menyiapkan-Library\">Tahap 2: Menyiapkan Library</a></li>\n",
        "    <li><a href=\"#Tahap-3:-Mengumpulkan-Data\">Tahap 3: Mengumpulkan Data</a></li>\n",
        "    <li><a href=\"#Tahap-4:-Menilai-Data\">Tahap 4: Menilai Data</a></li>\n",
        "    <li><a href=\"#Tahap-5:-Membersihkan-Data\">Tahap 5: Membersihkan Data</a></li>\n",
        "    <li><a href=\"#Tahap-6:-Mengeksplorasi-dan-Menganalisis-Data\">Tahap 6: Mengeksplorasi dan Menganalisis Data</a></li>\n",
        "    <li><a href=\"#Tahap-7:-Memvisualisasikan-Data\">Tahap 7: Memvisualisasikan Data</a></li>\n",
        "    <li><a href=\"#Tahap-8:-Membuat-Kesimpulan\">Tahap 8: Membuat Kesimpulan</a></li>\n",
        "    </ul>\n",
        "</a></li>\n",
        "</div>"
      ]
    },
    {
      "cell_type": "markdown",
      "id": "d02919d2",
      "metadata": {
        "id": "d02919d2"
      },
      "source": [
        "## Identitas Kelompok"
      ]
    },
    {
      "cell_type": "markdown",
      "id": "8845b033",
      "metadata": {
        "id": "8845b033"
      },
      "source": [
        "#### Nomor Kelompok: 9"
      ]
    },
    {
      "cell_type": "markdown",
      "id": "cc3771cb",
      "metadata": {
        "id": "cc3771cb"
      },
      "source": [
        "## Identitas Anggota"
      ]
    },
    {
      "cell_type": "markdown",
      "id": "60bca683",
      "metadata": {
        "id": "60bca683"
      },
      "source": [
        "Tuliskan identitas dari setiap anggota, meliputi NIM dan nama mahasiswa."
      ]
    },
    {
      "cell_type": "markdown",
      "id": "89e682fc",
      "metadata": {
        "id": "89e682fc"
      },
      "source": [
        "#### NIM Anggota-1: { 221112820 }, Nama Anggota-1: { Albert Putra Pratama Halawa }\n",
        "#### NIM Anggota-2: { 221113406 }, Nama Anggota-2: { Jhon Kennedy Harefa }\n",
        "#### NIM Anggota-3: { 221111265 }, Nama Anggota-3: { Octa Dana Rizky Lubis }\n",
        "#### NIM Anggota-4: { 221113024 }, Nama Anggota-4: { Renaldi Aritonang }"
      ]
    },
    {
      "cell_type": "markdown",
      "id": "30a101e5",
      "metadata": {
        "id": "30a101e5"
      },
      "source": [
        "## Kontribusi Setiap Anggota"
      ]
    },
    {
      "cell_type": "markdown",
      "id": "ad814f5e",
      "metadata": {
        "id": "ad814f5e"
      },
      "source": [
        "Tuliskan kontribusi dari setiap anggota di dalam pengerjaan soal UAS berbasis proyek ini."
      ]
    },
    {
      "cell_type": "markdown",
      "id": "573187ed",
      "metadata": {
        "id": "573187ed"
      },
      "source": [
        "#### Anggota-1: { ngokxxx }\n",
        "#### Anggota-2: { ngejomoks }\n",
        "#### Anggota-3: { ngehaha bokep }\n",
        "#### Anggota-4: { ngehaha bucin }"
      ]
    },
    {
      "cell_type": "markdown",
      "id": "8788442b",
      "metadata": {
        "id": "8788442b"
      },
      "source": [
        "## Deskripsi Proyek"
      ]
    },
    {
      "cell_type": "markdown",
      "id": "e0252b1f",
      "metadata": {
        "id": "e0252b1f"
      },
      "source": [
        "Pada UAS berbasis proyek ini, kelompok Anda harus melakukan seluruh proses analisis data, mulai dari mendefinisikan pertanyaan bisnis (pertanyaan analisis) yang ingin dijawab melalui proses analisis data hingga membuat kesimpulan dari hasil analisis (berupa visualisasi data untuk menjawab pertanyaan bisnis yang telah dibuat)."
      ]
    },
    {
      "cell_type": "markdown",
      "id": "5c308716",
      "metadata": {
        "id": "5c308716"
      },
      "source": [
        "Untuk <b>tipe A</b>, lakukan analisis terhadap dataset <a href=\"https://mikroskilacid-my.sharepoint.com/:x:/g/personal/gunawan_mikroskil_ac_id/EXy63U8g5NRPtNvWKeKr-4EB6IJhgg1arjqwrmKz_W2wHQ?e=nv48St\">insurance.csv</a> yang berisi data transaksi asuransi. Lakukan analisis dengan tepat untuk mendapatkan insight/informasi sebanyak mungkin dari dataset tersebut. Penjelasan dari setiap kolom yang terdapat di dataset tersebut adalah sebagai berikut."
      ]
    },
    {
      "cell_type": "markdown",
      "id": "f5b84ca6",
      "metadata": {
        "id": "f5b84ca6"
      },
      "source": [
        "<table>\n",
        "    <thead>\n",
        "      <tr>\n",
        "        <th>No.</th>\n",
        "        <th>Nama Kolom</th>\n",
        "        <th>Penjelasan</th>\n",
        "      </tr>\n",
        "    </thead>\n",
        "    <tbody>\n",
        "      <tr>\n",
        "        <td>1</td>\n",
        "        <td>age</td>\n",
        "        <td>umur nasabah asuransi</td>\n",
        "      </tr>\n",
        "      <tr>\n",
        "        <td>2</td>\n",
        "        <td>sex</td>\n",
        "        <td>jenis kelamin nasabah asuransi</td>\n",
        "      </tr>\n",
        "      <tr>\n",
        "        <td>3</td>\n",
        "        <td>bmi</td>\n",
        "        <td>indeks massa tubuh (berat badan (kg) dibagi dengan kuadrat tinggi badan (m))</td>\n",
        "      </tr>\n",
        "      <tr>\n",
        "        <td>4</td>\n",
        "        <td>children</td>\n",
        "        <td>jumlah anak yang dimiliki nasabah asuransi</td>\n",
        "      </tr>\n",
        "      <tr>\n",
        "        <td>5</td>\n",
        "        <td>smoker</td>\n",
        "        <td>apakah nasabah asuransi merupakan perokok atau bukan</td>\n",
        "      </tr>\n",
        "      <tr>\n",
        "        <td>6</td>\n",
        "        <td>region</td>\n",
        "        <td>wilayah domisili nasabah asuransi</td>\n",
        "      </tr>\n",
        "      <tr>\n",
        "        <td>7</td>\n",
        "        <td>charges</td>\n",
        "        <td>premi yang dikenakan pada nasabah asuransi</td>\n",
        "      </tr>\n",
        "    </tbody>\n",
        "</table>"
      ]
    },
    {
      "cell_type": "markdown",
      "id": "675ef26c",
      "metadata": {
        "id": "675ef26c"
      },
      "source": [
        "## Tahap 1: Menentukan Pertanyaan Bisnis"
      ]
    },
    {
      "cell_type": "markdown",
      "id": "0fc2e6ff",
      "metadata": {
        "id": "0fc2e6ff"
      },
      "source": [
        "Pada tahap ini, silahkan tentukan minimal 3 (tiga) pertanyaan bisnis yang akan dijawab berdasarkan dataset yang telah ditentukan di atas (analisis dan pahami data apa saja yang disimpan di masing-masing kolom)"
      ]
    },
    {
      "cell_type": "markdown",
      "id": "7ec196a8",
      "metadata": {},
      "source": [
        "1. Bagaimana dengan distribusi nasabah asuransi dalam dataset ini?\n",
        "2. Berapa rata-rata jumlah anak yang dimiliki oleh nasabah asuransi dalam dataset ini\n",
        "3. Bagaimana persebaran wilayah domisili nasabah\n",
        "4. tampilkan pola atau tren dalam premi yang dikenakan berdasarkan kombinasi faktor usia, BMI, dan status perokok?\n",
        "5. bagaimana performa Order dan revenue perusahaan dalam beberapa bulan terakhir?\n",
        "6. Berdasarkan data yang ada, strategi penetapan harga premi asuransi apa yang dapat disarankan untuk meningkatkan profitabilitas perusahaan asuransi?\n"
      ]
    },
    {
      "cell_type": "markdown",
      "id": "d9c96950",
      "metadata": {
        "id": "d9c96950"
      },
      "source": [
        "## Tahap 2: Menyiapkan Library"
      ]
    },
    {
      "cell_type": "markdown",
      "id": "5e650e31",
      "metadata": {
        "id": "5e650e31"
      },
      "source": [
        "Sebelum memulai proyek, pastikan telah mengimpor semua library yang dibutuhkan untuk mengerjakan proyeknya"
      ]
    },
    {
      "cell_type": "code",
      "execution_count": 19,
      "id": "9070a5ad",
      "metadata": {
        "id": "9070a5ad"
      },
      "outputs": [],
      "source": [
        "import pandas as pd\n",
        "import numpy as np\n",
        "import matplotlib.pyplot as plt\n",
        "import seaborn as sns"
      ]
    },
    {
      "cell_type": "markdown",
      "id": "3321cb95",
      "metadata": {
        "id": "3321cb95"
      },
      "source": [
        "## Tahap 3: Mengumpulkan Data"
      ]
    },
    {
      "cell_type": "markdown",
      "id": "d1e7566c",
      "metadata": {
        "id": "d1e7566c"
      },
      "source": [
        "Pada tahap ini, lakukan pengumpulan data dari dataset yang telah ditentukan di atas"
      ]
    },
    {
      "cell_type": "code",
      "execution_count": 20,
      "id": "b2c6c6aa",
      "metadata": {
        "colab": {
          "base_uri": "https://localhost:8080/",
          "height": 206
        },
        "id": "b2c6c6aa",
        "outputId": "9b18e64f-fe88-49cf-ffa3-3a1d348f9c88"
      },
      "outputs": [
        {
          "data": {
            "text/html": [
              "<div>\n",
              "<style scoped>\n",
              "    .dataframe tbody tr th:only-of-type {\n",
              "        vertical-align: middle;\n",
              "    }\n",
              "\n",
              "    .dataframe tbody tr th {\n",
              "        vertical-align: top;\n",
              "    }\n",
              "\n",
              "    .dataframe thead th {\n",
              "        text-align: right;\n",
              "    }\n",
              "</style>\n",
              "<table border=\"1\" class=\"dataframe\">\n",
              "  <thead>\n",
              "    <tr style=\"text-align: right;\">\n",
              "      <th></th>\n",
              "      <th>age</th>\n",
              "      <th>sex</th>\n",
              "      <th>bmi</th>\n",
              "      <th>children</th>\n",
              "      <th>smoker</th>\n",
              "      <th>region</th>\n",
              "      <th>charges</th>\n",
              "    </tr>\n",
              "  </thead>\n",
              "  <tbody>\n",
              "    <tr>\n",
              "      <th>0</th>\n",
              "      <td>'19</td>\n",
              "      <td>female</td>\n",
              "      <td>27.900</td>\n",
              "      <td>0</td>\n",
              "      <td>yes</td>\n",
              "      <td>southwest</td>\n",
              "      <td>16884.92400</td>\n",
              "    </tr>\n",
              "    <tr>\n",
              "      <th>1</th>\n",
              "      <td>18</td>\n",
              "      <td>male</td>\n",
              "      <td>33.770</td>\n",
              "      <td>1</td>\n",
              "      <td>no</td>\n",
              "      <td>southeast</td>\n",
              "      <td>1725.55230</td>\n",
              "    </tr>\n",
              "    <tr>\n",
              "      <th>2</th>\n",
              "      <td>28</td>\n",
              "      <td>male</td>\n",
              "      <td>33.000</td>\n",
              "      <td>3</td>\n",
              "      <td>no</td>\n",
              "      <td>southeast</td>\n",
              "      <td>4449.46200</td>\n",
              "    </tr>\n",
              "    <tr>\n",
              "      <th>3</th>\n",
              "      <td>33</td>\n",
              "      <td>male</td>\n",
              "      <td>22.705</td>\n",
              "      <td>0</td>\n",
              "      <td>no</td>\n",
              "      <td>northwest</td>\n",
              "      <td>21984.47061</td>\n",
              "    </tr>\n",
              "    <tr>\n",
              "      <th>4</th>\n",
              "      <td>32</td>\n",
              "      <td>male</td>\n",
              "      <td>28.880</td>\n",
              "      <td>0</td>\n",
              "      <td>no</td>\n",
              "      <td>northwest</td>\n",
              "      <td>3866.85520</td>\n",
              "    </tr>\n",
              "  </tbody>\n",
              "</table>\n",
              "</div>"
            ],
            "text/plain": [
              "   age     sex     bmi  children smoker     region      charges\n",
              "0  '19  female  27.900         0    yes  southwest  16884.92400\n",
              "1   18    male  33.770         1     no  southeast   1725.55230\n",
              "2   28    male  33.000         3     no  southeast   4449.46200\n",
              "3   33    male  22.705         0     no  northwest  21984.47061\n",
              "4   32    male  28.880         0     no  northwest   3866.85520"
            ]
          },
          "execution_count": 20,
          "metadata": {},
          "output_type": "execute_result"
        }
      ],
      "source": [
        "data_insurance = pd.read_excel(\"./insurance.xlsx\")\n",
        "data_insurance.head()"
      ]
    },
    {
      "cell_type": "markdown",
      "id": "5d1f1cb1",
      "metadata": {
        "id": "5d1f1cb1"
      },
      "source": [
        "## Tahap 4: Menilai Data"
      ]
    },
    {
      "cell_type": "markdown",
      "id": "385bd108",
      "metadata": {
        "id": "385bd108"
      },
      "source": [
        "Pada tahap ini bisa dilakukan pengecekan tipe data, missing value, duplikasi data, keanehan pada nilai statistik, dan sebagainya"
      ]
    },
    {
      "cell_type": "code",
      "execution_count": 21,
      "id": "b527a4bf",
      "metadata": {
        "colab": {
          "base_uri": "https://localhost:8080/"
        },
        "id": "b527a4bf",
        "outputId": "fc7f0809-f347-4134-d106-9def17c2ee56"
      },
      "outputs": [
        {
          "name": "stdout",
          "output_type": "stream",
          "text": [
            "<class 'pandas.core.frame.DataFrame'>\n",
            "RangeIndex: 1338 entries, 0 to 1337\n",
            "Data columns (total 7 columns):\n",
            " #   Column    Non-Null Count  Dtype  \n",
            "---  ------    --------------  -----  \n",
            " 0   age       1338 non-null   object \n",
            " 1   sex       1325 non-null   object \n",
            " 2   bmi       1338 non-null   float64\n",
            " 3   children  1338 non-null   int64  \n",
            " 4   smoker    1338 non-null   object \n",
            " 5   region    1330 non-null   object \n",
            " 6   charges   1338 non-null   float64\n",
            "dtypes: float64(2), int64(1), object(4)\n",
            "memory usage: 73.3+ KB\n"
          ]
        }
      ],
      "source": [
        "data_insurance.info()"
      ]
    },
    {
      "cell_type": "code",
      "execution_count": 22,
      "id": "a297728d",
      "metadata": {
        "colab": {
          "base_uri": "https://localhost:8080/"
        },
        "id": "a297728d",
        "outputId": "1d8b322a-98ab-4ae9-d9ce-2b1c6ce7fac5"
      },
      "outputs": [
        {
          "data": {
            "text/plain": [
              "age          0\n",
              "sex         13\n",
              "bmi          0\n",
              "children     0\n",
              "smoker       0\n",
              "region       8\n",
              "charges      0\n",
              "dtype: int64"
            ]
          },
          "execution_count": 22,
          "metadata": {},
          "output_type": "execute_result"
        }
      ],
      "source": [
        "data_insurance.isna().sum()"
      ]
    },
    {
      "cell_type": "code",
      "execution_count": 23,
      "id": "0c384727",
      "metadata": {
        "colab": {
          "base_uri": "https://localhost:8080/"
        },
        "id": "0c384727",
        "outputId": "e26bd852-7c2e-4028-c3bb-280d0343e5e4"
      },
      "outputs": [
        {
          "name": "stdout",
          "output_type": "stream",
          "text": [
            "Jumlah Duplikasi:  1\n"
          ]
        }
      ],
      "source": [
        "print('Jumlah Duplikasi: ',data_insurance.duplicated().sum())"
      ]
    },
    {
      "cell_type": "code",
      "execution_count": 24,
      "id": "743db1b7",
      "metadata": {
        "colab": {
          "base_uri": "https://localhost:8080/",
          "height": 300
        },
        "id": "743db1b7",
        "outputId": "95449bd2-e206-473f-d592-d66266b35b40"
      },
      "outputs": [
        {
          "data": {
            "text/html": [
              "<div>\n",
              "<style scoped>\n",
              "    .dataframe tbody tr th:only-of-type {\n",
              "        vertical-align: middle;\n",
              "    }\n",
              "\n",
              "    .dataframe tbody tr th {\n",
              "        vertical-align: top;\n",
              "    }\n",
              "\n",
              "    .dataframe thead th {\n",
              "        text-align: right;\n",
              "    }\n",
              "</style>\n",
              "<table border=\"1\" class=\"dataframe\">\n",
              "  <thead>\n",
              "    <tr style=\"text-align: right;\">\n",
              "      <th></th>\n",
              "      <th>bmi</th>\n",
              "      <th>children</th>\n",
              "      <th>charges</th>\n",
              "    </tr>\n",
              "  </thead>\n",
              "  <tbody>\n",
              "    <tr>\n",
              "      <th>count</th>\n",
              "      <td>1338.000000</td>\n",
              "      <td>1338.000000</td>\n",
              "      <td>1338.000000</td>\n",
              "    </tr>\n",
              "    <tr>\n",
              "      <th>mean</th>\n",
              "      <td>30.663397</td>\n",
              "      <td>1.094918</td>\n",
              "      <td>13270.422265</td>\n",
              "    </tr>\n",
              "    <tr>\n",
              "      <th>std</th>\n",
              "      <td>6.098187</td>\n",
              "      <td>1.205493</td>\n",
              "      <td>12110.011237</td>\n",
              "    </tr>\n",
              "    <tr>\n",
              "      <th>min</th>\n",
              "      <td>15.960000</td>\n",
              "      <td>0.000000</td>\n",
              "      <td>1121.873900</td>\n",
              "    </tr>\n",
              "    <tr>\n",
              "      <th>25%</th>\n",
              "      <td>26.296250</td>\n",
              "      <td>0.000000</td>\n",
              "      <td>4740.287150</td>\n",
              "    </tr>\n",
              "    <tr>\n",
              "      <th>50%</th>\n",
              "      <td>30.400000</td>\n",
              "      <td>1.000000</td>\n",
              "      <td>9382.033000</td>\n",
              "    </tr>\n",
              "    <tr>\n",
              "      <th>75%</th>\n",
              "      <td>34.693750</td>\n",
              "      <td>2.000000</td>\n",
              "      <td>16639.912515</td>\n",
              "    </tr>\n",
              "    <tr>\n",
              "      <th>max</th>\n",
              "      <td>53.130000</td>\n",
              "      <td>5.000000</td>\n",
              "      <td>63770.428010</td>\n",
              "    </tr>\n",
              "  </tbody>\n",
              "</table>\n",
              "</div>"
            ],
            "text/plain": [
              "               bmi     children       charges\n",
              "count  1338.000000  1338.000000   1338.000000\n",
              "mean     30.663397     1.094918  13270.422265\n",
              "std       6.098187     1.205493  12110.011237\n",
              "min      15.960000     0.000000   1121.873900\n",
              "25%      26.296250     0.000000   4740.287150\n",
              "50%      30.400000     1.000000   9382.033000\n",
              "75%      34.693750     2.000000  16639.912515\n",
              "max      53.130000     5.000000  63770.428010"
            ]
          },
          "execution_count": 24,
          "metadata": {},
          "output_type": "execute_result"
        }
      ],
      "source": [
        "data_insurance.describe()"
      ]
    },
    {
      "cell_type": "markdown",
      "id": "1c711f0c",
      "metadata": {
        "id": "1c711f0c"
      },
      "source": [
        "## Tahap 5: Membersihkan Data"
      ]
    },
    {
      "cell_type": "markdown",
      "id": "54a3da91",
      "metadata": {
        "id": "54a3da91"
      },
      "source": [
        "Pada tahap ini bisa dilakukan penghapusan terhadap kolom yang tidak dibutuhkan, mengubah tipe data yang tidak sesuai, melakukan transformasi data, menambah kolom yang dibutuhkan, dan sebagainya"
      ]
    },
    {
      "cell_type": "markdown",
      "id": "c34886b9",
      "metadata": {
        "id": "c34886b9"
      },
      "source": [
        "#### Menghapus Duplikasi Data"
      ]
    },
    {
      "cell_type": "code",
      "execution_count": 25,
      "id": "ea93aec7",
      "metadata": {
        "colab": {
          "base_uri": "https://localhost:8080/"
        },
        "id": "ea93aec7",
        "outputId": "6a02c5cd-74bb-42d3-f0b1-70153d18b41e"
      },
      "outputs": [
        {
          "data": {
            "text/plain": [
              "1"
            ]
          },
          "execution_count": 25,
          "metadata": {},
          "output_type": "execute_result"
        }
      ],
      "source": [
        "data_insurance.duplicated().sum()"
      ]
    },
    {
      "cell_type": "code",
      "execution_count": 26,
      "id": "59c49f7a",
      "metadata": {
        "id": "59c49f7a"
      },
      "outputs": [],
      "source": [
        "data_insurance.drop_duplicates(inplace=True)"
      ]
    },
    {
      "cell_type": "code",
      "execution_count": 27,
      "id": "a648e869",
      "metadata": {
        "colab": {
          "base_uri": "https://localhost:8080/"
        },
        "id": "a648e869",
        "outputId": "460af410-7f75-4597-e1c1-90987673b636"
      },
      "outputs": [
        {
          "name": "stdout",
          "output_type": "stream",
          "text": [
            "Jumlah Duplikasi:  0\n"
          ]
        }
      ],
      "source": [
        "print('Jumlah Duplikasi: ',data_insurance.duplicated().sum())"
      ]
    },
    {
      "cell_type": "markdown",
      "id": "53679125",
      "metadata": {
        "id": "53679125"
      },
      "source": [
        "#### Missing Values"
      ]
    },
    {
      "cell_type": "code",
      "execution_count": 28,
      "id": "3cc72bdd",
      "metadata": {},
      "outputs": [],
      "source": [
        "data_insurance.dropna(inplace=True)"
      ]
    },
    {
      "cell_type": "code",
      "execution_count": 29,
      "id": "f7cc78ce",
      "metadata": {
        "colab": {
          "base_uri": "https://localhost:8080/"
        },
        "id": "f7cc78ce",
        "outputId": "529487ee-8fb9-478b-8cb5-2467290f1dc4"
      },
      "outputs": [
        {
          "data": {
            "text/plain": [
              "age         0\n",
              "sex         0\n",
              "bmi         0\n",
              "children    0\n",
              "smoker      0\n",
              "region      0\n",
              "charges     0\n",
              "dtype: int64"
            ]
          },
          "execution_count": 29,
          "metadata": {},
          "output_type": "execute_result"
        }
      ],
      "source": [
        "data_insurance.isna().sum()"
      ]
    },
    {
      "cell_type": "code",
      "execution_count": 30,
      "id": "0c40e187",
      "metadata": {
        "colab": {
          "base_uri": "https://localhost:8080/",
          "height": 457
        },
        "id": "0c40e187",
        "outputId": "3a6440f2-3267-47aa-ddfd-6e62b7c13d6d"
      },
      "outputs": [
        {
          "data": {
            "text/html": [
              "<div>\n",
              "<style scoped>\n",
              "    .dataframe tbody tr th:only-of-type {\n",
              "        vertical-align: middle;\n",
              "    }\n",
              "\n",
              "    .dataframe tbody tr th {\n",
              "        vertical-align: top;\n",
              "    }\n",
              "\n",
              "    .dataframe thead th {\n",
              "        text-align: right;\n",
              "    }\n",
              "</style>\n",
              "<table border=\"1\" class=\"dataframe\">\n",
              "  <thead>\n",
              "    <tr style=\"text-align: right;\">\n",
              "      <th></th>\n",
              "      <th>age</th>\n",
              "      <th>sex</th>\n",
              "      <th>bmi</th>\n",
              "      <th>children</th>\n",
              "      <th>smoker</th>\n",
              "      <th>region</th>\n",
              "      <th>charges</th>\n",
              "    </tr>\n",
              "  </thead>\n",
              "  <tbody>\n",
              "  </tbody>\n",
              "</table>\n",
              "</div>"
            ],
            "text/plain": [
              "Empty DataFrame\n",
              "Columns: [age, sex, bmi, children, smoker, region, charges]\n",
              "Index: []"
            ]
          },
          "execution_count": 30,
          "metadata": {},
          "output_type": "execute_result"
        }
      ],
      "source": [
        "data_insurance[data_insurance.sex.isna()]"
      ]
    },
    {
      "cell_type": "code",
      "execution_count": 31,
      "id": "485e3a85",
      "metadata": {},
      "outputs": [],
      "source": [
        "data_insurance_clean = [data_insurance.sex.dropna()]"
      ]
    },
    {
      "cell_type": "code",
      "execution_count": 32,
      "id": "1f1c57d6",
      "metadata": {},
      "outputs": [
        {
          "data": {
            "text/plain": [
              "age         0\n",
              "sex         0\n",
              "bmi         0\n",
              "children    0\n",
              "smoker      0\n",
              "region      0\n",
              "charges     0\n",
              "dtype: int64"
            ]
          },
          "execution_count": 32,
          "metadata": {},
          "output_type": "execute_result"
        }
      ],
      "source": [
        "data_insurance.isna().sum()\n"
      ]
    },
    {
      "cell_type": "code",
      "execution_count": 33,
      "id": "4d4f2eb5",
      "metadata": {
        "colab": {
          "base_uri": "https://localhost:8080/"
        },
        "id": "4d4f2eb5",
        "outputId": "4f40622b-e58f-4e4f-9477-7e05284262f1"
      },
      "outputs": [
        {
          "data": {
            "text/plain": [
              "sex\n",
              "male      665\n",
              "female    651\n",
              "Name: count, dtype: int64"
            ]
          },
          "execution_count": 33,
          "metadata": {},
          "output_type": "execute_result"
        }
      ],
      "source": [
        "data_insurance.sex.value_counts()"
      ]
    },
    {
      "cell_type": "code",
      "execution_count": 34,
      "id": "049023b3",
      "metadata": {
        "colab": {
          "base_uri": "https://localhost:8080/"
        },
        "id": "049023b3",
        "outputId": "bc48e1a4-5191-4488-f976-d1c670033043"
      },
      "outputs": [
        {
          "data": {
            "text/plain": [
              "region\n",
              "southeast    356\n",
              "southwest    321\n",
              "northeast    321\n",
              "northwest    318\n",
              "Name: count, dtype: int64"
            ]
          },
          "execution_count": 34,
          "metadata": {},
          "output_type": "execute_result"
        }
      ],
      "source": [
        "data_insurance.region.value_counts()"
      ]
    },
    {
      "cell_type": "code",
      "execution_count": 35,
      "id": "a072bf51",
      "metadata": {
        "id": "a072bf51"
      },
      "outputs": [],
      "source": [
        "data_insurance.fillna(value=\" \", inplace=True)"
      ]
    },
    {
      "cell_type": "code",
      "execution_count": 36,
      "id": "a739b68c",
      "metadata": {
        "colab": {
          "base_uri": "https://localhost:8080/"
        },
        "id": "a739b68c",
        "outputId": "160a7a7c-aa4b-472c-9a36-2edf9347cfd5"
      },
      "outputs": [
        {
          "data": {
            "text/plain": [
              "age         0\n",
              "sex         0\n",
              "bmi         0\n",
              "children    0\n",
              "smoker      0\n",
              "region      0\n",
              "charges     0\n",
              "dtype: int64"
            ]
          },
          "execution_count": 36,
          "metadata": {},
          "output_type": "execute_result"
        }
      ],
      "source": [
        "data_insurance.isna().sum()"
      ]
    },
    {
      "cell_type": "markdown",
      "id": "f7450f55",
      "metadata": {
        "id": "f7450f55"
      },
      "source": [
        "#### Innacurate values"
      ]
    },
    {
      "cell_type": "code",
      "execution_count": 37,
      "id": "71765462",
      "metadata": {
        "colab": {
          "base_uri": "https://localhost:8080/",
          "height": 300
        },
        "id": "71765462",
        "outputId": "f62bace9-fa24-4c26-f795-2665f67373a3"
      },
      "outputs": [
        {
          "data": {
            "text/html": [
              "<div>\n",
              "<style scoped>\n",
              "    .dataframe tbody tr th:only-of-type {\n",
              "        vertical-align: middle;\n",
              "    }\n",
              "\n",
              "    .dataframe tbody tr th {\n",
              "        vertical-align: top;\n",
              "    }\n",
              "\n",
              "    .dataframe thead th {\n",
              "        text-align: right;\n",
              "    }\n",
              "</style>\n",
              "<table border=\"1\" class=\"dataframe\">\n",
              "  <thead>\n",
              "    <tr style=\"text-align: right;\">\n",
              "      <th></th>\n",
              "      <th>bmi</th>\n",
              "      <th>children</th>\n",
              "      <th>charges</th>\n",
              "    </tr>\n",
              "  </thead>\n",
              "  <tbody>\n",
              "    <tr>\n",
              "      <th>count</th>\n",
              "      <td>1316.000000</td>\n",
              "      <td>1316.000000</td>\n",
              "      <td>1316.000000</td>\n",
              "    </tr>\n",
              "    <tr>\n",
              "      <th>mean</th>\n",
              "      <td>30.661926</td>\n",
              "      <td>1.095745</td>\n",
              "      <td>13254.671317</td>\n",
              "    </tr>\n",
              "    <tr>\n",
              "      <th>std</th>\n",
              "      <td>6.089311</td>\n",
              "      <td>1.207057</td>\n",
              "      <td>12109.448424</td>\n",
              "    </tr>\n",
              "    <tr>\n",
              "      <th>min</th>\n",
              "      <td>15.960000</td>\n",
              "      <td>0.000000</td>\n",
              "      <td>1121.873900</td>\n",
              "    </tr>\n",
              "    <tr>\n",
              "      <th>25%</th>\n",
              "      <td>26.308750</td>\n",
              "      <td>0.000000</td>\n",
              "      <td>4733.635288</td>\n",
              "    </tr>\n",
              "    <tr>\n",
              "      <th>50%</th>\n",
              "      <td>30.400000</td>\n",
              "      <td>1.000000</td>\n",
              "      <td>9382.033000</td>\n",
              "    </tr>\n",
              "    <tr>\n",
              "      <th>75%</th>\n",
              "      <td>34.717500</td>\n",
              "      <td>2.000000</td>\n",
              "      <td>16604.302645</td>\n",
              "    </tr>\n",
              "    <tr>\n",
              "      <th>max</th>\n",
              "      <td>53.130000</td>\n",
              "      <td>5.000000</td>\n",
              "      <td>63770.428010</td>\n",
              "    </tr>\n",
              "  </tbody>\n",
              "</table>\n",
              "</div>"
            ],
            "text/plain": [
              "               bmi     children       charges\n",
              "count  1316.000000  1316.000000   1316.000000\n",
              "mean     30.661926     1.095745  13254.671317\n",
              "std       6.089311     1.207057  12109.448424\n",
              "min      15.960000     0.000000   1121.873900\n",
              "25%      26.308750     0.000000   4733.635288\n",
              "50%      30.400000     1.000000   9382.033000\n",
              "75%      34.717500     2.000000  16604.302645\n",
              "max      53.130000     5.000000  63770.428010"
            ]
          },
          "execution_count": 37,
          "metadata": {},
          "output_type": "execute_result"
        }
      ],
      "source": [
        "data_insurance.describe()"
      ]
    },
    {
      "cell_type": "markdown",
      "id": "deb35b39",
      "metadata": {
        "id": "deb35b39"
      },
      "source": [
        "#### Memperbaiki Tipe Data"
      ]
    },
    {
      "cell_type": "code",
      "execution_count": 38,
      "id": "c1283412",
      "metadata": {
        "id": "c1283412"
      },
      "outputs": [],
      "source": [
        "data_insurance['age'] = data_insurance['age'].apply(lambda x: int(x.strip(\"'\")) if isinstance(x, str) else x)"
      ]
    },
    {
      "cell_type": "code",
      "execution_count": 39,
      "id": "7794d821",
      "metadata": {
        "colab": {
          "base_uri": "https://localhost:8080/"
        },
        "id": "7794d821",
        "outputId": "0f36d40b-f9d3-42e6-9483-b9b6d53d9636"
      },
      "outputs": [
        {
          "name": "stdout",
          "output_type": "stream",
          "text": [
            "<class 'pandas.core.frame.DataFrame'>\n",
            "Index: 1316 entries, 0 to 1337\n",
            "Data columns (total 7 columns):\n",
            " #   Column    Non-Null Count  Dtype  \n",
            "---  ------    --------------  -----  \n",
            " 0   age       1316 non-null   int64  \n",
            " 1   sex       1316 non-null   object \n",
            " 2   bmi       1316 non-null   float64\n",
            " 3   children  1316 non-null   int64  \n",
            " 4   smoker    1316 non-null   object \n",
            " 5   region    1316 non-null   object \n",
            " 6   charges   1316 non-null   float64\n",
            "dtypes: float64(2), int64(2), object(3)\n",
            "memory usage: 82.2+ KB\n"
          ]
        }
      ],
      "source": [
        "data_insurance.info()"
      ]
    },
    {
      "cell_type": "markdown",
      "id": "ec44eac4",
      "metadata": {
        "id": "ec44eac4"
      },
      "source": [
        "#### Menambahkan Kolom Baru"
      ]
    },
    {
      "cell_type": "code",
      "execution_count": 40,
      "id": "9ef0924e",
      "metadata": {
        "id": "9ef0924e"
      },
      "outputs": [],
      "source": [
        "data_insurance.insert(0, 'id', range(1, 1+len(data_insurance)))"
      ]
    },
    {
      "cell_type": "code",
      "execution_count": 41,
      "id": "198e8e4d",
      "metadata": {
        "colab": {
          "base_uri": "https://localhost:8080/",
          "height": 206
        },
        "id": "198e8e4d",
        "outputId": "7c6eebcf-d6f6-4b37-9731-5a551baa8ced"
      },
      "outputs": [
        {
          "data": {
            "text/html": [
              "<div>\n",
              "<style scoped>\n",
              "    .dataframe tbody tr th:only-of-type {\n",
              "        vertical-align: middle;\n",
              "    }\n",
              "\n",
              "    .dataframe tbody tr th {\n",
              "        vertical-align: top;\n",
              "    }\n",
              "\n",
              "    .dataframe thead th {\n",
              "        text-align: right;\n",
              "    }\n",
              "</style>\n",
              "<table border=\"1\" class=\"dataframe\">\n",
              "  <thead>\n",
              "    <tr style=\"text-align: right;\">\n",
              "      <th></th>\n",
              "      <th>id</th>\n",
              "      <th>age</th>\n",
              "      <th>sex</th>\n",
              "      <th>bmi</th>\n",
              "      <th>children</th>\n",
              "      <th>smoker</th>\n",
              "      <th>region</th>\n",
              "      <th>charges</th>\n",
              "    </tr>\n",
              "  </thead>\n",
              "  <tbody>\n",
              "    <tr>\n",
              "      <th>0</th>\n",
              "      <td>1</td>\n",
              "      <td>19</td>\n",
              "      <td>female</td>\n",
              "      <td>27.900</td>\n",
              "      <td>0</td>\n",
              "      <td>yes</td>\n",
              "      <td>southwest</td>\n",
              "      <td>16884.92400</td>\n",
              "    </tr>\n",
              "    <tr>\n",
              "      <th>1</th>\n",
              "      <td>2</td>\n",
              "      <td>18</td>\n",
              "      <td>male</td>\n",
              "      <td>33.770</td>\n",
              "      <td>1</td>\n",
              "      <td>no</td>\n",
              "      <td>southeast</td>\n",
              "      <td>1725.55230</td>\n",
              "    </tr>\n",
              "    <tr>\n",
              "      <th>2</th>\n",
              "      <td>3</td>\n",
              "      <td>28</td>\n",
              "      <td>male</td>\n",
              "      <td>33.000</td>\n",
              "      <td>3</td>\n",
              "      <td>no</td>\n",
              "      <td>southeast</td>\n",
              "      <td>4449.46200</td>\n",
              "    </tr>\n",
              "    <tr>\n",
              "      <th>3</th>\n",
              "      <td>4</td>\n",
              "      <td>33</td>\n",
              "      <td>male</td>\n",
              "      <td>22.705</td>\n",
              "      <td>0</td>\n",
              "      <td>no</td>\n",
              "      <td>northwest</td>\n",
              "      <td>21984.47061</td>\n",
              "    </tr>\n",
              "    <tr>\n",
              "      <th>4</th>\n",
              "      <td>5</td>\n",
              "      <td>32</td>\n",
              "      <td>male</td>\n",
              "      <td>28.880</td>\n",
              "      <td>0</td>\n",
              "      <td>no</td>\n",
              "      <td>northwest</td>\n",
              "      <td>3866.85520</td>\n",
              "    </tr>\n",
              "  </tbody>\n",
              "</table>\n",
              "</div>"
            ],
            "text/plain": [
              "   id  age     sex     bmi  children smoker     region      charges\n",
              "0   1   19  female  27.900         0    yes  southwest  16884.92400\n",
              "1   2   18    male  33.770         1     no  southeast   1725.55230\n",
              "2   3   28    male  33.000         3     no  southeast   4449.46200\n",
              "3   4   33    male  22.705         0     no  northwest  21984.47061\n",
              "4   5   32    male  28.880         0     no  northwest   3866.85520"
            ]
          },
          "execution_count": 41,
          "metadata": {},
          "output_type": "execute_result"
        }
      ],
      "source": [
        "data_insurance.head()"
      ]
    },
    {
      "cell_type": "markdown",
      "id": "540831c5",
      "metadata": {
        "id": "540831c5"
      },
      "source": [
        "## Tahap 6: Mengeksplorasi dan Menganalisis Data"
      ]
    },
    {
      "cell_type": "markdown",
      "id": "8a23f9fa",
      "metadata": {
        "id": "8a23f9fa"
      },
      "source": [
        "Pada tahap ini bisa dilakukan pengelompokkan terhadap data berdasarkan kolom tertentu untuk dianalisis, mencari hubungan di antara kolom, melakukan filtrasi data, dan sebagainya"
      ]
    },
    {
      "cell_type": "code",
      "execution_count": 42,
      "id": "952006cf",
      "metadata": {
        "colab": {
          "base_uri": "https://localhost:8080/",
          "height": 206
        },
        "id": "952006cf",
        "outputId": "949a9f2e-1d52-444a-8b6c-a92a159e4f9d"
      },
      "outputs": [
        {
          "data": {
            "text/html": [
              "<div>\n",
              "<style scoped>\n",
              "    .dataframe tbody tr th:only-of-type {\n",
              "        vertical-align: middle;\n",
              "    }\n",
              "\n",
              "    .dataframe tbody tr th {\n",
              "        vertical-align: top;\n",
              "    }\n",
              "\n",
              "    .dataframe thead th {\n",
              "        text-align: right;\n",
              "    }\n",
              "</style>\n",
              "<table border=\"1\" class=\"dataframe\">\n",
              "  <thead>\n",
              "    <tr style=\"text-align: right;\">\n",
              "      <th></th>\n",
              "      <th>id</th>\n",
              "      <th>age</th>\n",
              "      <th>sex</th>\n",
              "      <th>bmi</th>\n",
              "      <th>children</th>\n",
              "      <th>smoker</th>\n",
              "      <th>region</th>\n",
              "      <th>charges</th>\n",
              "    </tr>\n",
              "  </thead>\n",
              "  <tbody>\n",
              "    <tr>\n",
              "      <th>143</th>\n",
              "      <td>141</td>\n",
              "      <td>29</td>\n",
              "      <td>male</td>\n",
              "      <td>29.735</td>\n",
              "      <td>2</td>\n",
              "      <td>no</td>\n",
              "      <td>northwest</td>\n",
              "      <td>18157.87600</td>\n",
              "    </tr>\n",
              "    <tr>\n",
              "      <th>1229</th>\n",
              "      <td>1209</td>\n",
              "      <td>58</td>\n",
              "      <td>male</td>\n",
              "      <td>30.305</td>\n",
              "      <td>0</td>\n",
              "      <td>no</td>\n",
              "      <td>northeast</td>\n",
              "      <td>11938.25595</td>\n",
              "    </tr>\n",
              "    <tr>\n",
              "      <th>749</th>\n",
              "      <td>734</td>\n",
              "      <td>28</td>\n",
              "      <td>male</td>\n",
              "      <td>30.875</td>\n",
              "      <td>0</td>\n",
              "      <td>no</td>\n",
              "      <td>northwest</td>\n",
              "      <td>3062.50825</td>\n",
              "    </tr>\n",
              "    <tr>\n",
              "      <th>316</th>\n",
              "      <td>310</td>\n",
              "      <td>50</td>\n",
              "      <td>male</td>\n",
              "      <td>32.205</td>\n",
              "      <td>0</td>\n",
              "      <td>no</td>\n",
              "      <td>northwest</td>\n",
              "      <td>8835.26495</td>\n",
              "    </tr>\n",
              "    <tr>\n",
              "      <th>705</th>\n",
              "      <td>690</td>\n",
              "      <td>33</td>\n",
              "      <td>female</td>\n",
              "      <td>32.900</td>\n",
              "      <td>2</td>\n",
              "      <td>no</td>\n",
              "      <td>southwest</td>\n",
              "      <td>5375.03800</td>\n",
              "    </tr>\n",
              "  </tbody>\n",
              "</table>\n",
              "</div>"
            ],
            "text/plain": [
              "        id  age     sex     bmi  children smoker     region      charges\n",
              "143    141   29    male  29.735         2     no  northwest  18157.87600\n",
              "1229  1209   58    male  30.305         0     no  northeast  11938.25595\n",
              "749    734   28    male  30.875         0     no  northwest   3062.50825\n",
              "316    310   50    male  32.205         0     no  northwest   8835.26495\n",
              "705    690   33  female  32.900         2     no  southwest   5375.03800"
            ]
          },
          "execution_count": 42,
          "metadata": {},
          "output_type": "execute_result"
        }
      ],
      "source": [
        "# Berikan penjelasan/kesimpulan untuk setiap analisis data yang telah dilakukan\n",
        "data_insurance.sample(5)"
      ]
    },
    {
      "cell_type": "code",
      "execution_count": 43,
      "id": "ee67d660",
      "metadata": {
        "colab": {
          "base_uri": "https://localhost:8080/",
          "height": 394
        },
        "id": "ee67d660",
        "outputId": "af3bc22c-f993-4994-c4e6-d732ecd99122"
      },
      "outputs": [
        {
          "data": {
            "text/html": [
              "<div>\n",
              "<style scoped>\n",
              "    .dataframe tbody tr th:only-of-type {\n",
              "        vertical-align: middle;\n",
              "    }\n",
              "\n",
              "    .dataframe tbody tr th {\n",
              "        vertical-align: top;\n",
              "    }\n",
              "\n",
              "    .dataframe thead th {\n",
              "        text-align: right;\n",
              "    }\n",
              "</style>\n",
              "<table border=\"1\" class=\"dataframe\">\n",
              "  <thead>\n",
              "    <tr style=\"text-align: right;\">\n",
              "      <th></th>\n",
              "      <th>id</th>\n",
              "      <th>age</th>\n",
              "      <th>sex</th>\n",
              "      <th>bmi</th>\n",
              "      <th>children</th>\n",
              "      <th>smoker</th>\n",
              "      <th>region</th>\n",
              "      <th>charges</th>\n",
              "    </tr>\n",
              "  </thead>\n",
              "  <tbody>\n",
              "    <tr>\n",
              "      <th>count</th>\n",
              "      <td>1316.000000</td>\n",
              "      <td>1316.000000</td>\n",
              "      <td>1316</td>\n",
              "      <td>1316.000000</td>\n",
              "      <td>1316.000000</td>\n",
              "      <td>1316</td>\n",
              "      <td>1316</td>\n",
              "      <td>1316.000000</td>\n",
              "    </tr>\n",
              "    <tr>\n",
              "      <th>unique</th>\n",
              "      <td>NaN</td>\n",
              "      <td>NaN</td>\n",
              "      <td>2</td>\n",
              "      <td>NaN</td>\n",
              "      <td>NaN</td>\n",
              "      <td>2</td>\n",
              "      <td>4</td>\n",
              "      <td>NaN</td>\n",
              "    </tr>\n",
              "    <tr>\n",
              "      <th>top</th>\n",
              "      <td>NaN</td>\n",
              "      <td>NaN</td>\n",
              "      <td>male</td>\n",
              "      <td>NaN</td>\n",
              "      <td>NaN</td>\n",
              "      <td>no</td>\n",
              "      <td>southeast</td>\n",
              "      <td>NaN</td>\n",
              "    </tr>\n",
              "    <tr>\n",
              "      <th>freq</th>\n",
              "      <td>NaN</td>\n",
              "      <td>NaN</td>\n",
              "      <td>665</td>\n",
              "      <td>NaN</td>\n",
              "      <td>NaN</td>\n",
              "      <td>1049</td>\n",
              "      <td>356</td>\n",
              "      <td>NaN</td>\n",
              "    </tr>\n",
              "    <tr>\n",
              "      <th>mean</th>\n",
              "      <td>658.500000</td>\n",
              "      <td>39.224164</td>\n",
              "      <td>NaN</td>\n",
              "      <td>30.661926</td>\n",
              "      <td>1.095745</td>\n",
              "      <td>NaN</td>\n",
              "      <td>NaN</td>\n",
              "      <td>13254.671317</td>\n",
              "    </tr>\n",
              "    <tr>\n",
              "      <th>std</th>\n",
              "      <td>380.040787</td>\n",
              "      <td>14.057808</td>\n",
              "      <td>NaN</td>\n",
              "      <td>6.089311</td>\n",
              "      <td>1.207057</td>\n",
              "      <td>NaN</td>\n",
              "      <td>NaN</td>\n",
              "      <td>12109.448424</td>\n",
              "    </tr>\n",
              "    <tr>\n",
              "      <th>min</th>\n",
              "      <td>1.000000</td>\n",
              "      <td>18.000000</td>\n",
              "      <td>NaN</td>\n",
              "      <td>15.960000</td>\n",
              "      <td>0.000000</td>\n",
              "      <td>NaN</td>\n",
              "      <td>NaN</td>\n",
              "      <td>1121.873900</td>\n",
              "    </tr>\n",
              "    <tr>\n",
              "      <th>25%</th>\n",
              "      <td>329.750000</td>\n",
              "      <td>27.000000</td>\n",
              "      <td>NaN</td>\n",
              "      <td>26.308750</td>\n",
              "      <td>0.000000</td>\n",
              "      <td>NaN</td>\n",
              "      <td>NaN</td>\n",
              "      <td>4733.635288</td>\n",
              "    </tr>\n",
              "    <tr>\n",
              "      <th>50%</th>\n",
              "      <td>658.500000</td>\n",
              "      <td>39.000000</td>\n",
              "      <td>NaN</td>\n",
              "      <td>30.400000</td>\n",
              "      <td>1.000000</td>\n",
              "      <td>NaN</td>\n",
              "      <td>NaN</td>\n",
              "      <td>9382.033000</td>\n",
              "    </tr>\n",
              "    <tr>\n",
              "      <th>75%</th>\n",
              "      <td>987.250000</td>\n",
              "      <td>51.000000</td>\n",
              "      <td>NaN</td>\n",
              "      <td>34.717500</td>\n",
              "      <td>2.000000</td>\n",
              "      <td>NaN</td>\n",
              "      <td>NaN</td>\n",
              "      <td>16604.302645</td>\n",
              "    </tr>\n",
              "    <tr>\n",
              "      <th>max</th>\n",
              "      <td>1316.000000</td>\n",
              "      <td>64.000000</td>\n",
              "      <td>NaN</td>\n",
              "      <td>53.130000</td>\n",
              "      <td>5.000000</td>\n",
              "      <td>NaN</td>\n",
              "      <td>NaN</td>\n",
              "      <td>63770.428010</td>\n",
              "    </tr>\n",
              "  </tbody>\n",
              "</table>\n",
              "</div>"
            ],
            "text/plain": [
              "                 id          age   sex          bmi     children smoker  \\\n",
              "count   1316.000000  1316.000000  1316  1316.000000  1316.000000   1316   \n",
              "unique          NaN          NaN     2          NaN          NaN      2   \n",
              "top             NaN          NaN  male          NaN          NaN     no   \n",
              "freq            NaN          NaN   665          NaN          NaN   1049   \n",
              "mean     658.500000    39.224164   NaN    30.661926     1.095745    NaN   \n",
              "std      380.040787    14.057808   NaN     6.089311     1.207057    NaN   \n",
              "min        1.000000    18.000000   NaN    15.960000     0.000000    NaN   \n",
              "25%      329.750000    27.000000   NaN    26.308750     0.000000    NaN   \n",
              "50%      658.500000    39.000000   NaN    30.400000     1.000000    NaN   \n",
              "75%      987.250000    51.000000   NaN    34.717500     2.000000    NaN   \n",
              "max     1316.000000    64.000000   NaN    53.130000     5.000000    NaN   \n",
              "\n",
              "           region       charges  \n",
              "count        1316   1316.000000  \n",
              "unique          4           NaN  \n",
              "top     southeast           NaN  \n",
              "freq          356           NaN  \n",
              "mean          NaN  13254.671317  \n",
              "std           NaN  12109.448424  \n",
              "min           NaN   1121.873900  \n",
              "25%           NaN   4733.635288  \n",
              "50%           NaN   9382.033000  \n",
              "75%           NaN  16604.302645  \n",
              "max           NaN  63770.428010  "
            ]
          },
          "execution_count": 43,
          "metadata": {},
          "output_type": "execute_result"
        }
      ],
      "source": [
        "data_insurance.describe(include=\"all\")"
      ]
    },
    {
      "cell_type": "code",
      "execution_count": 44,
      "id": "d1047c5b",
      "metadata": {
        "colab": {
          "base_uri": "https://localhost:8080/"
        },
        "id": "d1047c5b",
        "outputId": "45f71dd7-a12b-4bcb-a1ab-b56a2b7dcebb"
      },
      "outputs": [
        {
          "data": {
            "text/plain": [
              "True"
            ]
          },
          "execution_count": 44,
          "metadata": {},
          "output_type": "execute_result"
        }
      ],
      "source": [
        "data_insurance.id.is_unique"
      ]
    },
    {
      "cell_type": "code",
      "execution_count": 45,
      "id": "965c2501",
      "metadata": {
        "colab": {
          "base_uri": "https://localhost:8080/"
        },
        "id": "965c2501",
        "outputId": "25d37034-b60c-480f-a4fe-ff0553d0dba8"
      },
      "outputs": [
        {
          "data": {
            "text/plain": [
              "<bound method Series.duplicated of 0          1\n",
              "1          2\n",
              "2          3\n",
              "3          4\n",
              "4          5\n",
              "        ... \n",
              "1333    1312\n",
              "1334    1313\n",
              "1335    1314\n",
              "1336    1315\n",
              "1337    1316\n",
              "Name: id, Length: 1316, dtype: int64>"
            ]
          },
          "execution_count": 45,
          "metadata": {},
          "output_type": "execute_result"
        }
      ],
      "source": [
        "data_insurance.id.duplicated"
      ]
    },
    {
      "cell_type": "code",
      "execution_count": 46,
      "id": "f9d2b46e",
      "metadata": {
        "id": "f9d2b46e"
      },
      "outputs": [],
      "source": [
        "data_insurance['age_group'] = data_insurance['age'].apply(lambda x: \"Teen\" if x <=21 else (\"Mature\" if x > 60 else \"Elderly\"))\n"
      ]
    },
    {
      "cell_type": "code",
      "execution_count": 47,
      "id": "ff4bc247",
      "metadata": {
        "colab": {
          "base_uri": "https://localhost:8080/",
          "height": 206
        },
        "id": "ff4bc247",
        "outputId": "c58cff53-cfff-41f5-fd64-db3b981de94b"
      },
      "outputs": [
        {
          "data": {
            "text/html": [
              "<div>\n",
              "<style scoped>\n",
              "    .dataframe tbody tr th:only-of-type {\n",
              "        vertical-align: middle;\n",
              "    }\n",
              "\n",
              "    .dataframe tbody tr th {\n",
              "        vertical-align: top;\n",
              "    }\n",
              "\n",
              "    .dataframe thead th {\n",
              "        text-align: right;\n",
              "    }\n",
              "</style>\n",
              "<table border=\"1\" class=\"dataframe\">\n",
              "  <thead>\n",
              "    <tr style=\"text-align: right;\">\n",
              "      <th></th>\n",
              "      <th>id</th>\n",
              "      <th>age</th>\n",
              "      <th>sex</th>\n",
              "      <th>bmi</th>\n",
              "      <th>children</th>\n",
              "      <th>smoker</th>\n",
              "      <th>region</th>\n",
              "      <th>charges</th>\n",
              "      <th>age_group</th>\n",
              "    </tr>\n",
              "  </thead>\n",
              "  <tbody>\n",
              "    <tr>\n",
              "      <th>0</th>\n",
              "      <td>1</td>\n",
              "      <td>19</td>\n",
              "      <td>female</td>\n",
              "      <td>27.900</td>\n",
              "      <td>0</td>\n",
              "      <td>yes</td>\n",
              "      <td>southwest</td>\n",
              "      <td>16884.92400</td>\n",
              "      <td>Teen</td>\n",
              "    </tr>\n",
              "    <tr>\n",
              "      <th>1</th>\n",
              "      <td>2</td>\n",
              "      <td>18</td>\n",
              "      <td>male</td>\n",
              "      <td>33.770</td>\n",
              "      <td>1</td>\n",
              "      <td>no</td>\n",
              "      <td>southeast</td>\n",
              "      <td>1725.55230</td>\n",
              "      <td>Teen</td>\n",
              "    </tr>\n",
              "    <tr>\n",
              "      <th>2</th>\n",
              "      <td>3</td>\n",
              "      <td>28</td>\n",
              "      <td>male</td>\n",
              "      <td>33.000</td>\n",
              "      <td>3</td>\n",
              "      <td>no</td>\n",
              "      <td>southeast</td>\n",
              "      <td>4449.46200</td>\n",
              "      <td>Elderly</td>\n",
              "    </tr>\n",
              "    <tr>\n",
              "      <th>3</th>\n",
              "      <td>4</td>\n",
              "      <td>33</td>\n",
              "      <td>male</td>\n",
              "      <td>22.705</td>\n",
              "      <td>0</td>\n",
              "      <td>no</td>\n",
              "      <td>northwest</td>\n",
              "      <td>21984.47061</td>\n",
              "      <td>Elderly</td>\n",
              "    </tr>\n",
              "    <tr>\n",
              "      <th>4</th>\n",
              "      <td>5</td>\n",
              "      <td>32</td>\n",
              "      <td>male</td>\n",
              "      <td>28.880</td>\n",
              "      <td>0</td>\n",
              "      <td>no</td>\n",
              "      <td>northwest</td>\n",
              "      <td>3866.85520</td>\n",
              "      <td>Elderly</td>\n",
              "    </tr>\n",
              "  </tbody>\n",
              "</table>\n",
              "</div>"
            ],
            "text/plain": [
              "   id  age     sex     bmi  children smoker     region      charges age_group\n",
              "0   1   19  female  27.900         0    yes  southwest  16884.92400      Teen\n",
              "1   2   18    male  33.770         1     no  southeast   1725.55230      Teen\n",
              "2   3   28    male  33.000         3     no  southeast   4449.46200   Elderly\n",
              "3   4   33    male  22.705         0     no  northwest  21984.47061   Elderly\n",
              "4   5   32    male  28.880         0     no  northwest   3866.85520   Elderly"
            ]
          },
          "execution_count": 47,
          "metadata": {},
          "output_type": "execute_result"
        }
      ],
      "source": [
        "data_insurance.head()"
      ]
    },
    {
      "cell_type": "code",
      "execution_count": 48,
      "id": "4dceb46e",
      "metadata": {
        "colab": {
          "base_uri": "https://localhost:8080/"
        },
        "id": "4dceb46e",
        "outputId": "33cccfe0-7008-4a23-bd25-7adc557f2f8c"
      },
      "outputs": [
        {
          "data": {
            "text/plain": [
              "age_group\n",
              "Elderly    1036\n",
              "Teen        189\n",
              "Mature       91\n",
              "Name: count, dtype: int64"
            ]
          },
          "execution_count": 48,
          "metadata": {},
          "output_type": "execute_result"
        }
      ],
      "source": [
        "data_insurance['age_group'].value_counts()"
      ]
    },
    {
      "cell_type": "code",
      "execution_count": 49,
      "id": "G8v3sTnQgImQ",
      "metadata": {
        "colab": {
          "base_uri": "https://localhost:8080/"
        },
        "id": "G8v3sTnQgImQ",
        "outputId": "0b860003-c3ba-4fbf-a86c-33846ab99ee8"
      },
      "outputs": [
        {
          "name": "stdout",
          "output_type": "stream",
          "text": [
            "Jumlah berdasarkan jenis kelamin:\n",
            "sex\n",
            "male      665\n",
            "female    651\n",
            "Name: count, dtype: int64\n",
            "\n",
            "\n"
          ]
        }
      ],
      "source": [
        "print(\"Jumlah berdasarkan jenis kelamin:\")\n",
        "print(data_insurance['sex'].value_counts())\n",
        "print(\"\\n\")"
      ]
    },
    {
      "cell_type": "code",
      "execution_count": 50,
      "id": "ZvKGgUi_fk1W",
      "metadata": {
        "colab": {
          "base_uri": "https://localhost:8080/"
        },
        "id": "ZvKGgUi_fk1W",
        "outputId": "db9aa39d-b08b-4700-b3bf-f88b4db76e6d"
      },
      "outputs": [
        {
          "name": "stdout",
          "output_type": "stream",
          "text": [
            "Average of BMI:\n",
            "30.661926291793314\n",
            "\n",
            "\n"
          ]
        }
      ],
      "source": [
        "print(\"Average of BMI:\")\n",
        "print(data_insurance['bmi'].mean())\n",
        "print(\"\\n\")"
      ]
    },
    {
      "cell_type": "code",
      "execution_count": 51,
      "id": "890501de",
      "metadata": {},
      "outputs": [
        {
          "data": {
            "text/plain": [
              "children\n",
              "0    566\n",
              "1    315\n",
              "2    238\n",
              "3    155\n",
              "4     24\n",
              "5     18\n",
              "Name: count, dtype: int64"
            ]
          },
          "execution_count": 51,
          "metadata": {},
          "output_type": "execute_result"
        }
      ],
      "source": [
        "data_insurance.children.value_counts()"
      ]
    },
    {
      "cell_type": "code",
      "execution_count": 52,
      "id": "b27e5bf0",
      "metadata": {},
      "outputs": [
        {
          "data": {
            "text/plain": [
              "smoker\n",
              "no     1049\n",
              "yes     267\n",
              "Name: count, dtype: int64"
            ]
          },
          "execution_count": 52,
          "metadata": {},
          "output_type": "execute_result"
        }
      ],
      "source": [
        "data_insurance.smoker.value_counts()"
      ]
    },
    {
      "cell_type": "code",
      "execution_count": 53,
      "id": "b7b38cfb",
      "metadata": {},
      "outputs": [
        {
          "data": {
            "text/plain": [
              "region\n",
              "southeast    356\n",
              "southwest    321\n",
              "northeast    321\n",
              "northwest    318\n",
              "Name: count, dtype: int64"
            ]
          },
          "execution_count": 53,
          "metadata": {},
          "output_type": "execute_result"
        }
      ],
      "source": [
        "data_insurance.region.value_counts()"
      ]
    },
    {
      "cell_type": "code",
      "execution_count": 54,
      "id": "da542c30",
      "metadata": {},
      "outputs": [
        {
          "data": {
            "text/plain": [
              "count     1316.000000\n",
              "mean     13254.671317\n",
              "std      12109.448424\n",
              "min       1121.873900\n",
              "25%       4733.635288\n",
              "50%       9382.033000\n",
              "75%      16604.302645\n",
              "max      63770.428010\n",
              "Name: charges, dtype: float64"
            ]
          },
          "execution_count": 54,
          "metadata": {},
          "output_type": "execute_result"
        }
      ],
      "source": [
        "data_insurance.charges.describe()"
      ]
    },
    {
      "cell_type": "code",
      "execution_count": 55,
      "id": "e4b7febf",
      "metadata": {},
      "outputs": [
        {
          "data": {
            "text/plain": [
              "bmi_category\n",
              "obese          705\n",
              "overweight     372\n",
              "normal         219\n",
              "underweight     20\n",
              "Name: count, dtype: int64"
            ]
          },
          "execution_count": 55,
          "metadata": {},
          "output_type": "execute_result"
        }
      ],
      "source": [
        "data_insurance['bmi_category'] = pd.cut(data_insurance['bmi'], \n",
        "                                        bins=[-float('inf'), 18.5, 24.9, 29.9, float('inf')],\n",
        "                                        labels=['underweight', 'normal', 'overweight', 'obese'])\n",
        "\n",
        "bmi_category = data_insurance['bmi_category']\n",
        "\n",
        "data_insurance.bmi_category.value_counts()\n"
      ]
    },
    {
      "cell_type": "code",
      "execution_count": 56,
      "id": "9fea84e9",
      "metadata": {},
      "outputs": [
        {
          "data": {
            "text/plain": [
              "status\n",
              "married    750\n",
              "single     566\n",
              "Name: count, dtype: int64"
            ]
          },
          "execution_count": 56,
          "metadata": {},
          "output_type": "execute_result"
        }
      ],
      "source": [
        "data_insurance['status'] = data_insurance['children'].apply(lambda x: \"single\" if x == 0 else \"married\")\n",
        "\n",
        "status = data_insurance['status']\n",
        "\n",
        "data_insurance.status.value_counts()\n"
      ]
    },
    {
      "cell_type": "code",
      "execution_count": 57,
      "id": "f5068ab3",
      "metadata": {},
      "outputs": [
        {
          "name": "stdout",
          "output_type": "stream",
          "text": [
            "       charges charges_category\n",
            "0  16884.92400           medium\n",
            "1   1725.55230         very low\n",
            "2   4449.46200         very low\n",
            "3  21984.47061             high\n",
            "4   3866.85520         very low\n"
          ]
        }
      ],
      "source": [
        "data_insurance['charges_category'] = pd.cut(data_insurance['charges'], \n",
        "                                            bins=[-float('inf'), 5000, 10000, 20000, 30000, float('inf')],\n",
        "                                            labels=['very low', 'low', 'medium', 'high', 'very high'])\n",
        "\n",
        "charges_category = data_insurance['charges_category']\n",
        "\n",
        "print(data_insurance[['charges', 'charges_category']].head())\n"
      ]
    },
    {
      "cell_type": "code",
      "execution_count": 58,
      "id": "0c22d45d",
      "metadata": {},
      "outputs": [
        {
          "data": {
            "text/plain": [
              "charges_category\n",
              "very low     354\n",
              "medium       349\n",
              "low          346\n",
              "very high    159\n",
              "high         108\n",
              "Name: count, dtype: int64"
            ]
          },
          "execution_count": 58,
          "metadata": {},
          "output_type": "execute_result"
        }
      ],
      "source": [
        "data_insurance.charges_category.value_counts()"
      ]
    },
    {
      "cell_type": "code",
      "execution_count": 59,
      "id": "57ce7a62",
      "metadata": {},
      "outputs": [
        {
          "data": {
            "text/html": [
              "<div>\n",
              "<style scoped>\n",
              "    .dataframe tbody tr th:only-of-type {\n",
              "        vertical-align: middle;\n",
              "    }\n",
              "\n",
              "    .dataframe tbody tr th {\n",
              "        vertical-align: top;\n",
              "    }\n",
              "\n",
              "    .dataframe thead th {\n",
              "        text-align: right;\n",
              "    }\n",
              "</style>\n",
              "<table border=\"1\" class=\"dataframe\">\n",
              "  <thead>\n",
              "    <tr style=\"text-align: right;\">\n",
              "      <th></th>\n",
              "      <th>id</th>\n",
              "      <th>age</th>\n",
              "      <th>sex</th>\n",
              "      <th>bmi</th>\n",
              "      <th>children</th>\n",
              "      <th>smoker</th>\n",
              "      <th>region</th>\n",
              "      <th>charges</th>\n",
              "      <th>age_group</th>\n",
              "      <th>bmi_category</th>\n",
              "      <th>status</th>\n",
              "      <th>charges_category</th>\n",
              "    </tr>\n",
              "  </thead>\n",
              "  <tbody>\n",
              "    <tr>\n",
              "      <th>0</th>\n",
              "      <td>1</td>\n",
              "      <td>19</td>\n",
              "      <td>female</td>\n",
              "      <td>27.900</td>\n",
              "      <td>0</td>\n",
              "      <td>yes</td>\n",
              "      <td>southwest</td>\n",
              "      <td>16884.92400</td>\n",
              "      <td>Teen</td>\n",
              "      <td>overweight</td>\n",
              "      <td>single</td>\n",
              "      <td>medium</td>\n",
              "    </tr>\n",
              "    <tr>\n",
              "      <th>1</th>\n",
              "      <td>2</td>\n",
              "      <td>18</td>\n",
              "      <td>male</td>\n",
              "      <td>33.770</td>\n",
              "      <td>1</td>\n",
              "      <td>no</td>\n",
              "      <td>southeast</td>\n",
              "      <td>1725.55230</td>\n",
              "      <td>Teen</td>\n",
              "      <td>obese</td>\n",
              "      <td>married</td>\n",
              "      <td>very low</td>\n",
              "    </tr>\n",
              "    <tr>\n",
              "      <th>2</th>\n",
              "      <td>3</td>\n",
              "      <td>28</td>\n",
              "      <td>male</td>\n",
              "      <td>33.000</td>\n",
              "      <td>3</td>\n",
              "      <td>no</td>\n",
              "      <td>southeast</td>\n",
              "      <td>4449.46200</td>\n",
              "      <td>Elderly</td>\n",
              "      <td>obese</td>\n",
              "      <td>married</td>\n",
              "      <td>very low</td>\n",
              "    </tr>\n",
              "    <tr>\n",
              "      <th>3</th>\n",
              "      <td>4</td>\n",
              "      <td>33</td>\n",
              "      <td>male</td>\n",
              "      <td>22.705</td>\n",
              "      <td>0</td>\n",
              "      <td>no</td>\n",
              "      <td>northwest</td>\n",
              "      <td>21984.47061</td>\n",
              "      <td>Elderly</td>\n",
              "      <td>normal</td>\n",
              "      <td>single</td>\n",
              "      <td>high</td>\n",
              "    </tr>\n",
              "    <tr>\n",
              "      <th>4</th>\n",
              "      <td>5</td>\n",
              "      <td>32</td>\n",
              "      <td>male</td>\n",
              "      <td>28.880</td>\n",
              "      <td>0</td>\n",
              "      <td>no</td>\n",
              "      <td>northwest</td>\n",
              "      <td>3866.85520</td>\n",
              "      <td>Elderly</td>\n",
              "      <td>overweight</td>\n",
              "      <td>single</td>\n",
              "      <td>very low</td>\n",
              "    </tr>\n",
              "  </tbody>\n",
              "</table>\n",
              "</div>"
            ],
            "text/plain": [
              "   id  age     sex     bmi  children smoker     region      charges age_group  \\\n",
              "0   1   19  female  27.900         0    yes  southwest  16884.92400      Teen   \n",
              "1   2   18    male  33.770         1     no  southeast   1725.55230      Teen   \n",
              "2   3   28    male  33.000         3     no  southeast   4449.46200   Elderly   \n",
              "3   4   33    male  22.705         0     no  northwest  21984.47061   Elderly   \n",
              "4   5   32    male  28.880         0     no  northwest   3866.85520   Elderly   \n",
              "\n",
              "  bmi_category   status charges_category  \n",
              "0   overweight   single           medium  \n",
              "1        obese  married         very low  \n",
              "2        obese  married         very low  \n",
              "3       normal   single             high  \n",
              "4   overweight   single         very low  "
            ]
          },
          "execution_count": 59,
          "metadata": {},
          "output_type": "execute_result"
        }
      ],
      "source": [
        "data_insurance.head()"
      ]
    },
    {
      "cell_type": "markdown",
      "id": "48e860c3",
      "metadata": {
        "id": "48e860c3"
      },
      "source": [
        "## Tahap 7: Memvisualisasikan Data"
      ]
    },
    {
      "cell_type": "markdown",
      "id": "3a4bd72c",
      "metadata": {
        "id": "3a4bd72c"
      },
      "source": [
        "Pada tahap ini, sajikan informasi dalam format gambar/grafik untuk setiap pertanyaan bisnis"
      ]
    },
    {
      "cell_type": "code",
      "execution_count": 60,
      "id": "2c67e5c9",
      "metadata": {
        "id": "2c67e5c9"
      },
      "outputs": [],
      "source": [
        "# Buat visualisasi data untuk setiap pertanyaan bisnis yang telah ditentukan di awal\n",
        "# Berikan penjelasan/kesimpulan untuk setiap visualisasi data tersebut\n"
      ]
    },
    {
      "cell_type": "code",
      "execution_count": 61,
      "id": "b8bbf6a5",
      "metadata": {},
      "outputs": [
        {
          "data": {
            "text/html": [
              "<div>\n",
              "<style scoped>\n",
              "    .dataframe tbody tr th:only-of-type {\n",
              "        vertical-align: middle;\n",
              "    }\n",
              "\n",
              "    .dataframe tbody tr th {\n",
              "        vertical-align: top;\n",
              "    }\n",
              "\n",
              "    .dataframe thead th {\n",
              "        text-align: right;\n",
              "    }\n",
              "</style>\n",
              "<table border=\"1\" class=\"dataframe\">\n",
              "  <thead>\n",
              "    <tr style=\"text-align: right;\">\n",
              "      <th></th>\n",
              "      <th>id</th>\n",
              "      <th>age</th>\n",
              "      <th>sex</th>\n",
              "      <th>bmi</th>\n",
              "      <th>children</th>\n",
              "      <th>smoker</th>\n",
              "      <th>region</th>\n",
              "      <th>charges</th>\n",
              "      <th>age_group</th>\n",
              "      <th>bmi_category</th>\n",
              "      <th>status</th>\n",
              "      <th>charges_category</th>\n",
              "    </tr>\n",
              "  </thead>\n",
              "  <tbody>\n",
              "    <tr>\n",
              "      <th>0</th>\n",
              "      <td>1</td>\n",
              "      <td>19</td>\n",
              "      <td>female</td>\n",
              "      <td>27.900</td>\n",
              "      <td>0</td>\n",
              "      <td>yes</td>\n",
              "      <td>southwest</td>\n",
              "      <td>16884.92400</td>\n",
              "      <td>Teen</td>\n",
              "      <td>overweight</td>\n",
              "      <td>single</td>\n",
              "      <td>medium</td>\n",
              "    </tr>\n",
              "    <tr>\n",
              "      <th>1</th>\n",
              "      <td>2</td>\n",
              "      <td>18</td>\n",
              "      <td>male</td>\n",
              "      <td>33.770</td>\n",
              "      <td>1</td>\n",
              "      <td>no</td>\n",
              "      <td>southeast</td>\n",
              "      <td>1725.55230</td>\n",
              "      <td>Teen</td>\n",
              "      <td>obese</td>\n",
              "      <td>married</td>\n",
              "      <td>very low</td>\n",
              "    </tr>\n",
              "    <tr>\n",
              "      <th>2</th>\n",
              "      <td>3</td>\n",
              "      <td>28</td>\n",
              "      <td>male</td>\n",
              "      <td>33.000</td>\n",
              "      <td>3</td>\n",
              "      <td>no</td>\n",
              "      <td>southeast</td>\n",
              "      <td>4449.46200</td>\n",
              "      <td>Elderly</td>\n",
              "      <td>obese</td>\n",
              "      <td>married</td>\n",
              "      <td>very low</td>\n",
              "    </tr>\n",
              "    <tr>\n",
              "      <th>3</th>\n",
              "      <td>4</td>\n",
              "      <td>33</td>\n",
              "      <td>male</td>\n",
              "      <td>22.705</td>\n",
              "      <td>0</td>\n",
              "      <td>no</td>\n",
              "      <td>northwest</td>\n",
              "      <td>21984.47061</td>\n",
              "      <td>Elderly</td>\n",
              "      <td>normal</td>\n",
              "      <td>single</td>\n",
              "      <td>high</td>\n",
              "    </tr>\n",
              "    <tr>\n",
              "      <th>4</th>\n",
              "      <td>5</td>\n",
              "      <td>32</td>\n",
              "      <td>male</td>\n",
              "      <td>28.880</td>\n",
              "      <td>0</td>\n",
              "      <td>no</td>\n",
              "      <td>northwest</td>\n",
              "      <td>3866.85520</td>\n",
              "      <td>Elderly</td>\n",
              "      <td>overweight</td>\n",
              "      <td>single</td>\n",
              "      <td>very low</td>\n",
              "    </tr>\n",
              "  </tbody>\n",
              "</table>\n",
              "</div>"
            ],
            "text/plain": [
              "   id  age     sex     bmi  children smoker     region      charges age_group  \\\n",
              "0   1   19  female  27.900         0    yes  southwest  16884.92400      Teen   \n",
              "1   2   18    male  33.770         1     no  southeast   1725.55230      Teen   \n",
              "2   3   28    male  33.000         3     no  southeast   4449.46200   Elderly   \n",
              "3   4   33    male  22.705         0     no  northwest  21984.47061   Elderly   \n",
              "4   5   32    male  28.880         0     no  northwest   3866.85520   Elderly   \n",
              "\n",
              "  bmi_category   status charges_category  \n",
              "0   overweight   single           medium  \n",
              "1        obese  married         very low  \n",
              "2        obese  married         very low  \n",
              "3       normal   single             high  \n",
              "4   overweight   single         very low  "
            ]
          },
          "execution_count": 61,
          "metadata": {},
          "output_type": "execute_result"
        }
      ],
      "source": [
        "data_insurance.head()\n"
      ]
    },
    {
      "cell_type": "markdown",
      "id": "ee6959ad",
      "metadata": {},
      "source": [
        "### 1. Distribusi Nasabah"
      ]
    },
    {
      "cell_type": "markdown",
      "id": "447d7048",
      "metadata": {},
      "source": [
        "#### age status"
      ]
    },
    {
      "cell_type": "code",
      "execution_count": 62,
      "id": "aaee8ce2",
      "metadata": {},
      "outputs": [
        {
          "data": {
            "image/png": "[encoded data removed]",
            "text/plain": [
              "<Figure size 1000x600 with 1 Axes>"
            ]
          },
          "metadata": {},
          "output_type": "display_data"
        }
      ],
      "source": [
        "plt.figure(figsize=(10,6))\n",
        "plt.hist(data_insurance['age'], bins=10, edgecolor='black')\n",
        "plt.title('Customer Age Distribution')\n",
        "plt.xlabel('Age')\n",
        "plt.ylabel('Amount')\n",
        "plt.show()"
      ]
    },
    {
      "cell_type": "markdown",
      "id": "47f2d66a",
      "metadata": {},
      "source": [
        "#### Sex"
      ]
    },
    {
      "cell_type": "code",
      "execution_count": 63,
      "id": "3034526a",
      "metadata": {},
      "outputs": [
        {
          "data": {
            "image/png": "[encoded data removed]",
            "text/plain": [
              "<Figure size 1000x600 with 1 Axes>"
            ]
          },
          "metadata": {},
          "output_type": "display_data"
        }
      ],
      "source": [
        "sex = data_insurance['sex'].value_counts()\n",
        "plt.figure(figsize=(10,6))\n",
        "plt.pie(sex, labels=sex.index, autopct='%1.1f%%')\n",
        "plt.title('Gender proportion')\n",
        "plt.show()"
      ]
    },
    {
      "cell_type": "markdown",
      "id": "e5f1f7d1",
      "metadata": {},
      "source": [
        "#### BMI"
      ]
    },
    {
      "cell_type": "code",
      "execution_count": 64,
      "id": "0dd4a6c9",
      "metadata": {},
      "outputs": [
        {
          "data": {
            "image/png": "[encoded data removed]",
            "text/plain": [
              "<Figure size 1000x600 with 1 Axes>"
            ]
          },
          "metadata": {},
          "output_type": "display_data"
        }
      ],
      "source": [
        "data_insurance['bmi_category'] = pd.cut(data_insurance['bmi'], bins=np.arange(10, 51, 10), right=False)\n",
        "\n",
        "plt.figure(figsize=(10, 6))\n",
        "\n",
        "# Menghitung frekuensi masing-masing kategori BMI\n",
        "bmi_counts = data_insurance['bmi_category'].value_counts().sort_index()\n",
        "\n",
        "# Membuat bar plot\n",
        "plt.bar(bmi_counts.index.astype(str), bmi_counts, edgecolor='black')\n",
        "\n",
        "plt.title('BMI Distribution')\n",
        "plt.xlabel('BMI Range')\n",
        "plt.ylabel('Frequency')\n",
        "plt.show()\n"
      ]
    },
    {
      "cell_type": "markdown",
      "id": "219d2661",
      "metadata": {},
      "source": [
        "#### Amount of Children"
      ]
    },
    {
      "cell_type": "code",
      "execution_count": 65,
      "id": "ef7eda1a",
      "metadata": {},
      "outputs": [
        {
          "data": {
            "image/png": "[encoded data removed]",
            "text/plain": [
              "<Figure size 1000x600 with 1 Axes>"
            ]
          },
          "metadata": {},
          "output_type": "display_data"
        }
      ],
      "source": [
        "plt.figure(figsize=(10, 6))\n",
        "sns.barplot(x=data_insurance.children.value_counts().index, y=data_insurance.children.value_counts(), color='skyblue', edgecolor='black')\n",
        "\n",
        "plt.title('Customer Children Distribution')\n",
        "plt.xlabel('Number of Children')\n",
        "plt.ylabel('Frequency')\n",
        "plt.show()"
      ]
    },
    {
      "cell_type": "code",
      "execution_count": 66,
      "id": "3bdefdfb",
      "metadata": {},
      "outputs": [
        {
          "data": {
            "text/html": [
              "<div>\n",
              "<style scoped>\n",
              "    .dataframe tbody tr th:only-of-type {\n",
              "        vertical-align: middle;\n",
              "    }\n",
              "\n",
              "    .dataframe tbody tr th {\n",
              "        vertical-align: top;\n",
              "    }\n",
              "\n",
              "    .dataframe thead th {\n",
              "        text-align: right;\n",
              "    }\n",
              "</style>\n",
              "<table border=\"1\" class=\"dataframe\">\n",
              "  <thead>\n",
              "    <tr style=\"text-align: right;\">\n",
              "      <th></th>\n",
              "      <th>id</th>\n",
              "      <th>age</th>\n",
              "      <th>sex</th>\n",
              "      <th>bmi</th>\n",
              "      <th>children</th>\n",
              "      <th>smoker</th>\n",
              "      <th>region</th>\n",
              "      <th>charges</th>\n",
              "      <th>age_group</th>\n",
              "      <th>bmi_category</th>\n",
              "      <th>status</th>\n",
              "      <th>charges_category</th>\n",
              "    </tr>\n",
              "  </thead>\n",
              "  <tbody>\n",
              "    <tr>\n",
              "      <th>0</th>\n",
              "      <td>1</td>\n",
              "      <td>19</td>\n",
              "      <td>female</td>\n",
              "      <td>27.900</td>\n",
              "      <td>0</td>\n",
              "      <td>yes</td>\n",
              "      <td>southwest</td>\n",
              "      <td>16884.92400</td>\n",
              "      <td>Teen</td>\n",
              "      <td>[20, 30)</td>\n",
              "      <td>single</td>\n",
              "      <td>medium</td>\n",
              "    </tr>\n",
              "    <tr>\n",
              "      <th>1</th>\n",
              "      <td>2</td>\n",
              "      <td>18</td>\n",
              "      <td>male</td>\n",
              "      <td>33.770</td>\n",
              "      <td>1</td>\n",
              "      <td>no</td>\n",
              "      <td>southeast</td>\n",
              "      <td>1725.55230</td>\n",
              "      <td>Teen</td>\n",
              "      <td>[30, 40)</td>\n",
              "      <td>married</td>\n",
              "      <td>very low</td>\n",
              "    </tr>\n",
              "    <tr>\n",
              "      <th>2</th>\n",
              "      <td>3</td>\n",
              "      <td>28</td>\n",
              "      <td>male</td>\n",
              "      <td>33.000</td>\n",
              "      <td>3</td>\n",
              "      <td>no</td>\n",
              "      <td>southeast</td>\n",
              "      <td>4449.46200</td>\n",
              "      <td>Elderly</td>\n",
              "      <td>[30, 40)</td>\n",
              "      <td>married</td>\n",
              "      <td>very low</td>\n",
              "    </tr>\n",
              "    <tr>\n",
              "      <th>3</th>\n",
              "      <td>4</td>\n",
              "      <td>33</td>\n",
              "      <td>male</td>\n",
              "      <td>22.705</td>\n",
              "      <td>0</td>\n",
              "      <td>no</td>\n",
              "      <td>northwest</td>\n",
              "      <td>21984.47061</td>\n",
              "      <td>Elderly</td>\n",
              "      <td>[20, 30)</td>\n",
              "      <td>single</td>\n",
              "      <td>high</td>\n",
              "    </tr>\n",
              "    <tr>\n",
              "      <th>4</th>\n",
              "      <td>5</td>\n",
              "      <td>32</td>\n",
              "      <td>male</td>\n",
              "      <td>28.880</td>\n",
              "      <td>0</td>\n",
              "      <td>no</td>\n",
              "      <td>northwest</td>\n",
              "      <td>3866.85520</td>\n",
              "      <td>Elderly</td>\n",
              "      <td>[20, 30)</td>\n",
              "      <td>single</td>\n",
              "      <td>very low</td>\n",
              "    </tr>\n",
              "  </tbody>\n",
              "</table>\n",
              "</div>"
            ],
            "text/plain": [
              "   id  age     sex     bmi  children smoker     region      charges age_group  \\\n",
              "0   1   19  female  27.900         0    yes  southwest  16884.92400      Teen   \n",
              "1   2   18    male  33.770         1     no  southeast   1725.55230      Teen   \n",
              "2   3   28    male  33.000         3     no  southeast   4449.46200   Elderly   \n",
              "3   4   33    male  22.705         0     no  northwest  21984.47061   Elderly   \n",
              "4   5   32    male  28.880         0     no  northwest   3866.85520   Elderly   \n",
              "\n",
              "  bmi_category   status charges_category  \n",
              "0     [20, 30)   single           medium  \n",
              "1     [30, 40)  married         very low  \n",
              "2     [30, 40)  married         very low  \n",
              "3     [20, 30)   single             high  \n",
              "4     [20, 30)   single         very low  "
            ]
          },
          "execution_count": 66,
          "metadata": {},
          "output_type": "execute_result"
        }
      ],
      "source": [
        "data_insurance.head()"
      ]
    },
    {
      "cell_type": "markdown",
      "id": "231c232f",
      "metadata": {},
      "source": [
        "#### Smoker"
      ]
    },
    {
      "cell_type": "code",
      "execution_count": 67,
      "id": "585dc224",
      "metadata": {},
      "outputs": [
        {
          "data": {
            "image/png": "[encoded data removed]",
            "text/plain": [
              "<Figure size 1000x600 with 1 Axes>"
            ]
          },
          "metadata": {},
          "output_type": "display_data"
        }
      ],
      "source": [
        "smoker_counts = data_insurance['smoker'].value_counts()\n",
        "plt.figure(figsize=(10,6))\n",
        "plt.pie(smoker_counts, labels=smoker_counts.index, autopct='%1.1f%%')\n",
        "plt.title('Proportion of Customers Smoking')\n",
        "plt.show()"
      ]
    },
    {
      "cell_type": "markdown",
      "id": "2885d5de",
      "metadata": {},
      "source": [
        "#### Region"
      ]
    },
    {
      "cell_type": "code",
      "execution_count": 68,
      "id": "d7c62dfd",
      "metadata": {},
      "outputs": [
        {
          "data": {
            "image/png": "[encoded data removed]",
            "text/plain": [
              "<Figure size 1000x600 with 1 Axes>"
            ]
          },
          "metadata": {},
          "output_type": "display_data"
        }
      ],
      "source": [
        "region = data_insurance['region'].value_counts()\n",
        "plt.figure(figsize=(10,6))\n",
        "plt.pie(region, labels=region.index, autopct='%1.1f%%')\n",
        "plt.title('Proportion of Customers Smoking')\n",
        "plt.show()"
      ]
    },
    {
      "cell_type": "markdown",
      "id": "b6802ddb",
      "metadata": {},
      "source": [
        "#### Charges/Bill"
      ]
    },
    {
      "cell_type": "code",
      "execution_count": 69,
      "id": "2b8cac00",
      "metadata": {},
      "outputs": [
        {
          "data": {
            "image/png": "[encoded data removed]",
            "text/plain": [
              "<Figure size 1200x600 with 1 Axes>"
            ]
          },
          "metadata": {},
          "output_type": "display_data"
        }
      ],
      "source": [
        "# Membuat kolom baru 'charge_category' berdasarkan rentang charge\n",
        "data_insurance['charge_categorys'] = pd.cut(data_insurance['charges'],\n",
        "                                          bins=[-np.inf, 1000, 5000, 10000, 15000, 20000, 25000, 30000, np.inf],\n",
        "                                          labels=['<1000', '1000-5000', '5000-10000', '10000-15000', '15000-20000', '20000-25000', '25000-30000', '30000+'],\n",
        "                                          right=False)\n",
        "\n",
        "plt.figure(figsize=(12, 6))\n",
        "\n",
        "# Menghitung frekuensi masing-masing kategori charge\n",
        "charge_counts = data_insurance['charge_categorys'].value_counts().sort_index()\n",
        "\n",
        "# Membuat line/row chart menggunakan seaborn\n",
        "sns.lineplot(x=charge_counts.index.astype(str), y=charge_counts, marker='o', color='b')\n",
        "\n",
        "plt.title('Charge Distribution')\n",
        "plt.xlabel('Charge Range')\n",
        "plt.ylabel('Frequency')\n",
        "plt.show()"
      ]
    },
    {
      "cell_type": "code",
      "execution_count": 70,
      "id": "f5a3fc74",
      "metadata": {},
      "outputs": [
        {
          "data": {
            "image/png": "[encoded data removed]",
            "text/plain": [
              "<Figure size 640x480 with 1 Axes>"
            ]
          },
          "metadata": {},
          "output_type": "display_data"
        }
      ],
      "source": [
        "mean_charges = data_insurance['charges'].mean()\n",
        "min_charges = data_insurance['charges'].min()\n",
        "max_charges = data_insurance['charges'].max()\n",
        "\n",
        "# Menyiapkan data untuk plot\n",
        "x = ['Min', 'Mean', 'Max']\n",
        "y = [min_charges, mean_charges, max_charges]\n",
        "\n",
        "# Membuat plot\n",
        "plt.bar(x, y, color=['blue', 'green', 'red'])\n",
        "plt.title('Charges Mean, Min, Max')\n",
        "plt.xlabel('Statistics')\n",
        "plt.ylabel('Value')\n",
        "plt.show()"
      ]
    },
    {
      "cell_type": "code",
      "execution_count": 71,
      "id": "cb3426af",
      "metadata": {},
      "outputs": [
        {
          "data": {
            "text/html": [
              "<div>\n",
              "<style scoped>\n",
              "    .dataframe tbody tr th:only-of-type {\n",
              "        vertical-align: middle;\n",
              "    }\n",
              "\n",
              "    .dataframe tbody tr th {\n",
              "        vertical-align: top;\n",
              "    }\n",
              "\n",
              "    .dataframe thead th {\n",
              "        text-align: right;\n",
              "    }\n",
              "</style>\n",
              "<table border=\"1\" class=\"dataframe\">\n",
              "  <thead>\n",
              "    <tr style=\"text-align: right;\">\n",
              "      <th></th>\n",
              "      <th>id</th>\n",
              "      <th>age</th>\n",
              "      <th>sex</th>\n",
              "      <th>bmi</th>\n",
              "      <th>children</th>\n",
              "      <th>smoker</th>\n",
              "      <th>region</th>\n",
              "      <th>charges</th>\n",
              "      <th>age_group</th>\n",
              "      <th>bmi_category</th>\n",
              "      <th>status</th>\n",
              "      <th>charges_category</th>\n",
              "      <th>charge_categorys</th>\n",
              "    </tr>\n",
              "  </thead>\n",
              "  <tbody>\n",
              "    <tr>\n",
              "      <th>0</th>\n",
              "      <td>1</td>\n",
              "      <td>19</td>\n",
              "      <td>female</td>\n",
              "      <td>27.900</td>\n",
              "      <td>0</td>\n",
              "      <td>yes</td>\n",
              "      <td>southwest</td>\n",
              "      <td>16884.92400</td>\n",
              "      <td>Teen</td>\n",
              "      <td>[20, 30)</td>\n",
              "      <td>single</td>\n",
              "      <td>medium</td>\n",
              "      <td>15000-20000</td>\n",
              "    </tr>\n",
              "    <tr>\n",
              "      <th>1</th>\n",
              "      <td>2</td>\n",
              "      <td>18</td>\n",
              "      <td>male</td>\n",
              "      <td>33.770</td>\n",
              "      <td>1</td>\n",
              "      <td>no</td>\n",
              "      <td>southeast</td>\n",
              "      <td>1725.55230</td>\n",
              "      <td>Teen</td>\n",
              "      <td>[30, 40)</td>\n",
              "      <td>married</td>\n",
              "      <td>very low</td>\n",
              "      <td>1000-5000</td>\n",
              "    </tr>\n",
              "    <tr>\n",
              "      <th>2</th>\n",
              "      <td>3</td>\n",
              "      <td>28</td>\n",
              "      <td>male</td>\n",
              "      <td>33.000</td>\n",
              "      <td>3</td>\n",
              "      <td>no</td>\n",
              "      <td>southeast</td>\n",
              "      <td>4449.46200</td>\n",
              "      <td>Elderly</td>\n",
              "      <td>[30, 40)</td>\n",
              "      <td>married</td>\n",
              "      <td>very low</td>\n",
              "      <td>1000-5000</td>\n",
              "    </tr>\n",
              "    <tr>\n",
              "      <th>3</th>\n",
              "      <td>4</td>\n",
              "      <td>33</td>\n",
              "      <td>male</td>\n",
              "      <td>22.705</td>\n",
              "      <td>0</td>\n",
              "      <td>no</td>\n",
              "      <td>northwest</td>\n",
              "      <td>21984.47061</td>\n",
              "      <td>Elderly</td>\n",
              "      <td>[20, 30)</td>\n",
              "      <td>single</td>\n",
              "      <td>high</td>\n",
              "      <td>20000-25000</td>\n",
              "    </tr>\n",
              "    <tr>\n",
              "      <th>4</th>\n",
              "      <td>5</td>\n",
              "      <td>32</td>\n",
              "      <td>male</td>\n",
              "      <td>28.880</td>\n",
              "      <td>0</td>\n",
              "      <td>no</td>\n",
              "      <td>northwest</td>\n",
              "      <td>3866.85520</td>\n",
              "      <td>Elderly</td>\n",
              "      <td>[20, 30)</td>\n",
              "      <td>single</td>\n",
              "      <td>very low</td>\n",
              "      <td>1000-5000</td>\n",
              "    </tr>\n",
              "  </tbody>\n",
              "</table>\n",
              "</div>"
            ],
            "text/plain": [
              "   id  age     sex     bmi  children smoker     region      charges age_group  \\\n",
              "0   1   19  female  27.900         0    yes  southwest  16884.92400      Teen   \n",
              "1   2   18    male  33.770         1     no  southeast   1725.55230      Teen   \n",
              "2   3   28    male  33.000         3     no  southeast   4449.46200   Elderly   \n",
              "3   4   33    male  22.705         0     no  northwest  21984.47061   Elderly   \n",
              "4   5   32    male  28.880         0     no  northwest   3866.85520   Elderly   \n",
              "\n",
              "  bmi_category   status charges_category charge_categorys  \n",
              "0     [20, 30)   single           medium      15000-20000  \n",
              "1     [30, 40)  married         very low        1000-5000  \n",
              "2     [30, 40)  married         very low        1000-5000  \n",
              "3     [20, 30)   single             high      20000-25000  \n",
              "4     [20, 30)   single         very low        1000-5000  "
            ]
          },
          "execution_count": 71,
          "metadata": {},
          "output_type": "execute_result"
        }
      ],
      "source": [
        "data_insurance.head()"
      ]
    },
    {
      "cell_type": "markdown",
      "id": "79d95826",
      "metadata": {},
      "source": [
        "### Pertanyaan 4"
      ]
    },
    {
      "cell_type": "code",
      "execution_count": 72,
      "id": "3823eb8e",
      "metadata": {},
      "outputs": [
        {
          "data": {
            "image/png": "[encoded data removed]",
            "text/plain": [
              "<Figure size 1000x600 with 1 Axes>"
            ]
          },
          "metadata": {},
          "output_type": "display_data"
        }
      ],
      "source": [
        "plt.figure(figsize=(10,6))\n",
        "sns.scatterplot(data=data_insurance, x='age', y='charges', hue='smoker')\n",
        "\n",
        "plt.title('Premi/Bill patterns by age and smoking status')\n",
        "plt.xlabel('Age')\n",
        "plt.ylabel('Premi/Bill')\n",
        "plt.show()"
      ]
    },
    {
      "cell_type": "code",
      "execution_count": 73,
      "id": "19ee14c7",
      "metadata": {},
      "outputs": [
        {
          "ename": "SyntaxError",
          "evalue": "invalid syntax (907103571.py, line 1)",
          "output_type": "error",
          "traceback": [
            "\u001b[1;36m  Cell \u001b[1;32mIn[73], line 1\u001b[1;36m\u001b[0m\n\u001b[1;33m    data_insurance.region.\u001b[0m\n\u001b[1;37m                          ^\u001b[0m\n\u001b[1;31mSyntaxError\u001b[0m\u001b[1;31m:\u001b[0m invalid syntax\n"
          ]
        }
      ],
      "source": [
        "data_insurance.region."
      ]
    },
    {
      "cell_type": "code",
      "execution_count": null,
      "id": "e19492f2",
      "metadata": {},
      "outputs": [
        {
          "data": {
            "image/png": "[encoded data removed]",
            "text/plain": [
              "<Figure size 1000x600 with 1 Axes>"
            ]
          },
          "metadata": {},
          "output_type": "display_data"
        }
      ],
      "source": [
        "average_charges = data_insurance.groupby('region')['charges'].mean()\n",
        "\n",
        "plt.figure(figsize=(10, 6))\n",
        "\n",
        "# Menggunakan seaborn untuk menambahkan warna\n",
        "sns.barplot(x=average_charges.index.astype(str), y=average_charges)\n",
        "\n",
        "plt.title('Premi/Bill Patterns by BMI')\n",
        "plt.xlabel('BMI Category')\n",
        "plt.ylabel('Rata-Rata Premi')\n",
        "plt.show()"
      ]
    },
    {
      "cell_type": "code",
      "execution_count": null,
      "id": "dc23b7ee",
      "metadata": {},
      "outputs": [
        {
          "name": "stderr",
          "output_type": "stream",
          "text": [
            "C:\\Users\\Albert\\AppData\\Local\\Temp\\ipykernel_23948\\1993594521.py:1: FutureWarning: The default of observed=False is deprecated and will be changed to True in a future version of pandas. Pass observed=False to retain current behavior or observed=True to adopt the future default and silence this warning.\n",
            "  average_charges = data_insurance.groupby('bmi_category')['charges'].mean()\n"
          ]
        },
        {
          "data": {
            "image/png": "[encoded data removed]",
            "text/plain": [
              "<Figure size 1000x600 with 1 Axes>"
            ]
          },
          "metadata": {},
          "output_type": "display_data"
        }
      ],
      "source": [
        "average_charges = data_insurance.groupby('bmi_category')['charges'].mean()\n",
        "\n",
        "plt.figure(figsize=(10, 6))\n",
        "\n",
        "# Menggunakan seaborn untuk menambahkan warna\n",
        "sns.barplot(x=average_charges.index.astype(str), y=average_charges)\n",
        "\n",
        "plt.title('Premi/Bill Patterns by BMI')\n",
        "plt.xlabel('BMI Category')\n",
        "plt.ylabel('Rata-Rata Premi')\n",
        "plt.show()"
      ]
    },
    {
      "cell_type": "markdown",
      "id": "4a9f525c",
      "metadata": {},
      "source": [
        "#### 5. Revenue dan Order"
      ]
    },
    {
      "cell_type": "code",
      "execution_count": null,
      "id": "ace36aab",
      "metadata": {},
      "outputs": [
        {
          "data": {
            "text/html": [
              "<div>\n",
              "<style scoped>\n",
              "    .dataframe tbody tr th:only-of-type {\n",
              "        vertical-align: middle;\n",
              "    }\n",
              "\n",
              "    .dataframe tbody tr th {\n",
              "        vertical-align: top;\n",
              "    }\n",
              "\n",
              "    .dataframe thead th {\n",
              "        text-align: right;\n",
              "    }\n",
              "</style>\n",
              "<table border=\"1\" class=\"dataframe\">\n",
              "  <thead>\n",
              "    <tr style=\"text-align: right;\">\n",
              "      <th></th>\n",
              "      <th>id</th>\n",
              "      <th>age</th>\n",
              "      <th>sex</th>\n",
              "      <th>bmi</th>\n",
              "      <th>children</th>\n",
              "      <th>smoker</th>\n",
              "      <th>region</th>\n",
              "      <th>charges</th>\n",
              "      <th>age_group</th>\n",
              "      <th>bmi_category</th>\n",
              "      <th>status</th>\n",
              "      <th>charges_category</th>\n",
              "      <th>charge_categorys</th>\n",
              "    </tr>\n",
              "  </thead>\n",
              "  <tbody>\n",
              "    <tr>\n",
              "      <th>0</th>\n",
              "      <td>1</td>\n",
              "      <td>19</td>\n",
              "      <td>female</td>\n",
              "      <td>27.900</td>\n",
              "      <td>0</td>\n",
              "      <td>yes</td>\n",
              "      <td>southwest</td>\n",
              "      <td>16884.92400</td>\n",
              "      <td>Teen</td>\n",
              "      <td>[20, 30)</td>\n",
              "      <td>single</td>\n",
              "      <td>medium</td>\n",
              "      <td>15000-20000</td>\n",
              "    </tr>\n",
              "    <tr>\n",
              "      <th>1</th>\n",
              "      <td>2</td>\n",
              "      <td>18</td>\n",
              "      <td>male</td>\n",
              "      <td>33.770</td>\n",
              "      <td>1</td>\n",
              "      <td>no</td>\n",
              "      <td>southeast</td>\n",
              "      <td>1725.55230</td>\n",
              "      <td>Teen</td>\n",
              "      <td>[30, 40)</td>\n",
              "      <td>married</td>\n",
              "      <td>very low</td>\n",
              "      <td>1000-5000</td>\n",
              "    </tr>\n",
              "    <tr>\n",
              "      <th>2</th>\n",
              "      <td>3</td>\n",
              "      <td>28</td>\n",
              "      <td>male</td>\n",
              "      <td>33.000</td>\n",
              "      <td>3</td>\n",
              "      <td>no</td>\n",
              "      <td>southeast</td>\n",
              "      <td>4449.46200</td>\n",
              "      <td>Elderly</td>\n",
              "      <td>[30, 40)</td>\n",
              "      <td>married</td>\n",
              "      <td>very low</td>\n",
              "      <td>1000-5000</td>\n",
              "    </tr>\n",
              "    <tr>\n",
              "      <th>3</th>\n",
              "      <td>4</td>\n",
              "      <td>33</td>\n",
              "      <td>male</td>\n",
              "      <td>22.705</td>\n",
              "      <td>0</td>\n",
              "      <td>no</td>\n",
              "      <td>northwest</td>\n",
              "      <td>21984.47061</td>\n",
              "      <td>Elderly</td>\n",
              "      <td>[20, 30)</td>\n",
              "      <td>single</td>\n",
              "      <td>high</td>\n",
              "      <td>20000-25000</td>\n",
              "    </tr>\n",
              "    <tr>\n",
              "      <th>4</th>\n",
              "      <td>5</td>\n",
              "      <td>32</td>\n",
              "      <td>male</td>\n",
              "      <td>28.880</td>\n",
              "      <td>0</td>\n",
              "      <td>no</td>\n",
              "      <td>northwest</td>\n",
              "      <td>3866.85520</td>\n",
              "      <td>Elderly</td>\n",
              "      <td>[20, 30)</td>\n",
              "      <td>single</td>\n",
              "      <td>very low</td>\n",
              "      <td>1000-5000</td>\n",
              "    </tr>\n",
              "  </tbody>\n",
              "</table>\n",
              "</div>"
            ],
            "text/plain": [
              "   id  age     sex     bmi  children smoker     region      charges age_group  \\\n",
              "0   1   19  female  27.900         0    yes  southwest  16884.92400      Teen   \n",
              "1   2   18    male  33.770         1     no  southeast   1725.55230      Teen   \n",
              "2   3   28    male  33.000         3     no  southeast   4449.46200   Elderly   \n",
              "3   4   33    male  22.705         0     no  northwest  21984.47061   Elderly   \n",
              "4   5   32    male  28.880         0     no  northwest   3866.85520   Elderly   \n",
              "\n",
              "  bmi_category   status charges_category charge_categorys  \n",
              "0     [20, 30)   single           medium      15000-20000  \n",
              "1     [30, 40)  married         very low        1000-5000  \n",
              "2     [30, 40)  married         very low        1000-5000  \n",
              "3     [20, 30)   single             high      20000-25000  \n",
              "4     [20, 30)   single         very low        1000-5000  "
            ]
          },
          "execution_count": 51,
          "metadata": {},
          "output_type": "execute_result"
        }
      ],
      "source": [
        "data_insurance.head()"
      ]
    },
    {
      "cell_type": "code",
      "execution_count": null,
      "id": "7f955a65",
      "metadata": {},
      "outputs": [],
      "source": [
        "data_insurance['age_group'] = data_insurance['age_group']\n",
        "\n",
        "profit = data_insurance.groupby('age_group').agg({\n",
        "    \"id\": \"count\",  \n",
        "    \"charges\": \"sum\"\n",
        "})\n",
        "\n",
        "profit = profit.reset_index()\n",
        "profit.rename(columns={\"id\": \"order\", \"charges\": \"revenue\"}, inplace=True)\n",
        "age_groups_order = sorted(data_insurance['age_group'].unique())\n",
        "profit['age_group'] = pd.Categorical(profit['age_group'], categories=age_groups_order, ordered=True)\n",
        "profit = profit.sort_values('age_group')"
      ]
    },
    {
      "cell_type": "code",
      "execution_count": null,
      "id": "dd0fc1d2",
      "metadata": {},
      "outputs": [
        {
          "ename": "NameError",
          "evalue": "name 'profit' is not defined",
          "output_type": "error",
          "traceback": [
            "\u001b[1;31m---------------------------------------------------------------------------\u001b[0m",
            "\u001b[1;31mNameError\u001b[0m                                 Traceback (most recent call last)",
            "Cell \u001b[1;32mIn[18], line 1\u001b[0m\n\u001b[1;32m----> 1\u001b[0m profit \u001b[38;5;241m=\u001b[39m\u001b[43mprofit\u001b[49m\u001b[38;5;241m.\u001b[39msort_values(\u001b[38;5;124m'\u001b[39m\u001b[38;5;124mage_group\u001b[39m\u001b[38;5;124m'\u001b[39m, ascending\u001b[38;5;241m=\u001b[39m\u001b[38;5;28;01mTrue\u001b[39;00m)\n\u001b[0;32m      3\u001b[0m plt\u001b[38;5;241m.\u001b[39mfigure(figsize\u001b[38;5;241m=\u001b[39m(\u001b[38;5;241m10\u001b[39m, \u001b[38;5;241m5\u001b[39m))\n\u001b[0;32m      4\u001b[0m plt\u001b[38;5;241m.\u001b[39mplot(\n\u001b[0;32m      5\u001b[0m     profit[\u001b[38;5;124m\"\u001b[39m\u001b[38;5;124mage_group\u001b[39m\u001b[38;5;124m\"\u001b[39m],\n\u001b[0;32m      6\u001b[0m     profit[\u001b[38;5;124m\"\u001b[39m\u001b[38;5;124morder\u001b[39m\u001b[38;5;124m\"\u001b[39m],\n\u001b[1;32m   (...)\u001b[0m\n\u001b[0;32m      9\u001b[0m     color\u001b[38;5;241m=\u001b[39m\u001b[38;5;124m\"\u001b[39m\u001b[38;5;124m#72BCD4\u001b[39m\u001b[38;5;124m\"\u001b[39m\n\u001b[0;32m     10\u001b[0m )\n",
            "\u001b[1;31mNameError\u001b[0m: name 'profit' is not defined"
          ]
        }
      ],
      "source": [
        "profit =profit.sort_values('age_group', ascending=True)\n",
        "\n",
        "plt.figure(figsize=(10, 5))\n",
        "plt.plot(\n",
        "    profit[\"age_group\"],\n",
        "    profit[\"order\"],\n",
        "    marker='o',\n",
        "    linewidth=2,\n",
        "    color=\"#72BCD4\"\n",
        ")\n",
        "\n",
        "plt.title(\"Number of Revenue per Age Group\", loc=\"center\", fontsize=20)\n",
        "plt.xticks(fontsize=8)\n",
        "plt.yticks(fontsize=8)\n",
        "plt.show()\n"
      ]
    },
    {
      "cell_type": "markdown",
      "id": "82e05027",
      "metadata": {},
      "source": [
        "#### Revenue"
      ]
    },
    {
      "cell_type": "code",
      "execution_count": null,
      "id": "c6b2aa8e",
      "metadata": {},
      "outputs": [
        {
          "data": {
            "image/png": "[encoded data removed]",
            "text/plain": [
              "<Figure size 1000x500 with 1 Axes>"
            ]
          },
          "metadata": {},
          "output_type": "display_data"
        }
      ],
      "source": [
        "profit = profit.sort_values('age_group', ascending=False)\n",
        "\n",
        "plt.figure(figsize=(10, 5))\n",
        "plt.plot(\n",
        "    profit[\"age_group\"],\n",
        "    profit[\"revenue\"],\n",
        "    marker='o',\n",
        "    linewidth=2,\n",
        "    color=\"#72BCD4\"\n",
        ")\n",
        "\n",
        "plt.title(\"Number of Revenue per Age Group\", loc=\"center\", fontsize=20)\n",
        "plt.xticks(fontsize=8)\n",
        "plt.yticks(fontsize=8)\n",
        "plt.show()\n"
      ]
    },
    {
      "cell_type": "markdown",
      "id": "fc17ccff",
      "metadata": {
        "id": "fc17ccff"
      },
      "source": [
        "## Tahap 8: Membuat Kesimpulan"
      ]
    },
    {
      "cell_type": "markdown",
      "id": "2a8c771a",
      "metadata": {
        "id": "2a8c771a"
      },
      "source": [
        "Berikan kesimpulan untuk setiap pertanyaan berdasarkan keseluruhan tahapan yang telah dilakukan sebelumnya"
      ]
    },
    {
      "cell_type": "code",
      "execution_count": null,
      "id": "f56cc2ce",
      "metadata": {
        "id": "f56cc2ce"
      },
      "outputs": [],
      "source": [
        "# Buatlah kesimpulan dalam bentuk poin-poin dari pertanyaan di awal\n"
      ]
    },
    {
      "cell_type": "code",
      "execution_count": null,
      "id": "e42d49af",
      "metadata": {},
      "outputs": [
        {
          "data": {
            "text/plain": [
              "id                  0\n",
              "age                 0\n",
              "sex                 0\n",
              "bmi                 0\n",
              "children            0\n",
              "smoker              0\n",
              "region              0\n",
              "charges             0\n",
              "age_group           0\n",
              "bmi_category        3\n",
              "status              0\n",
              "charges_category    0\n",
              "charge_categorys    0\n",
              "dtype: int64"
            ]
          },
          "execution_count": 61,
          "metadata": {},
          "output_type": "execute_result"
        }
      ],
      "source": [
        "data_insurance.isna().sum()\n"
      ]
    }
  ],
  "metadata": {
    "colab": {
      "provenance": []
    },
    "kernelspec": {
      "display_name": "Python 3 (ipykernel)",
      "language": "python",
      "name": "python3"
    },
    "language_info": {
      "codemirror_mode": {
        "name": "ipython",
        "version": 3
      },
      "file_extension": ".py",
      "mimetype": "text/x-python",
      "name": "python",
      "nbconvert_exporter": "python",
      "pygments_lexer": "ipython3",
      "version": "3.11.2"
    }
  },
  "nbformat": 4,
  "nbformat_minor": 5
}
