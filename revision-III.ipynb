{
  "cells": [
    {
      "cell_type": "markdown",
      "id": "5e68ccde",
      "metadata": {
        "id": "5e68ccde"
      },
      "source": [
        "<h1 align=\"center\"><font size=\"5\">Ujian Akhir Semester</font></h1>\n",
        "<h2 align=\"center\"><font size=\"4\">Rekayasa Data (IF2106) - Tipe A</font></h2>"
      ]
    },
    {
      "cell_type": "markdown",
      "id": "108961f5",
      "metadata": {
        "id": "108961f5"
      },
      "source": [
        "<h2>Daftar Isi</h2>\n",
        "<div class=\"alert alert-block alert-info\" style=\"margin-top: 20px\">\n",
        "    <ul>\n",
        "    <li><a href=\"#Identitas-Kelompok\">Identitas Kelompok</a></li>\n",
        "    <li><a href=\"#Identitas-Anggota\">Identitas Anggota</a></li>\n",
        "    <li><a href=\"#Kontribusi-Setiap-Anggota\">Kontribusi Setiap Anggota</a></li>\n",
        "    <li><a href=\"#Deskripsi-Proyek\">Deskripsi Proyek</a></li>\n",
        "    <li><a href=\"#Tahap-1:-Menentukan-Pertanyaan-Bisnis\">Tahap 1: Menentukan Pertanyaan Bisnis</a></li>\n",
        "    <li><a href=\"#Tahap-2:-Menyiapkan-Library\">Tahap 2: Menyiapkan Library</a></li>\n",
        "    <li><a href=\"#Tahap-3:-Mengumpulkan-Data\">Tahap 3: Mengumpulkan Data</a></li>\n",
        "    <li><a href=\"#Tahap-4:-Menilai-Data\">Tahap 4: Menilai Data</a></li>\n",
        "    <li><a href=\"#Tahap-5:-Membersihkan-Data\">Tahap 5: Membersihkan Data</a></li>\n",
        "    <li><a href=\"#Tahap-6:-Mengeksplorasi-dan-Menganalisis-Data\">Tahap 6: Mengeksplorasi dan Menganalisis Data</a></li>\n",
        "    <li><a href=\"#Tahap-7:-Memvisualisasikan-Data\">Tahap 7: Memvisualisasikan Data</a></li>\n",
        "    <li><a href=\"#Tahap-8:-Membuat-Kesimpulan\">Tahap 8: Membuat Kesimpulan</a></li>\n",
        "    </ul>\n",
        "</a></li>\n",
        "</div>"
      ]
    },
    {
      "cell_type": "markdown",
      "id": "d02919d2",
      "metadata": {
        "id": "d02919d2"
      },
      "source": [
        "## Identitas Kelompok"
      ]
    },
    {
      "cell_type": "markdown",
      "id": "8845b033",
      "metadata": {
        "id": "8845b033"
      },
      "source": [
        "#### Nomor Kelompok: 9"
      ]
    },
    {
      "cell_type": "markdown",
      "id": "cc3771cb",
      "metadata": {
        "id": "cc3771cb"
      },
      "source": [
        "## Identitas Anggota"
      ]
    },
    {
      "cell_type": "markdown",
      "id": "60bca683",
      "metadata": {
        "id": "60bca683"
      },
      "source": [
        "Tuliskan identitas dari setiap anggota, meliputi NIM dan nama mahasiswa."
      ]
    },
    {
      "cell_type": "markdown",
      "id": "89e682fc",
      "metadata": {
        "id": "89e682fc"
      },
      "source": [
        "#### NIM Anggota-1: { 221112820 }, Nama Anggota-1: { Albert Putra Pratama Halawa }\n",
        "#### NIM Anggota-2: { 221113406 }, Nama Anggota-2: { Jhon Kennedy Harefa }\n",
        "#### NIM Anggota-3: { 221111265 }, Nama Anggota-3: { Octa Dana Rizky Lubis }\n",
        "#### NIM Anggota-4: { 221113024 }, Nama Anggota-4: { Renaldi Aritonang }"
      ]
    },
    {
      "cell_type": "markdown",
      "id": "30a101e5",
      "metadata": {
        "id": "30a101e5"
      },
      "source": [
        "## Kontribusi Setiap Anggota"
      ]
    },
    {
      "cell_type": "markdown",
      "id": "ad814f5e",
      "metadata": {
        "id": "ad814f5e"
      },
      "source": [
        "Tuliskan kontribusi dari setiap anggota di dalam pengerjaan soal UAS berbasis proyek ini."
      ]
    },
    {
      "cell_type": "markdown",
      "id": "573187ed",
      "metadata": {
        "id": "573187ed"
      },
      "source": [
        "#### Anggota-1: { menilai data, cleaning data, EDA, Visualisasi (distribusi nasabah, pola dan tren, order dan revenue), kesimpulan  }\n",
        "#### Anggota-2: { visualisasi persebaran Region dan kesimpulan }\n",
        "#### Anggota-3: { analisis untuk BMI, Gender dan kesimpulan }\n",
        "#### Anggota-4: { pertanyaan bisnis dan membuat kesimpulan }"
      ]
    },
    {
      "cell_type": "markdown",
      "id": "8788442b",
      "metadata": {
        "id": "8788442b"
      },
      "source": [
        "## Deskripsi Proyek"
      ]
    },
    {
      "cell_type": "markdown",
      "id": "e0252b1f",
      "metadata": {
        "id": "e0252b1f"
      },
      "source": [
        "Pada UAS berbasis proyek ini, kelompok Anda harus melakukan seluruh proses analisis data, mulai dari mendefinisikan pertanyaan bisnis (pertanyaan analisis) yang ingin dijawab melalui proses analisis data hingga membuat kesimpulan dari hasil analisis (berupa visualisasi data untuk menjawab pertanyaan bisnis yang telah dibuat)."
      ]
    },
    {
      "cell_type": "markdown",
      "id": "5c308716",
      "metadata": {
        "id": "5c308716"
      },
      "source": [
        "Untuk <b>tipe A</b>, lakukan analisis terhadap dataset <a href=\"https://mikroskilacid-my.sharepoint.com/:x:/g/personal/gunawan_mikroskil_ac_id/EXy63U8g5NRPtNvWKeKr-4EB6IJhgg1arjqwrmKz_W2wHQ?e=nv48St\">insurance.csv</a> yang berisi data transaksi asuransi. Lakukan analisis dengan tepat untuk mendapatkan insight/informasi sebanyak mungkin dari dataset tersebut. Penjelasan dari setiap kolom yang terdapat di dataset tersebut adalah sebagai berikut."
      ]
    },
    {
      "cell_type": "markdown",
      "id": "f5b84ca6",
      "metadata": {
        "id": "f5b84ca6"
      },
      "source": [
        "<table>\n",
        "    <thead>\n",
        "      <tr>\n",
        "        <th>No.</th>\n",
        "        <th>Nama Kolom</th>\n",
        "        <th>Penjelasan</th>\n",
        "      </tr>\n",
        "    </thead>\n",
        "    <tbody>\n",
        "      <tr>\n",
        "        <td>1</td>\n",
        "        <td>age</td>\n",
        "        <td>umur nasabah asuransi</td>\n",
        "      </tr>\n",
        "      <tr>\n",
        "        <td>2</td>\n",
        "        <td>sex</td>\n",
        "        <td>jenis kelamin nasabah asuransi</td>\n",
        "      </tr>\n",
        "      <tr>\n",
        "        <td>3</td>\n",
        "        <td>bmi</td>\n",
        "        <td>indeks massa tubuh (berat badan (kg) dibagi dengan kuadrat tinggi badan (m))</td>\n",
        "      </tr>\n",
        "      <tr>\n",
        "        <td>4</td>\n",
        "        <td>children</td>\n",
        "        <td>jumlah anak yang dimiliki nasabah asuransi</td>\n",
        "      </tr>\n",
        "      <tr>\n",
        "        <td>5</td>\n",
        "        <td>smoker</td>\n",
        "        <td>apakah nasabah asuransi merupakan perokok atau bukan</td>\n",
        "      </tr>\n",
        "      <tr>\n",
        "        <td>6</td>\n",
        "        <td>region</td>\n",
        "        <td>wilayah domisili nasabah asuransi</td>\n",
        "      </tr>\n",
        "      <tr>\n",
        "        <td>7</td>\n",
        "        <td>charges</td>\n",
        "        <td>premi yang dikenakan pada nasabah asuransi</td>\n",
        "      </tr>\n",
        "    </tbody>\n",
        "</table>"
      ]
    },
    {
      "cell_type": "markdown",
      "id": "675ef26c",
      "metadata": {
        "id": "675ef26c"
      },
      "source": [
        "## Tahap 1: Menentukan Pertanyaan Bisnis"
      ]
    },
    {
      "cell_type": "markdown",
      "id": "0fc2e6ff",
      "metadata": {
        "id": "0fc2e6ff"
      },
      "source": [
        "Pada tahap ini, silahkan tentukan minimal 3 (tiga) pertanyaan bisnis yang akan dijawab berdasarkan dataset yang telah ditentukan di atas (analisis dan pahami data apa saja yang disimpan di masing-masing kolom)"
      ]
    },
    {
      "cell_type": "markdown",
      "id": "7ec196a8",
      "metadata": {
        "id": "7ec196a8"
      },
      "source": [
        "1. Bagaimana dengan distribusi nasabah asuransi dalam dataset ini?\n",
        "2. Berapa rata-rata jumlah anak yang dimiliki oleh nasabah?\n",
        "3. Bagaimana persebaran wilayah domisili nasabah?\n",
        "4. Tampilkan pola atau tren dalam premi yang dikenakan berdasarkan kombinasi faktor usia, BMI, dan status perokok?\n",
        "5. bagaimana performa Order dan revenue perusahaan?"
      ]
    },
    {
      "cell_type": "markdown",
      "id": "d9c96950",
      "metadata": {
        "id": "d9c96950"
      },
      "source": [
        "## Tahap 2: Menyiapkan Library"
      ]
    },
    {
      "cell_type": "markdown",
      "id": "5e650e31",
      "metadata": {
        "id": "5e650e31"
      },
      "source": [
        "Sebelum memulai proyek, pastikan telah mengimpor semua library yang dibutuhkan untuk mengerjakan proyeknya"
      ]
    },
    {
      "cell_type": "code",
      "execution_count": 2,
      "id": "9070a5ad",
      "metadata": {
        "id": "9070a5ad"
      },
      "outputs": [],
      "source": [
        "import pandas as pd\n",
        "import numpy as np\n",
        "import matplotlib.pyplot as plt\n",
        "import seaborn as sns"
      ]
    },
    {
      "cell_type": "markdown",
      "id": "3321cb95",
      "metadata": {
        "id": "3321cb95"
      },
      "source": [
        "## Tahap 3: Mengumpulkan Data"
      ]
    },
    {
      "cell_type": "markdown",
      "id": "d1e7566c",
      "metadata": {
        "id": "d1e7566c"
      },
      "source": [
        "Pada tahap ini, lakukan pengumpulan data dari dataset yang telah ditentukan di atas"
      ]
    },
    {
      "cell_type": "code",
      "execution_count": 3,
      "id": "b2c6c6aa",
      "metadata": {
        "colab": {
          "base_uri": "https://localhost:8080/",
          "height": 206
        },
        "id": "b2c6c6aa",
        "outputId": "6f858de5-d42e-494b-bf35-33818c23f0cb"
      },
      "outputs": [
        {
          "data": {
            "text/html": [
              "<div>\n",
              "<style scoped>\n",
              "    .dataframe tbody tr th:only-of-type {\n",
              "        vertical-align: middle;\n",
              "    }\n",
              "\n",
              "    .dataframe tbody tr th {\n",
              "        vertical-align: top;\n",
              "    }\n",
              "\n",
              "    .dataframe thead th {\n",
              "        text-align: right;\n",
              "    }\n",
              "</style>\n",
              "<table border=\"1\" class=\"dataframe\">\n",
              "  <thead>\n",
              "    <tr style=\"text-align: right;\">\n",
              "      <th></th>\n",
              "      <th>age</th>\n",
              "      <th>sex</th>\n",
              "      <th>bmi</th>\n",
              "      <th>children</th>\n",
              "      <th>smoker</th>\n",
              "      <th>region</th>\n",
              "      <th>charges</th>\n",
              "    </tr>\n",
              "  </thead>\n",
              "  <tbody>\n",
              "    <tr>\n",
              "      <th>0</th>\n",
              "      <td>'19</td>\n",
              "      <td>female</td>\n",
              "      <td>27.900</td>\n",
              "      <td>0</td>\n",
              "      <td>yes</td>\n",
              "      <td>southwest</td>\n",
              "      <td>16884.92400</td>\n",
              "    </tr>\n",
              "    <tr>\n",
              "      <th>1</th>\n",
              "      <td>18</td>\n",
              "      <td>male</td>\n",
              "      <td>33.770</td>\n",
              "      <td>1</td>\n",
              "      <td>no</td>\n",
              "      <td>southeast</td>\n",
              "      <td>1725.55230</td>\n",
              "    </tr>\n",
              "    <tr>\n",
              "      <th>2</th>\n",
              "      <td>28</td>\n",
              "      <td>male</td>\n",
              "      <td>33.000</td>\n",
              "      <td>3</td>\n",
              "      <td>no</td>\n",
              "      <td>southeast</td>\n",
              "      <td>4449.46200</td>\n",
              "    </tr>\n",
              "    <tr>\n",
              "      <th>3</th>\n",
              "      <td>33</td>\n",
              "      <td>male</td>\n",
              "      <td>22.705</td>\n",
              "      <td>0</td>\n",
              "      <td>no</td>\n",
              "      <td>northwest</td>\n",
              "      <td>21984.47061</td>\n",
              "    </tr>\n",
              "    <tr>\n",
              "      <th>4</th>\n",
              "      <td>32</td>\n",
              "      <td>male</td>\n",
              "      <td>28.880</td>\n",
              "      <td>0</td>\n",
              "      <td>no</td>\n",
              "      <td>northwest</td>\n",
              "      <td>3866.85520</td>\n",
              "    </tr>\n",
              "  </tbody>\n",
              "</table>\n",
              "</div>"
            ],
            "text/plain": [
              "   age     sex     bmi  children smoker     region      charges\n",
              "0  '19  female  27.900         0    yes  southwest  16884.92400\n",
              "1   18    male  33.770         1     no  southeast   1725.55230\n",
              "2   28    male  33.000         3     no  southeast   4449.46200\n",
              "3   33    male  22.705         0     no  northwest  21984.47061\n",
              "4   32    male  28.880         0     no  northwest   3866.85520"
            ]
          },
          "execution_count": 3,
          "metadata": {},
          "output_type": "execute_result"
        }
      ],
      "source": [
        "data_insurance = pd.read_excel(\"./insurance.xlsx\")\n",
        "data_insurance.head()"
      ]
    },
    {
      "cell_type": "markdown",
      "id": "5d1f1cb1",
      "metadata": {
        "id": "5d1f1cb1"
      },
      "source": [
        "## Tahap 4: Menilai Data"
      ]
    },
    {
      "cell_type": "markdown",
      "id": "385bd108",
      "metadata": {
        "id": "385bd108"
      },
      "source": [
        "Pada tahap ini bisa dilakukan pengecekan tipe data, missing value, duplikasi data, keanehan pada nilai statistik, dan sebagainya"
      ]
    },
    {
      "cell_type": "code",
      "execution_count": 4,
      "id": "b527a4bf",
      "metadata": {
        "colab": {
          "base_uri": "https://localhost:8080/"
        },
        "id": "b527a4bf",
        "outputId": "d5c7efee-0d10-486f-dd41-e7c31724a628"
      },
      "outputs": [
        {
          "name": "stdout",
          "output_type": "stream",
          "text": [
            "<class 'pandas.core.frame.DataFrame'>\n",
            "RangeIndex: 1338 entries, 0 to 1337\n",
            "Data columns (total 7 columns):\n",
            " #   Column    Non-Null Count  Dtype  \n",
            "---  ------    --------------  -----  \n",
            " 0   age       1338 non-null   object \n",
            " 1   sex       1325 non-null   object \n",
            " 2   bmi       1338 non-null   float64\n",
            " 3   children  1338 non-null   int64  \n",
            " 4   smoker    1338 non-null   object \n",
            " 5   region    1330 non-null   object \n",
            " 6   charges   1338 non-null   float64\n",
            "dtypes: float64(2), int64(1), object(4)\n",
            "memory usage: 73.3+ KB\n"
          ]
        }
      ],
      "source": [
        "data_insurance.info()"
      ]
    },
    {
      "cell_type": "code",
      "execution_count": 5,
      "id": "a297728d",
      "metadata": {
        "colab": {
          "base_uri": "https://localhost:8080/"
        },
        "id": "a297728d",
        "outputId": "d59c1b34-e4d9-468c-eb3e-47e0aed164c9"
      },
      "outputs": [
        {
          "data": {
            "text/plain": [
              "age          0\n",
              "sex         13\n",
              "bmi          0\n",
              "children     0\n",
              "smoker       0\n",
              "region       8\n",
              "charges      0\n",
              "dtype: int64"
            ]
          },
          "execution_count": 5,
          "metadata": {},
          "output_type": "execute_result"
        }
      ],
      "source": [
        "data_insurance.isna().sum()"
      ]
    },
    {
      "cell_type": "code",
      "execution_count": 6,
      "id": "0c384727",
      "metadata": {
        "colab": {
          "base_uri": "https://localhost:8080/"
        },
        "id": "0c384727",
        "outputId": "1327cc68-896c-4ab2-8c9b-d711a07b4863"
      },
      "outputs": [
        {
          "name": "stdout",
          "output_type": "stream",
          "text": [
            "Jumlah Duplikasi:  1\n"
          ]
        }
      ],
      "source": [
        "print('Jumlah Duplikasi: ',data_insurance.duplicated().sum())"
      ]
    },
    {
      "cell_type": "code",
      "execution_count": 7,
      "id": "743db1b7",
      "metadata": {
        "colab": {
          "base_uri": "https://localhost:8080/",
          "height": 300
        },
        "id": "743db1b7",
        "outputId": "51382cff-720b-4098-9a5b-aad85a9e16d7"
      },
      "outputs": [
        {
          "data": {
            "text/html": [
              "<div>\n",
              "<style scoped>\n",
              "    .dataframe tbody tr th:only-of-type {\n",
              "        vertical-align: middle;\n",
              "    }\n",
              "\n",
              "    .dataframe tbody tr th {\n",
              "        vertical-align: top;\n",
              "    }\n",
              "\n",
              "    .dataframe thead th {\n",
              "        text-align: right;\n",
              "    }\n",
              "</style>\n",
              "<table border=\"1\" class=\"dataframe\">\n",
              "  <thead>\n",
              "    <tr style=\"text-align: right;\">\n",
              "      <th></th>\n",
              "      <th>bmi</th>\n",
              "      <th>children</th>\n",
              "      <th>charges</th>\n",
              "    </tr>\n",
              "  </thead>\n",
              "  <tbody>\n",
              "    <tr>\n",
              "      <th>count</th>\n",
              "      <td>1338.000000</td>\n",
              "      <td>1338.000000</td>\n",
              "      <td>1338.000000</td>\n",
              "    </tr>\n",
              "    <tr>\n",
              "      <th>mean</th>\n",
              "      <td>30.663397</td>\n",
              "      <td>1.094918</td>\n",
              "      <td>13270.422265</td>\n",
              "    </tr>\n",
              "    <tr>\n",
              "      <th>std</th>\n",
              "      <td>6.098187</td>\n",
              "      <td>1.205493</td>\n",
              "      <td>12110.011237</td>\n",
              "    </tr>\n",
              "    <tr>\n",
              "      <th>min</th>\n",
              "      <td>15.960000</td>\n",
              "      <td>0.000000</td>\n",
              "      <td>1121.873900</td>\n",
              "    </tr>\n",
              "    <tr>\n",
              "      <th>25%</th>\n",
              "      <td>26.296250</td>\n",
              "      <td>0.000000</td>\n",
              "      <td>4740.287150</td>\n",
              "    </tr>\n",
              "    <tr>\n",
              "      <th>50%</th>\n",
              "      <td>30.400000</td>\n",
              "      <td>1.000000</td>\n",
              "      <td>9382.033000</td>\n",
              "    </tr>\n",
              "    <tr>\n",
              "      <th>75%</th>\n",
              "      <td>34.693750</td>\n",
              "      <td>2.000000</td>\n",
              "      <td>16639.912515</td>\n",
              "    </tr>\n",
              "    <tr>\n",
              "      <th>max</th>\n",
              "      <td>53.130000</td>\n",
              "      <td>5.000000</td>\n",
              "      <td>63770.428010</td>\n",
              "    </tr>\n",
              "  </tbody>\n",
              "</table>\n",
              "</div>"
            ],
            "text/plain": [
              "               bmi     children       charges\n",
              "count  1338.000000  1338.000000   1338.000000\n",
              "mean     30.663397     1.094918  13270.422265\n",
              "std       6.098187     1.205493  12110.011237\n",
              "min      15.960000     0.000000   1121.873900\n",
              "25%      26.296250     0.000000   4740.287150\n",
              "50%      30.400000     1.000000   9382.033000\n",
              "75%      34.693750     2.000000  16639.912515\n",
              "max      53.130000     5.000000  63770.428010"
            ]
          },
          "execution_count": 7,
          "metadata": {},
          "output_type": "execute_result"
        }
      ],
      "source": [
        "data_insurance.describe()"
      ]
    },
    {
      "cell_type": "markdown",
      "id": "1c711f0c",
      "metadata": {
        "id": "1c711f0c"
      },
      "source": [
        "## Tahap 5: Membersihkan Data"
      ]
    },
    {
      "cell_type": "markdown",
      "id": "54a3da91",
      "metadata": {
        "id": "54a3da91"
      },
      "source": [
        "Pada tahap ini bisa dilakukan penghapusan terhadap kolom yang tidak dibutuhkan, mengubah tipe data yang tidak sesuai, melakukan transformasi data, menambah kolom yang dibutuhkan, dan sebagainya"
      ]
    },
    {
      "cell_type": "markdown",
      "id": "c34886b9",
      "metadata": {
        "id": "c34886b9"
      },
      "source": [
        "#### Menghapus Duplikasi Data"
      ]
    },
    {
      "cell_type": "code",
      "execution_count": 8,
      "id": "ea93aec7",
      "metadata": {
        "colab": {
          "base_uri": "https://localhost:8080/"
        },
        "id": "ea93aec7",
        "outputId": "c060c223-bacc-4bbe-b9c5-59941c5cc419"
      },
      "outputs": [
        {
          "data": {
            "text/plain": [
              "1"
            ]
          },
          "execution_count": 8,
          "metadata": {},
          "output_type": "execute_result"
        }
      ],
      "source": [
        "data_insurance.duplicated().sum()"
      ]
    },
    {
      "cell_type": "code",
      "execution_count": 9,
      "id": "59c49f7a",
      "metadata": {
        "id": "59c49f7a"
      },
      "outputs": [],
      "source": [
        "data_insurance.drop_duplicates(inplace=True)"
      ]
    },
    {
      "cell_type": "code",
      "execution_count": 10,
      "id": "a648e869",
      "metadata": {
        "colab": {
          "base_uri": "https://localhost:8080/"
        },
        "id": "a648e869",
        "outputId": "781c3c37-3315-4d3a-cdfa-01b4e30d9f33"
      },
      "outputs": [
        {
          "name": "stdout",
          "output_type": "stream",
          "text": [
            "Jumlah Duplikasi:  0\n"
          ]
        }
      ],
      "source": [
        "print('Jumlah Duplikasi: ',data_insurance.duplicated().sum())"
      ]
    },
    {
      "cell_type": "markdown",
      "id": "53679125",
      "metadata": {
        "id": "53679125"
      },
      "source": [
        "#### Missing Values"
      ]
    },
    {
      "cell_type": "code",
      "execution_count": 11,
      "id": "f7cc78ce",
      "metadata": {
        "colab": {
          "base_uri": "https://localhost:8080/"
        },
        "id": "f7cc78ce",
        "outputId": "1641e025-7724-4440-ce34-945afea78ba3"
      },
      "outputs": [
        {
          "data": {
            "text/plain": [
              "age          0\n",
              "sex         13\n",
              "bmi          0\n",
              "children     0\n",
              "smoker       0\n",
              "region       8\n",
              "charges      0\n",
              "dtype: int64"
            ]
          },
          "execution_count": 11,
          "metadata": {},
          "output_type": "execute_result"
        }
      ],
      "source": [
        "data_insurance.isna().sum()"
      ]
    },
    {
      "cell_type": "code",
      "execution_count": 12,
      "id": "0c40e187",
      "metadata": {
        "colab": {
          "base_uri": "https://localhost:8080/",
          "height": 457
        },
        "id": "0c40e187",
        "outputId": "2fda1f47-34f1-4b93-d598-afdd0f991b42"
      },
      "outputs": [
        {
          "data": {
            "text/html": [
              "<div>\n",
              "<style scoped>\n",
              "    .dataframe tbody tr th:only-of-type {\n",
              "        vertical-align: middle;\n",
              "    }\n",
              "\n",
              "    .dataframe tbody tr th {\n",
              "        vertical-align: top;\n",
              "    }\n",
              "\n",
              "    .dataframe thead th {\n",
              "        text-align: right;\n",
              "    }\n",
              "</style>\n",
              "<table border=\"1\" class=\"dataframe\">\n",
              "  <thead>\n",
              "    <tr style=\"text-align: right;\">\n",
              "      <th></th>\n",
              "      <th>age</th>\n",
              "      <th>sex</th>\n",
              "      <th>bmi</th>\n",
              "      <th>children</th>\n",
              "      <th>smoker</th>\n",
              "      <th>region</th>\n",
              "      <th>charges</th>\n",
              "    </tr>\n",
              "  </thead>\n",
              "  <tbody>\n",
              "    <tr>\n",
              "      <th>19</th>\n",
              "      <td>30</td>\n",
              "      <td>NaN</td>\n",
              "      <td>35.300</td>\n",
              "      <td>0</td>\n",
              "      <td>yes</td>\n",
              "      <td>southwest</td>\n",
              "      <td>36837.46700</td>\n",
              "    </tr>\n",
              "    <tr>\n",
              "      <th>64</th>\n",
              "      <td>20</td>\n",
              "      <td>NaN</td>\n",
              "      <td>22.420</td>\n",
              "      <td>0</td>\n",
              "      <td>yes</td>\n",
              "      <td>northwest</td>\n",
              "      <td>14711.74380</td>\n",
              "    </tr>\n",
              "    <tr>\n",
              "      <th>136</th>\n",
              "      <td>19</td>\n",
              "      <td>NaN</td>\n",
              "      <td>34.100</td>\n",
              "      <td>0</td>\n",
              "      <td>no</td>\n",
              "      <td>southwest</td>\n",
              "      <td>1261.44200</td>\n",
              "    </tr>\n",
              "    <tr>\n",
              "      <th>227</th>\n",
              "      <td>58</td>\n",
              "      <td>NaN</td>\n",
              "      <td>41.910</td>\n",
              "      <td>0</td>\n",
              "      <td>no</td>\n",
              "      <td>southeast</td>\n",
              "      <td>24227.33724</td>\n",
              "    </tr>\n",
              "    <tr>\n",
              "      <th>273</th>\n",
              "      <td>50</td>\n",
              "      <td>NaN</td>\n",
              "      <td>27.455</td>\n",
              "      <td>1</td>\n",
              "      <td>no</td>\n",
              "      <td>northeast</td>\n",
              "      <td>9617.66245</td>\n",
              "    </tr>\n",
              "    <tr>\n",
              "      <th>331</th>\n",
              "      <td>52</td>\n",
              "      <td>NaN</td>\n",
              "      <td>27.360</td>\n",
              "      <td>0</td>\n",
              "      <td>yes</td>\n",
              "      <td>northwest</td>\n",
              "      <td>24393.62240</td>\n",
              "    </tr>\n",
              "    <tr>\n",
              "      <th>383</th>\n",
              "      <td>35</td>\n",
              "      <td>NaN</td>\n",
              "      <td>43.340</td>\n",
              "      <td>2</td>\n",
              "      <td>no</td>\n",
              "      <td>southeast</td>\n",
              "      <td>5846.91760</td>\n",
              "    </tr>\n",
              "    <tr>\n",
              "      <th>444</th>\n",
              "      <td>56</td>\n",
              "      <td>NaN</td>\n",
              "      <td>26.695</td>\n",
              "      <td>1</td>\n",
              "      <td>yes</td>\n",
              "      <td>northwest</td>\n",
              "      <td>26109.32905</td>\n",
              "    </tr>\n",
              "    <tr>\n",
              "      <th>490</th>\n",
              "      <td>19</td>\n",
              "      <td>NaN</td>\n",
              "      <td>32.900</td>\n",
              "      <td>0</td>\n",
              "      <td>no</td>\n",
              "      <td>southwest</td>\n",
              "      <td>1748.77400</td>\n",
              "    </tr>\n",
              "    <tr>\n",
              "      <th>563</th>\n",
              "      <td>50</td>\n",
              "      <td>NaN</td>\n",
              "      <td>44.770</td>\n",
              "      <td>1</td>\n",
              "      <td>no</td>\n",
              "      <td>southeast</td>\n",
              "      <td>9058.73030</td>\n",
              "    </tr>\n",
              "    <tr>\n",
              "      <th>610</th>\n",
              "      <td>47</td>\n",
              "      <td>NaN</td>\n",
              "      <td>29.370</td>\n",
              "      <td>1</td>\n",
              "      <td>no</td>\n",
              "      <td>southeast</td>\n",
              "      <td>8547.69130</td>\n",
              "    </tr>\n",
              "    <tr>\n",
              "      <th>639</th>\n",
              "      <td>56</td>\n",
              "      <td>NaN</td>\n",
              "      <td>33.660</td>\n",
              "      <td>4</td>\n",
              "      <td>no</td>\n",
              "      <td>southeast</td>\n",
              "      <td>12949.15540</td>\n",
              "    </tr>\n",
              "    <tr>\n",
              "      <th>680</th>\n",
              "      <td>21</td>\n",
              "      <td>NaN</td>\n",
              "      <td>17.400</td>\n",
              "      <td>1</td>\n",
              "      <td>no</td>\n",
              "      <td>southwest</td>\n",
              "      <td>2585.26900</td>\n",
              "    </tr>\n",
              "  </tbody>\n",
              "</table>\n",
              "</div>"
            ],
            "text/plain": [
              "    age  sex     bmi  children smoker     region      charges\n",
              "19   30  NaN  35.300         0    yes  southwest  36837.46700\n",
              "64   20  NaN  22.420         0    yes  northwest  14711.74380\n",
              "136  19  NaN  34.100         0     no  southwest   1261.44200\n",
              "227  58  NaN  41.910         0     no  southeast  24227.33724\n",
              "273  50  NaN  27.455         1     no  northeast   9617.66245\n",
              "331  52  NaN  27.360         0    yes  northwest  24393.62240\n",
              "383  35  NaN  43.340         2     no  southeast   5846.91760\n",
              "444  56  NaN  26.695         1    yes  northwest  26109.32905\n",
              "490  19  NaN  32.900         0     no  southwest   1748.77400\n",
              "563  50  NaN  44.770         1     no  southeast   9058.73030\n",
              "610  47  NaN  29.370         1     no  southeast   8547.69130\n",
              "639  56  NaN  33.660         4     no  southeast  12949.15540\n",
              "680  21  NaN  17.400         1     no  southwest   2585.26900"
            ]
          },
          "execution_count": 12,
          "metadata": {},
          "output_type": "execute_result"
        }
      ],
      "source": [
        "data_insurance[data_insurance.sex.isna()]"
      ]
    },
    {
      "cell_type": "code",
      "execution_count": 13,
      "id": "GjZfyH7uSojl",
      "metadata": {
        "id": "GjZfyH7uSojl"
      },
      "outputs": [],
      "source": [
        "data_insurance.dropna(inplace=True)"
      ]
    },
    {
      "cell_type": "code",
      "execution_count": 14,
      "id": "n6ImRQC4S0Ch",
      "metadata": {
        "colab": {
          "base_uri": "https://localhost:8080/"
        },
        "id": "n6ImRQC4S0Ch",
        "outputId": "56b8588a-8825-42de-b214-f5b9310f6f7e"
      },
      "outputs": [
        {
          "data": {
            "text/plain": [
              "age         0\n",
              "sex         0\n",
              "bmi         0\n",
              "children    0\n",
              "smoker      0\n",
              "region      0\n",
              "charges     0\n",
              "dtype: int64"
            ]
          },
          "execution_count": 14,
          "metadata": {},
          "output_type": "execute_result"
        }
      ],
      "source": [
        "data_insurance.isna().sum()"
      ]
    },
    {
      "cell_type": "code",
      "execution_count": 15,
      "id": "4d4f2eb5",
      "metadata": {
        "colab": {
          "base_uri": "https://localhost:8080/"
        },
        "id": "4d4f2eb5",
        "outputId": "3ad88367-e6a2-4459-971d-b24b75fe7c36"
      },
      "outputs": [
        {
          "data": {
            "text/plain": [
              "sex\n",
              "male      665\n",
              "female    651\n",
              "Name: count, dtype: int64"
            ]
          },
          "execution_count": 15,
          "metadata": {},
          "output_type": "execute_result"
        }
      ],
      "source": [
        "data_insurance.sex.value_counts()"
      ]
    },
    {
      "cell_type": "code",
      "execution_count": 16,
      "id": "049023b3",
      "metadata": {
        "colab": {
          "base_uri": "https://localhost:8080/"
        },
        "id": "049023b3",
        "outputId": "9fe59cc5-fe96-431b-b924-64999ad4e3cd"
      },
      "outputs": [
        {
          "data": {
            "text/plain": [
              "region\n",
              "southeast    356\n",
              "southwest    321\n",
              "northeast    321\n",
              "northwest    318\n",
              "Name: count, dtype: int64"
            ]
          },
          "execution_count": 16,
          "metadata": {},
          "output_type": "execute_result"
        }
      ],
      "source": [
        "data_insurance.region.value_counts()"
      ]
    },
    {
      "cell_type": "code",
      "execution_count": 17,
      "id": "a072bf51",
      "metadata": {
        "id": "a072bf51"
      },
      "outputs": [],
      "source": [
        "data_insurance.fillna(value=\" \", inplace=True)"
      ]
    },
    {
      "cell_type": "code",
      "execution_count": 18,
      "id": "a739b68c",
      "metadata": {
        "colab": {
          "base_uri": "https://localhost:8080/"
        },
        "id": "a739b68c",
        "outputId": "03c8018e-dd19-4af0-9683-5a38c8312462"
      },
      "outputs": [
        {
          "data": {
            "text/plain": [
              "age         0\n",
              "sex         0\n",
              "bmi         0\n",
              "children    0\n",
              "smoker      0\n",
              "region      0\n",
              "charges     0\n",
              "dtype: int64"
            ]
          },
          "execution_count": 18,
          "metadata": {},
          "output_type": "execute_result"
        }
      ],
      "source": [
        "data_insurance.isna().sum()"
      ]
    },
    {
      "cell_type": "markdown",
      "id": "f7450f55",
      "metadata": {
        "id": "f7450f55"
      },
      "source": [
        "#### Innacurate values"
      ]
    },
    {
      "cell_type": "code",
      "execution_count": 19,
      "id": "71765462",
      "metadata": {
        "colab": {
          "base_uri": "https://localhost:8080/",
          "height": 300
        },
        "id": "71765462",
        "outputId": "774a6828-acee-402d-dfb5-bf98f7825f6a"
      },
      "outputs": [
        {
          "data": {
            "text/html": [
              "<div>\n",
              "<style scoped>\n",
              "    .dataframe tbody tr th:only-of-type {\n",
              "        vertical-align: middle;\n",
              "    }\n",
              "\n",
              "    .dataframe tbody tr th {\n",
              "        vertical-align: top;\n",
              "    }\n",
              "\n",
              "    .dataframe thead th {\n",
              "        text-align: right;\n",
              "    }\n",
              "</style>\n",
              "<table border=\"1\" class=\"dataframe\">\n",
              "  <thead>\n",
              "    <tr style=\"text-align: right;\">\n",
              "      <th></th>\n",
              "      <th>bmi</th>\n",
              "      <th>children</th>\n",
              "      <th>charges</th>\n",
              "    </tr>\n",
              "  </thead>\n",
              "  <tbody>\n",
              "    <tr>\n",
              "      <th>count</th>\n",
              "      <td>1316.000000</td>\n",
              "      <td>1316.000000</td>\n",
              "      <td>1316.000000</td>\n",
              "    </tr>\n",
              "    <tr>\n",
              "      <th>mean</th>\n",
              "      <td>30.661926</td>\n",
              "      <td>1.095745</td>\n",
              "      <td>13254.671317</td>\n",
              "    </tr>\n",
              "    <tr>\n",
              "      <th>std</th>\n",
              "      <td>6.089311</td>\n",
              "      <td>1.207057</td>\n",
              "      <td>12109.448424</td>\n",
              "    </tr>\n",
              "    <tr>\n",
              "      <th>min</th>\n",
              "      <td>15.960000</td>\n",
              "      <td>0.000000</td>\n",
              "      <td>1121.873900</td>\n",
              "    </tr>\n",
              "    <tr>\n",
              "      <th>25%</th>\n",
              "      <td>26.308750</td>\n",
              "      <td>0.000000</td>\n",
              "      <td>4733.635288</td>\n",
              "    </tr>\n",
              "    <tr>\n",
              "      <th>50%</th>\n",
              "      <td>30.400000</td>\n",
              "      <td>1.000000</td>\n",
              "      <td>9382.033000</td>\n",
              "    </tr>\n",
              "    <tr>\n",
              "      <th>75%</th>\n",
              "      <td>34.717500</td>\n",
              "      <td>2.000000</td>\n",
              "      <td>16604.302645</td>\n",
              "    </tr>\n",
              "    <tr>\n",
              "      <th>max</th>\n",
              "      <td>53.130000</td>\n",
              "      <td>5.000000</td>\n",
              "      <td>63770.428010</td>\n",
              "    </tr>\n",
              "  </tbody>\n",
              "</table>\n",
              "</div>"
            ],
            "text/plain": [
              "               bmi     children       charges\n",
              "count  1316.000000  1316.000000   1316.000000\n",
              "mean     30.661926     1.095745  13254.671317\n",
              "std       6.089311     1.207057  12109.448424\n",
              "min      15.960000     0.000000   1121.873900\n",
              "25%      26.308750     0.000000   4733.635288\n",
              "50%      30.400000     1.000000   9382.033000\n",
              "75%      34.717500     2.000000  16604.302645\n",
              "max      53.130000     5.000000  63770.428010"
            ]
          },
          "execution_count": 19,
          "metadata": {},
          "output_type": "execute_result"
        }
      ],
      "source": [
        "data_insurance.describe()"
      ]
    },
    {
      "cell_type": "markdown",
      "id": "deb35b39",
      "metadata": {
        "id": "deb35b39"
      },
      "source": [
        "#### Memperbaiki Tipe Data"
      ]
    },
    {
      "cell_type": "code",
      "execution_count": 20,
      "id": "c1283412",
      "metadata": {
        "id": "c1283412"
      },
      "outputs": [],
      "source": [
        "data_insurance['age'] = data_insurance['age'].apply(lambda x: int(x.strip(\"'\")) if isinstance(x, str) else x)"
      ]
    },
    {
      "cell_type": "code",
      "execution_count": 21,
      "id": "7794d821",
      "metadata": {
        "colab": {
          "base_uri": "https://localhost:8080/"
        },
        "id": "7794d821",
        "outputId": "8e4fbf56-629a-4991-9acc-343fae3bb893"
      },
      "outputs": [
        {
          "name": "stdout",
          "output_type": "stream",
          "text": [
            "<class 'pandas.core.frame.DataFrame'>\n",
            "Index: 1316 entries, 0 to 1337\n",
            "Data columns (total 7 columns):\n",
            " #   Column    Non-Null Count  Dtype  \n",
            "---  ------    --------------  -----  \n",
            " 0   age       1316 non-null   int64  \n",
            " 1   sex       1316 non-null   object \n",
            " 2   bmi       1316 non-null   float64\n",
            " 3   children  1316 non-null   int64  \n",
            " 4   smoker    1316 non-null   object \n",
            " 5   region    1316 non-null   object \n",
            " 6   charges   1316 non-null   float64\n",
            "dtypes: float64(2), int64(2), object(3)\n",
            "memory usage: 82.2+ KB\n"
          ]
        }
      ],
      "source": [
        "data_insurance.info()"
      ]
    },
    {
      "cell_type": "markdown",
      "id": "ec44eac4",
      "metadata": {
        "id": "ec44eac4"
      },
      "source": [
        "#### Menambahkan Kolom Baru"
      ]
    },
    {
      "cell_type": "code",
      "execution_count": 22,
      "id": "9ef0924e",
      "metadata": {
        "id": "9ef0924e"
      },
      "outputs": [],
      "source": [
        "data_insurance.insert(0, 'id', range(1, 1+len(data_insurance)))"
      ]
    },
    {
      "cell_type": "code",
      "execution_count": 23,
      "id": "198e8e4d",
      "metadata": {
        "colab": {
          "base_uri": "https://localhost:8080/",
          "height": 206
        },
        "id": "198e8e4d",
        "outputId": "edbfca23-95f8-4096-c576-275011c64ad5"
      },
      "outputs": [
        {
          "data": {
            "text/html": [
              "<div>\n",
              "<style scoped>\n",
              "    .dataframe tbody tr th:only-of-type {\n",
              "        vertical-align: middle;\n",
              "    }\n",
              "\n",
              "    .dataframe tbody tr th {\n",
              "        vertical-align: top;\n",
              "    }\n",
              "\n",
              "    .dataframe thead th {\n",
              "        text-align: right;\n",
              "    }\n",
              "</style>\n",
              "<table border=\"1\" class=\"dataframe\">\n",
              "  <thead>\n",
              "    <tr style=\"text-align: right;\">\n",
              "      <th></th>\n",
              "      <th>id</th>\n",
              "      <th>age</th>\n",
              "      <th>sex</th>\n",
              "      <th>bmi</th>\n",
              "      <th>children</th>\n",
              "      <th>smoker</th>\n",
              "      <th>region</th>\n",
              "      <th>charges</th>\n",
              "    </tr>\n",
              "  </thead>\n",
              "  <tbody>\n",
              "    <tr>\n",
              "      <th>0</th>\n",
              "      <td>1</td>\n",
              "      <td>19</td>\n",
              "      <td>female</td>\n",
              "      <td>27.900</td>\n",
              "      <td>0</td>\n",
              "      <td>yes</td>\n",
              "      <td>southwest</td>\n",
              "      <td>16884.92400</td>\n",
              "    </tr>\n",
              "    <tr>\n",
              "      <th>1</th>\n",
              "      <td>2</td>\n",
              "      <td>18</td>\n",
              "      <td>male</td>\n",
              "      <td>33.770</td>\n",
              "      <td>1</td>\n",
              "      <td>no</td>\n",
              "      <td>southeast</td>\n",
              "      <td>1725.55230</td>\n",
              "    </tr>\n",
              "    <tr>\n",
              "      <th>2</th>\n",
              "      <td>3</td>\n",
              "      <td>28</td>\n",
              "      <td>male</td>\n",
              "      <td>33.000</td>\n",
              "      <td>3</td>\n",
              "      <td>no</td>\n",
              "      <td>southeast</td>\n",
              "      <td>4449.46200</td>\n",
              "    </tr>\n",
              "    <tr>\n",
              "      <th>3</th>\n",
              "      <td>4</td>\n",
              "      <td>33</td>\n",
              "      <td>male</td>\n",
              "      <td>22.705</td>\n",
              "      <td>0</td>\n",
              "      <td>no</td>\n",
              "      <td>northwest</td>\n",
              "      <td>21984.47061</td>\n",
              "    </tr>\n",
              "    <tr>\n",
              "      <th>4</th>\n",
              "      <td>5</td>\n",
              "      <td>32</td>\n",
              "      <td>male</td>\n",
              "      <td>28.880</td>\n",
              "      <td>0</td>\n",
              "      <td>no</td>\n",
              "      <td>northwest</td>\n",
              "      <td>3866.85520</td>\n",
              "    </tr>\n",
              "  </tbody>\n",
              "</table>\n",
              "</div>"
            ],
            "text/plain": [
              "   id  age     sex     bmi  children smoker     region      charges\n",
              "0   1   19  female  27.900         0    yes  southwest  16884.92400\n",
              "1   2   18    male  33.770         1     no  southeast   1725.55230\n",
              "2   3   28    male  33.000         3     no  southeast   4449.46200\n",
              "3   4   33    male  22.705         0     no  northwest  21984.47061\n",
              "4   5   32    male  28.880         0     no  northwest   3866.85520"
            ]
          },
          "execution_count": 23,
          "metadata": {},
          "output_type": "execute_result"
        }
      ],
      "source": [
        "data_insurance.head()"
      ]
    },
    {
      "cell_type": "markdown",
      "id": "540831c5",
      "metadata": {
        "id": "540831c5"
      },
      "source": [
        "## Tahap 6: Mengeksplorasi dan Menganalisis Data"
      ]
    },
    {
      "cell_type": "markdown",
      "id": "8a23f9fa",
      "metadata": {
        "id": "8a23f9fa"
      },
      "source": [
        "Pada tahap ini bisa dilakukan pengelompokkan terhadap data berdasarkan kolom tertentu untuk dianalisis, mencari hubungan di antara kolom, melakukan filtrasi data, dan sebagainya"
      ]
    },
    {
      "cell_type": "code",
      "execution_count": 24,
      "id": "952006cf",
      "metadata": {
        "colab": {
          "base_uri": "https://localhost:8080/",
          "height": 206
        },
        "id": "952006cf",
        "outputId": "2b193820-5bcd-417e-e8cc-a2d87f49295e"
      },
      "outputs": [
        {
          "data": {
            "text/html": [
              "<div>\n",
              "<style scoped>\n",
              "    .dataframe tbody tr th:only-of-type {\n",
              "        vertical-align: middle;\n",
              "    }\n",
              "\n",
              "    .dataframe tbody tr th {\n",
              "        vertical-align: top;\n",
              "    }\n",
              "\n",
              "    .dataframe thead th {\n",
              "        text-align: right;\n",
              "    }\n",
              "</style>\n",
              "<table border=\"1\" class=\"dataframe\">\n",
              "  <thead>\n",
              "    <tr style=\"text-align: right;\">\n",
              "      <th></th>\n",
              "      <th>id</th>\n",
              "      <th>age</th>\n",
              "      <th>sex</th>\n",
              "      <th>bmi</th>\n",
              "      <th>children</th>\n",
              "      <th>smoker</th>\n",
              "      <th>region</th>\n",
              "      <th>charges</th>\n",
              "    </tr>\n",
              "  </thead>\n",
              "  <tbody>\n",
              "    <tr>\n",
              "      <th>945</th>\n",
              "      <td>928</td>\n",
              "      <td>56</td>\n",
              "      <td>female</td>\n",
              "      <td>35.800</td>\n",
              "      <td>1</td>\n",
              "      <td>no</td>\n",
              "      <td>southwest</td>\n",
              "      <td>11674.13000</td>\n",
              "    </tr>\n",
              "    <tr>\n",
              "      <th>63</th>\n",
              "      <td>63</td>\n",
              "      <td>28</td>\n",
              "      <td>female</td>\n",
              "      <td>25.935</td>\n",
              "      <td>1</td>\n",
              "      <td>no</td>\n",
              "      <td>northwest</td>\n",
              "      <td>4133.64165</td>\n",
              "    </tr>\n",
              "    <tr>\n",
              "      <th>825</th>\n",
              "      <td>809</td>\n",
              "      <td>64</td>\n",
              "      <td>female</td>\n",
              "      <td>31.825</td>\n",
              "      <td>2</td>\n",
              "      <td>no</td>\n",
              "      <td>northeast</td>\n",
              "      <td>16069.08475</td>\n",
              "    </tr>\n",
              "    <tr>\n",
              "      <th>621</th>\n",
              "      <td>608</td>\n",
              "      <td>37</td>\n",
              "      <td>male</td>\n",
              "      <td>34.100</td>\n",
              "      <td>4</td>\n",
              "      <td>yes</td>\n",
              "      <td>southwest</td>\n",
              "      <td>40182.24600</td>\n",
              "    </tr>\n",
              "    <tr>\n",
              "      <th>450</th>\n",
              "      <td>441</td>\n",
              "      <td>39</td>\n",
              "      <td>male</td>\n",
              "      <td>29.600</td>\n",
              "      <td>4</td>\n",
              "      <td>no</td>\n",
              "      <td>southwest</td>\n",
              "      <td>7512.26700</td>\n",
              "    </tr>\n",
              "  </tbody>\n",
              "</table>\n",
              "</div>"
            ],
            "text/plain": [
              "      id  age     sex     bmi  children smoker     region      charges\n",
              "945  928   56  female  35.800         1     no  southwest  11674.13000\n",
              "63    63   28  female  25.935         1     no  northwest   4133.64165\n",
              "825  809   64  female  31.825         2     no  northeast  16069.08475\n",
              "621  608   37    male  34.100         4    yes  southwest  40182.24600\n",
              "450  441   39    male  29.600         4     no  southwest   7512.26700"
            ]
          },
          "execution_count": 24,
          "metadata": {},
          "output_type": "execute_result"
        }
      ],
      "source": [
        "# Berikan penjelasan/kesimpulan untuk setiap analisis data yang telah dilakukan\n",
        "data_insurance.sample(5)"
      ]
    },
    {
      "cell_type": "code",
      "execution_count": 25,
      "id": "ee67d660",
      "metadata": {
        "colab": {
          "base_uri": "https://localhost:8080/",
          "height": 394
        },
        "id": "ee67d660",
        "outputId": "eeb1cc72-0fd2-4eb9-cc3e-57105485ba61"
      },
      "outputs": [
        {
          "data": {
            "text/html": [
              "<div>\n",
              "<style scoped>\n",
              "    .dataframe tbody tr th:only-of-type {\n",
              "        vertical-align: middle;\n",
              "    }\n",
              "\n",
              "    .dataframe tbody tr th {\n",
              "        vertical-align: top;\n",
              "    }\n",
              "\n",
              "    .dataframe thead th {\n",
              "        text-align: right;\n",
              "    }\n",
              "</style>\n",
              "<table border=\"1\" class=\"dataframe\">\n",
              "  <thead>\n",
              "    <tr style=\"text-align: right;\">\n",
              "      <th></th>\n",
              "      <th>id</th>\n",
              "      <th>age</th>\n",
              "      <th>sex</th>\n",
              "      <th>bmi</th>\n",
              "      <th>children</th>\n",
              "      <th>smoker</th>\n",
              "      <th>region</th>\n",
              "      <th>charges</th>\n",
              "    </tr>\n",
              "  </thead>\n",
              "  <tbody>\n",
              "    <tr>\n",
              "      <th>count</th>\n",
              "      <td>1316.000000</td>\n",
              "      <td>1316.000000</td>\n",
              "      <td>1316</td>\n",
              "      <td>1316.000000</td>\n",
              "      <td>1316.000000</td>\n",
              "      <td>1316</td>\n",
              "      <td>1316</td>\n",
              "      <td>1316.000000</td>\n",
              "    </tr>\n",
              "    <tr>\n",
              "      <th>unique</th>\n",
              "      <td>NaN</td>\n",
              "      <td>NaN</td>\n",
              "      <td>2</td>\n",
              "      <td>NaN</td>\n",
              "      <td>NaN</td>\n",
              "      <td>2</td>\n",
              "      <td>4</td>\n",
              "      <td>NaN</td>\n",
              "    </tr>\n",
              "    <tr>\n",
              "      <th>top</th>\n",
              "      <td>NaN</td>\n",
              "      <td>NaN</td>\n",
              "      <td>male</td>\n",
              "      <td>NaN</td>\n",
              "      <td>NaN</td>\n",
              "      <td>no</td>\n",
              "      <td>southeast</td>\n",
              "      <td>NaN</td>\n",
              "    </tr>\n",
              "    <tr>\n",
              "      <th>freq</th>\n",
              "      <td>NaN</td>\n",
              "      <td>NaN</td>\n",
              "      <td>665</td>\n",
              "      <td>NaN</td>\n",
              "      <td>NaN</td>\n",
              "      <td>1049</td>\n",
              "      <td>356</td>\n",
              "      <td>NaN</td>\n",
              "    </tr>\n",
              "    <tr>\n",
              "      <th>mean</th>\n",
              "      <td>658.500000</td>\n",
              "      <td>39.224164</td>\n",
              "      <td>NaN</td>\n",
              "      <td>30.661926</td>\n",
              "      <td>1.095745</td>\n",
              "      <td>NaN</td>\n",
              "      <td>NaN</td>\n",
              "      <td>13254.671317</td>\n",
              "    </tr>\n",
              "    <tr>\n",
              "      <th>std</th>\n",
              "      <td>380.040787</td>\n",
              "      <td>14.057808</td>\n",
              "      <td>NaN</td>\n",
              "      <td>6.089311</td>\n",
              "      <td>1.207057</td>\n",
              "      <td>NaN</td>\n",
              "      <td>NaN</td>\n",
              "      <td>12109.448424</td>\n",
              "    </tr>\n",
              "    <tr>\n",
              "      <th>min</th>\n",
              "      <td>1.000000</td>\n",
              "      <td>18.000000</td>\n",
              "      <td>NaN</td>\n",
              "      <td>15.960000</td>\n",
              "      <td>0.000000</td>\n",
              "      <td>NaN</td>\n",
              "      <td>NaN</td>\n",
              "      <td>1121.873900</td>\n",
              "    </tr>\n",
              "    <tr>\n",
              "      <th>25%</th>\n",
              "      <td>329.750000</td>\n",
              "      <td>27.000000</td>\n",
              "      <td>NaN</td>\n",
              "      <td>26.308750</td>\n",
              "      <td>0.000000</td>\n",
              "      <td>NaN</td>\n",
              "      <td>NaN</td>\n",
              "      <td>4733.635288</td>\n",
              "    </tr>\n",
              "    <tr>\n",
              "      <th>50%</th>\n",
              "      <td>658.500000</td>\n",
              "      <td>39.000000</td>\n",
              "      <td>NaN</td>\n",
              "      <td>30.400000</td>\n",
              "      <td>1.000000</td>\n",
              "      <td>NaN</td>\n",
              "      <td>NaN</td>\n",
              "      <td>9382.033000</td>\n",
              "    </tr>\n",
              "    <tr>\n",
              "      <th>75%</th>\n",
              "      <td>987.250000</td>\n",
              "      <td>51.000000</td>\n",
              "      <td>NaN</td>\n",
              "      <td>34.717500</td>\n",
              "      <td>2.000000</td>\n",
              "      <td>NaN</td>\n",
              "      <td>NaN</td>\n",
              "      <td>16604.302645</td>\n",
              "    </tr>\n",
              "    <tr>\n",
              "      <th>max</th>\n",
              "      <td>1316.000000</td>\n",
              "      <td>64.000000</td>\n",
              "      <td>NaN</td>\n",
              "      <td>53.130000</td>\n",
              "      <td>5.000000</td>\n",
              "      <td>NaN</td>\n",
              "      <td>NaN</td>\n",
              "      <td>63770.428010</td>\n",
              "    </tr>\n",
              "  </tbody>\n",
              "</table>\n",
              "</div>"
            ],
            "text/plain": [
              "                 id          age   sex          bmi     children smoker  \\\n",
              "count   1316.000000  1316.000000  1316  1316.000000  1316.000000   1316   \n",
              "unique          NaN          NaN     2          NaN          NaN      2   \n",
              "top             NaN          NaN  male          NaN          NaN     no   \n",
              "freq            NaN          NaN   665          NaN          NaN   1049   \n",
              "mean     658.500000    39.224164   NaN    30.661926     1.095745    NaN   \n",
              "std      380.040787    14.057808   NaN     6.089311     1.207057    NaN   \n",
              "min        1.000000    18.000000   NaN    15.960000     0.000000    NaN   \n",
              "25%      329.750000    27.000000   NaN    26.308750     0.000000    NaN   \n",
              "50%      658.500000    39.000000   NaN    30.400000     1.000000    NaN   \n",
              "75%      987.250000    51.000000   NaN    34.717500     2.000000    NaN   \n",
              "max     1316.000000    64.000000   NaN    53.130000     5.000000    NaN   \n",
              "\n",
              "           region       charges  \n",
              "count        1316   1316.000000  \n",
              "unique          4           NaN  \n",
              "top     southeast           NaN  \n",
              "freq          356           NaN  \n",
              "mean          NaN  13254.671317  \n",
              "std           NaN  12109.448424  \n",
              "min           NaN   1121.873900  \n",
              "25%           NaN   4733.635288  \n",
              "50%           NaN   9382.033000  \n",
              "75%           NaN  16604.302645  \n",
              "max           NaN  63770.428010  "
            ]
          },
          "execution_count": 25,
          "metadata": {},
          "output_type": "execute_result"
        }
      ],
      "source": [
        "data_insurance.describe(include=\"all\")"
      ]
    },
    {
      "cell_type": "code",
      "execution_count": 26,
      "id": "d1047c5b",
      "metadata": {
        "colab": {
          "base_uri": "https://localhost:8080/"
        },
        "id": "d1047c5b",
        "outputId": "e068b2ad-9700-4be1-bc98-24659618cd84"
      },
      "outputs": [
        {
          "data": {
            "text/plain": [
              "True"
            ]
          },
          "execution_count": 26,
          "metadata": {},
          "output_type": "execute_result"
        }
      ],
      "source": [
        "data_insurance.id.is_unique"
      ]
    },
    {
      "cell_type": "code",
      "execution_count": 27,
      "id": "965c2501",
      "metadata": {
        "colab": {
          "base_uri": "https://localhost:8080/"
        },
        "id": "965c2501",
        "outputId": "2e15c3c5-6fcb-4412-eaf1-d3c01b5a930b"
      },
      "outputs": [
        {
          "data": {
            "text/plain": [
              "<bound method Series.duplicated of 0          1\n",
              "1          2\n",
              "2          3\n",
              "3          4\n",
              "4          5\n",
              "        ... \n",
              "1333    1312\n",
              "1334    1313\n",
              "1335    1314\n",
              "1336    1315\n",
              "1337    1316\n",
              "Name: id, Length: 1316, dtype: int64>"
            ]
          },
          "execution_count": 27,
          "metadata": {},
          "output_type": "execute_result"
        }
      ],
      "source": [
        "data_insurance.id.duplicated"
      ]
    },
    {
      "cell_type": "code",
      "execution_count": 28,
      "id": "f9d2b46e",
      "metadata": {
        "id": "f9d2b46e"
      },
      "outputs": [],
      "source": [
        "data_insurance['age_group'] = data_insurance['age'].apply(lambda x: \"Teen\" if x <=21 else (\"Mature\" if x > 60 else \"Elderly\"))\n"
      ]
    },
    {
      "cell_type": "code",
      "execution_count": 29,
      "id": "ff4bc247",
      "metadata": {
        "colab": {
          "base_uri": "https://localhost:8080/",
          "height": 206
        },
        "id": "ff4bc247",
        "outputId": "0872f16c-3e6e-4833-92f7-11279a986748"
      },
      "outputs": [
        {
          "data": {
            "text/html": [
              "<div>\n",
              "<style scoped>\n",
              "    .dataframe tbody tr th:only-of-type {\n",
              "        vertical-align: middle;\n",
              "    }\n",
              "\n",
              "    .dataframe tbody tr th {\n",
              "        vertical-align: top;\n",
              "    }\n",
              "\n",
              "    .dataframe thead th {\n",
              "        text-align: right;\n",
              "    }\n",
              "</style>\n",
              "<table border=\"1\" class=\"dataframe\">\n",
              "  <thead>\n",
              "    <tr style=\"text-align: right;\">\n",
              "      <th></th>\n",
              "      <th>id</th>\n",
              "      <th>age</th>\n",
              "      <th>sex</th>\n",
              "      <th>bmi</th>\n",
              "      <th>children</th>\n",
              "      <th>smoker</th>\n",
              "      <th>region</th>\n",
              "      <th>charges</th>\n",
              "      <th>age_group</th>\n",
              "    </tr>\n",
              "  </thead>\n",
              "  <tbody>\n",
              "    <tr>\n",
              "      <th>0</th>\n",
              "      <td>1</td>\n",
              "      <td>19</td>\n",
              "      <td>female</td>\n",
              "      <td>27.900</td>\n",
              "      <td>0</td>\n",
              "      <td>yes</td>\n",
              "      <td>southwest</td>\n",
              "      <td>16884.92400</td>\n",
              "      <td>Teen</td>\n",
              "    </tr>\n",
              "    <tr>\n",
              "      <th>1</th>\n",
              "      <td>2</td>\n",
              "      <td>18</td>\n",
              "      <td>male</td>\n",
              "      <td>33.770</td>\n",
              "      <td>1</td>\n",
              "      <td>no</td>\n",
              "      <td>southeast</td>\n",
              "      <td>1725.55230</td>\n",
              "      <td>Teen</td>\n",
              "    </tr>\n",
              "    <tr>\n",
              "      <th>2</th>\n",
              "      <td>3</td>\n",
              "      <td>28</td>\n",
              "      <td>male</td>\n",
              "      <td>33.000</td>\n",
              "      <td>3</td>\n",
              "      <td>no</td>\n",
              "      <td>southeast</td>\n",
              "      <td>4449.46200</td>\n",
              "      <td>Elderly</td>\n",
              "    </tr>\n",
              "    <tr>\n",
              "      <th>3</th>\n",
              "      <td>4</td>\n",
              "      <td>33</td>\n",
              "      <td>male</td>\n",
              "      <td>22.705</td>\n",
              "      <td>0</td>\n",
              "      <td>no</td>\n",
              "      <td>northwest</td>\n",
              "      <td>21984.47061</td>\n",
              "      <td>Elderly</td>\n",
              "    </tr>\n",
              "    <tr>\n",
              "      <th>4</th>\n",
              "      <td>5</td>\n",
              "      <td>32</td>\n",
              "      <td>male</td>\n",
              "      <td>28.880</td>\n",
              "      <td>0</td>\n",
              "      <td>no</td>\n",
              "      <td>northwest</td>\n",
              "      <td>3866.85520</td>\n",
              "      <td>Elderly</td>\n",
              "    </tr>\n",
              "  </tbody>\n",
              "</table>\n",
              "</div>"
            ],
            "text/plain": [
              "   id  age     sex     bmi  children smoker     region      charges age_group\n",
              "0   1   19  female  27.900         0    yes  southwest  16884.92400      Teen\n",
              "1   2   18    male  33.770         1     no  southeast   1725.55230      Teen\n",
              "2   3   28    male  33.000         3     no  southeast   4449.46200   Elderly\n",
              "3   4   33    male  22.705         0     no  northwest  21984.47061   Elderly\n",
              "4   5   32    male  28.880         0     no  northwest   3866.85520   Elderly"
            ]
          },
          "execution_count": 29,
          "metadata": {},
          "output_type": "execute_result"
        }
      ],
      "source": [
        "data_insurance.head()"
      ]
    },
    {
      "cell_type": "code",
      "execution_count": 30,
      "id": "4dceb46e",
      "metadata": {
        "colab": {
          "base_uri": "https://localhost:8080/"
        },
        "id": "4dceb46e",
        "outputId": "db2eaf97-9e4e-4716-cc76-2fb366251e82"
      },
      "outputs": [
        {
          "data": {
            "text/plain": [
              "age_group\n",
              "Elderly    1036\n",
              "Teen        189\n",
              "Mature       91\n",
              "Name: count, dtype: int64"
            ]
          },
          "execution_count": 30,
          "metadata": {},
          "output_type": "execute_result"
        }
      ],
      "source": [
        "data_insurance['age_group'].value_counts()"
      ]
    },
    {
      "cell_type": "code",
      "execution_count": 31,
      "id": "G8v3sTnQgImQ",
      "metadata": {
        "colab": {
          "base_uri": "https://localhost:8080/"
        },
        "id": "G8v3sTnQgImQ",
        "outputId": "6a543616-4885-4b27-fbd3-866a9f51bd7b"
      },
      "outputs": [
        {
          "name": "stdout",
          "output_type": "stream",
          "text": [
            "Jumlah berdasarkan jenis kelamin:\n",
            "sex\n",
            "male      665\n",
            "female    651\n",
            "Name: count, dtype: int64\n",
            "\n",
            "\n"
          ]
        }
      ],
      "source": [
        "print(\"Jumlah berdasarkan jenis kelamin:\")\n",
        "print(data_insurance['sex'].value_counts())\n",
        "print(\"\\n\")"
      ]
    },
    {
      "cell_type": "code",
      "execution_count": 32,
      "id": "ZvKGgUi_fk1W",
      "metadata": {
        "colab": {
          "base_uri": "https://localhost:8080/"
        },
        "id": "ZvKGgUi_fk1W",
        "outputId": "2b2986a8-fc92-43ba-9305-473accdaab8e"
      },
      "outputs": [
        {
          "name": "stdout",
          "output_type": "stream",
          "text": [
            "Average of BMI:\n",
            "30.661926291793314\n",
            "\n",
            "\n"
          ]
        }
      ],
      "source": [
        "print(\"Average of BMI:\")\n",
        "print(data_insurance['bmi'].mean())\n",
        "print(\"\\n\")"
      ]
    },
    {
      "cell_type": "code",
      "execution_count": 33,
      "id": "890501de",
      "metadata": {
        "colab": {
          "base_uri": "https://localhost:8080/"
        },
        "id": "890501de",
        "outputId": "9dda6f48-1528-4589-d4f9-a3288f53597c"
      },
      "outputs": [
        {
          "data": {
            "text/plain": [
              "children\n",
              "0    566\n",
              "1    315\n",
              "2    238\n",
              "3    155\n",
              "4     24\n",
              "5     18\n",
              "Name: count, dtype: int64"
            ]
          },
          "execution_count": 33,
          "metadata": {},
          "output_type": "execute_result"
        }
      ],
      "source": [
        "data_insurance.children.value_counts()"
      ]
    },
    {
      "cell_type": "code",
      "execution_count": 34,
      "id": "b27e5bf0",
      "metadata": {
        "colab": {
          "base_uri": "https://localhost:8080/"
        },
        "id": "b27e5bf0",
        "outputId": "40895bc3-d484-4b02-8026-2f853528754d"
      },
      "outputs": [
        {
          "data": {
            "text/plain": [
              "smoker\n",
              "no     1049\n",
              "yes     267\n",
              "Name: count, dtype: int64"
            ]
          },
          "execution_count": 34,
          "metadata": {},
          "output_type": "execute_result"
        }
      ],
      "source": [
        "data_insurance.smoker.value_counts()"
      ]
    },
    {
      "cell_type": "code",
      "execution_count": 35,
      "id": "b7b38cfb",
      "metadata": {
        "colab": {
          "base_uri": "https://localhost:8080/"
        },
        "id": "b7b38cfb",
        "outputId": "18ba86d8-e754-41c2-9c38-1447bc65df78"
      },
      "outputs": [
        {
          "data": {
            "text/plain": [
              "region\n",
              "southeast    356\n",
              "southwest    321\n",
              "northeast    321\n",
              "northwest    318\n",
              "Name: count, dtype: int64"
            ]
          },
          "execution_count": 35,
          "metadata": {},
          "output_type": "execute_result"
        }
      ],
      "source": [
        "data_insurance.region.value_counts()"
      ]
    },
    {
      "cell_type": "code",
      "execution_count": 36,
      "id": "da542c30",
      "metadata": {
        "colab": {
          "base_uri": "https://localhost:8080/"
        },
        "id": "da542c30",
        "outputId": "a13c6f67-b916-4a15-ff2b-1157ccd9b41f"
      },
      "outputs": [
        {
          "data": {
            "text/plain": [
              "count     1316.000000\n",
              "mean     13254.671317\n",
              "std      12109.448424\n",
              "min       1121.873900\n",
              "25%       4733.635288\n",
              "50%       9382.033000\n",
              "75%      16604.302645\n",
              "max      63770.428010\n",
              "Name: charges, dtype: float64"
            ]
          },
          "execution_count": 36,
          "metadata": {},
          "output_type": "execute_result"
        }
      ],
      "source": [
        "data_insurance.charges.describe()"
      ]
    },
    {
      "cell_type": "code",
      "execution_count": 37,
      "id": "e4b7febf",
      "metadata": {
        "colab": {
          "base_uri": "https://localhost:8080/"
        },
        "id": "e4b7febf",
        "outputId": "631cec22-ce3a-4498-cafd-21fb67962a2f"
      },
      "outputs": [
        {
          "data": {
            "text/plain": [
              "bmi_category\n",
              "obese          705\n",
              "overweight     372\n",
              "normal         219\n",
              "underweight     20\n",
              "Name: count, dtype: int64"
            ]
          },
          "execution_count": 37,
          "metadata": {},
          "output_type": "execute_result"
        }
      ],
      "source": [
        "data_insurance['bmi_category'] = pd.cut(data_insurance['bmi'],\n",
        "                                        bins=[-float('inf'), 18.5, 24.9, 29.9, float('inf')],\n",
        "                                        labels=['underweight', 'normal', 'overweight', 'obese'])\n",
        "\n",
        "bmi_category = data_insurance['bmi_category']\n",
        "\n",
        "data_insurance.bmi_category.value_counts()\n"
      ]
    },
    {
      "cell_type": "code",
      "execution_count": 38,
      "id": "9fea84e9",
      "metadata": {
        "colab": {
          "base_uri": "https://localhost:8080/"
        },
        "id": "9fea84e9",
        "outputId": "76eda756-a3bc-4774-9a69-d9c4b7603eef"
      },
      "outputs": [
        {
          "data": {
            "text/plain": [
              "status\n",
              "married    750\n",
              "single     566\n",
              "Name: count, dtype: int64"
            ]
          },
          "execution_count": 38,
          "metadata": {},
          "output_type": "execute_result"
        }
      ],
      "source": [
        "data_insurance['status'] = data_insurance['children'].apply(lambda x: \"single\" if x == 0 else \"married\")\n",
        "\n",
        "status = data_insurance['status']\n",
        "\n",
        "data_insurance.status.value_counts()\n"
      ]
    },
    {
      "cell_type": "code",
      "execution_count": 39,
      "id": "f5068ab3",
      "metadata": {
        "colab": {
          "base_uri": "https://localhost:8080/"
        },
        "id": "f5068ab3",
        "outputId": "eb28fbdf-2f5a-4461-c82f-06aa7e1e0d42"
      },
      "outputs": [
        {
          "name": "stdout",
          "output_type": "stream",
          "text": [
            "       charges charges_category\n",
            "0  16884.92400           medium\n",
            "1   1725.55230         very low\n",
            "2   4449.46200         very low\n",
            "3  21984.47061             high\n",
            "4   3866.85520         very low\n"
          ]
        }
      ],
      "source": [
        "data_insurance['charges_category'] = pd.cut(data_insurance['charges'],\n",
        "                                            bins=[-float('inf'), 5000, 10000, 20000, 30000, float('inf')],\n",
        "                                            labels=['very low', 'low', 'medium', 'high', 'very high'])\n",
        "\n",
        "charges_category = data_insurance['charges_category']\n",
        "\n",
        "print(data_insurance[['charges', 'charges_category']].head())\n"
      ]
    },
    {
      "cell_type": "code",
      "execution_count": 40,
      "id": "0c22d45d",
      "metadata": {
        "colab": {
          "base_uri": "https://localhost:8080/"
        },
        "id": "0c22d45d",
        "outputId": "620bc4f9-ed57-4406-e9bb-7b936295f56c"
      },
      "outputs": [
        {
          "data": {
            "text/plain": [
              "charges_category\n",
              "very low     354\n",
              "medium       349\n",
              "low          346\n",
              "very high    159\n",
              "high         108\n",
              "Name: count, dtype: int64"
            ]
          },
          "execution_count": 40,
          "metadata": {},
          "output_type": "execute_result"
        }
      ],
      "source": [
        "data_insurance.charges_category.value_counts()"
      ]
    },
    {
      "cell_type": "code",
      "execution_count": 41,
      "id": "3wFCUcEBTMWF",
      "metadata": {
        "id": "3wFCUcEBTMWF"
      },
      "outputs": [],
      "source": [
        "data_insurance.dropna(inplace=True)"
      ]
    },
    {
      "cell_type": "code",
      "execution_count": 42,
      "id": "RVA_il4-TPnC",
      "metadata": {
        "colab": {
          "base_uri": "https://localhost:8080/"
        },
        "id": "RVA_il4-TPnC",
        "outputId": "5b50902c-eb50-419a-edf3-12cfc6cab086"
      },
      "outputs": [
        {
          "data": {
            "text/plain": [
              "id                  0\n",
              "age                 0\n",
              "sex                 0\n",
              "bmi                 0\n",
              "children            0\n",
              "smoker              0\n",
              "region              0\n",
              "charges             0\n",
              "age_group           0\n",
              "bmi_category        0\n",
              "status              0\n",
              "charges_category    0\n",
              "dtype: int64"
            ]
          },
          "execution_count": 42,
          "metadata": {},
          "output_type": "execute_result"
        }
      ],
      "source": [
        "data_insurance.isna().sum()"
      ]
    },
    {
      "cell_type": "code",
      "execution_count": 43,
      "id": "57ce7a62",
      "metadata": {
        "colab": {
          "base_uri": "https://localhost:8080/",
          "height": 206
        },
        "id": "57ce7a62",
        "outputId": "38db1749-b17b-4ff1-f286-381e92abbcf4"
      },
      "outputs": [
        {
          "data": {
            "text/html": [
              "<div>\n",
              "<style scoped>\n",
              "    .dataframe tbody tr th:only-of-type {\n",
              "        vertical-align: middle;\n",
              "    }\n",
              "\n",
              "    .dataframe tbody tr th {\n",
              "        vertical-align: top;\n",
              "    }\n",
              "\n",
              "    .dataframe thead th {\n",
              "        text-align: right;\n",
              "    }\n",
              "</style>\n",
              "<table border=\"1\" class=\"dataframe\">\n",
              "  <thead>\n",
              "    <tr style=\"text-align: right;\">\n",
              "      <th></th>\n",
              "      <th>id</th>\n",
              "      <th>age</th>\n",
              "      <th>sex</th>\n",
              "      <th>bmi</th>\n",
              "      <th>children</th>\n",
              "      <th>smoker</th>\n",
              "      <th>region</th>\n",
              "      <th>charges</th>\n",
              "      <th>age_group</th>\n",
              "      <th>bmi_category</th>\n",
              "      <th>status</th>\n",
              "      <th>charges_category</th>\n",
              "    </tr>\n",
              "  </thead>\n",
              "  <tbody>\n",
              "    <tr>\n",
              "      <th>0</th>\n",
              "      <td>1</td>\n",
              "      <td>19</td>\n",
              "      <td>female</td>\n",
              "      <td>27.900</td>\n",
              "      <td>0</td>\n",
              "      <td>yes</td>\n",
              "      <td>southwest</td>\n",
              "      <td>16884.92400</td>\n",
              "      <td>Teen</td>\n",
              "      <td>overweight</td>\n",
              "      <td>single</td>\n",
              "      <td>medium</td>\n",
              "    </tr>\n",
              "    <tr>\n",
              "      <th>1</th>\n",
              "      <td>2</td>\n",
              "      <td>18</td>\n",
              "      <td>male</td>\n",
              "      <td>33.770</td>\n",
              "      <td>1</td>\n",
              "      <td>no</td>\n",
              "      <td>southeast</td>\n",
              "      <td>1725.55230</td>\n",
              "      <td>Teen</td>\n",
              "      <td>obese</td>\n",
              "      <td>married</td>\n",
              "      <td>very low</td>\n",
              "    </tr>\n",
              "    <tr>\n",
              "      <th>2</th>\n",
              "      <td>3</td>\n",
              "      <td>28</td>\n",
              "      <td>male</td>\n",
              "      <td>33.000</td>\n",
              "      <td>3</td>\n",
              "      <td>no</td>\n",
              "      <td>southeast</td>\n",
              "      <td>4449.46200</td>\n",
              "      <td>Elderly</td>\n",
              "      <td>obese</td>\n",
              "      <td>married</td>\n",
              "      <td>very low</td>\n",
              "    </tr>\n",
              "    <tr>\n",
              "      <th>3</th>\n",
              "      <td>4</td>\n",
              "      <td>33</td>\n",
              "      <td>male</td>\n",
              "      <td>22.705</td>\n",
              "      <td>0</td>\n",
              "      <td>no</td>\n",
              "      <td>northwest</td>\n",
              "      <td>21984.47061</td>\n",
              "      <td>Elderly</td>\n",
              "      <td>normal</td>\n",
              "      <td>single</td>\n",
              "      <td>high</td>\n",
              "    </tr>\n",
              "    <tr>\n",
              "      <th>4</th>\n",
              "      <td>5</td>\n",
              "      <td>32</td>\n",
              "      <td>male</td>\n",
              "      <td>28.880</td>\n",
              "      <td>0</td>\n",
              "      <td>no</td>\n",
              "      <td>northwest</td>\n",
              "      <td>3866.85520</td>\n",
              "      <td>Elderly</td>\n",
              "      <td>overweight</td>\n",
              "      <td>single</td>\n",
              "      <td>very low</td>\n",
              "    </tr>\n",
              "  </tbody>\n",
              "</table>\n",
              "</div>"
            ],
            "text/plain": [
              "   id  age     sex     bmi  children smoker     region      charges age_group  \\\n",
              "0   1   19  female  27.900         0    yes  southwest  16884.92400      Teen   \n",
              "1   2   18    male  33.770         1     no  southeast   1725.55230      Teen   \n",
              "2   3   28    male  33.000         3     no  southeast   4449.46200   Elderly   \n",
              "3   4   33    male  22.705         0     no  northwest  21984.47061   Elderly   \n",
              "4   5   32    male  28.880         0     no  northwest   3866.85520   Elderly   \n",
              "\n",
              "  bmi_category   status charges_category  \n",
              "0   overweight   single           medium  \n",
              "1        obese  married         very low  \n",
              "2        obese  married         very low  \n",
              "3       normal   single             high  \n",
              "4   overweight   single         very low  "
            ]
          },
          "execution_count": 43,
          "metadata": {},
          "output_type": "execute_result"
        }
      ],
      "source": [
        "data_insurance.head()"
      ]
    },
    {
      "cell_type": "markdown",
      "id": "48e860c3",
      "metadata": {
        "id": "48e860c3"
      },
      "source": [
        "## Tahap 7: Memvisualisasikan Data"
      ]
    },
    {
      "cell_type": "markdown",
      "id": "3a4bd72c",
      "metadata": {
        "id": "3a4bd72c"
      },
      "source": [
        "Pada tahap ini, sajikan informasi dalam format gambar/grafik untuk setiap pertanyaan bisnis"
      ]
    },
    {
      "cell_type": "code",
      "execution_count": 45,
      "id": "b8bbf6a5",
      "metadata": {
        "colab": {
          "base_uri": "https://localhost:8080/",
          "height": 206
        },
        "id": "b8bbf6a5",
        "outputId": "9cf09b7f-b558-4dc8-b699-8c41ede1823b"
      },
      "outputs": [
        {
          "data": {
            "text/html": [
              "<div>\n",
              "<style scoped>\n",
              "    .dataframe tbody tr th:only-of-type {\n",
              "        vertical-align: middle;\n",
              "    }\n",
              "\n",
              "    .dataframe tbody tr th {\n",
              "        vertical-align: top;\n",
              "    }\n",
              "\n",
              "    .dataframe thead th {\n",
              "        text-align: right;\n",
              "    }\n",
              "</style>\n",
              "<table border=\"1\" class=\"dataframe\">\n",
              "  <thead>\n",
              "    <tr style=\"text-align: right;\">\n",
              "      <th></th>\n",
              "      <th>id</th>\n",
              "      <th>age</th>\n",
              "      <th>sex</th>\n",
              "      <th>bmi</th>\n",
              "      <th>children</th>\n",
              "      <th>smoker</th>\n",
              "      <th>region</th>\n",
              "      <th>charges</th>\n",
              "      <th>age_group</th>\n",
              "      <th>bmi_category</th>\n",
              "      <th>status</th>\n",
              "      <th>charges_category</th>\n",
              "    </tr>\n",
              "  </thead>\n",
              "  <tbody>\n",
              "    <tr>\n",
              "      <th>0</th>\n",
              "      <td>1</td>\n",
              "      <td>19</td>\n",
              "      <td>female</td>\n",
              "      <td>27.900</td>\n",
              "      <td>0</td>\n",
              "      <td>yes</td>\n",
              "      <td>southwest</td>\n",
              "      <td>16884.92400</td>\n",
              "      <td>Teen</td>\n",
              "      <td>overweight</td>\n",
              "      <td>single</td>\n",
              "      <td>medium</td>\n",
              "    </tr>\n",
              "    <tr>\n",
              "      <th>1</th>\n",
              "      <td>2</td>\n",
              "      <td>18</td>\n",
              "      <td>male</td>\n",
              "      <td>33.770</td>\n",
              "      <td>1</td>\n",
              "      <td>no</td>\n",
              "      <td>southeast</td>\n",
              "      <td>1725.55230</td>\n",
              "      <td>Teen</td>\n",
              "      <td>obese</td>\n",
              "      <td>married</td>\n",
              "      <td>very low</td>\n",
              "    </tr>\n",
              "    <tr>\n",
              "      <th>2</th>\n",
              "      <td>3</td>\n",
              "      <td>28</td>\n",
              "      <td>male</td>\n",
              "      <td>33.000</td>\n",
              "      <td>3</td>\n",
              "      <td>no</td>\n",
              "      <td>southeast</td>\n",
              "      <td>4449.46200</td>\n",
              "      <td>Elderly</td>\n",
              "      <td>obese</td>\n",
              "      <td>married</td>\n",
              "      <td>very low</td>\n",
              "    </tr>\n",
              "    <tr>\n",
              "      <th>3</th>\n",
              "      <td>4</td>\n",
              "      <td>33</td>\n",
              "      <td>male</td>\n",
              "      <td>22.705</td>\n",
              "      <td>0</td>\n",
              "      <td>no</td>\n",
              "      <td>northwest</td>\n",
              "      <td>21984.47061</td>\n",
              "      <td>Elderly</td>\n",
              "      <td>normal</td>\n",
              "      <td>single</td>\n",
              "      <td>high</td>\n",
              "    </tr>\n",
              "    <tr>\n",
              "      <th>4</th>\n",
              "      <td>5</td>\n",
              "      <td>32</td>\n",
              "      <td>male</td>\n",
              "      <td>28.880</td>\n",
              "      <td>0</td>\n",
              "      <td>no</td>\n",
              "      <td>northwest</td>\n",
              "      <td>3866.85520</td>\n",
              "      <td>Elderly</td>\n",
              "      <td>overweight</td>\n",
              "      <td>single</td>\n",
              "      <td>very low</td>\n",
              "    </tr>\n",
              "  </tbody>\n",
              "</table>\n",
              "</div>"
            ],
            "text/plain": [
              "   id  age     sex     bmi  children smoker     region      charges age_group  \\\n",
              "0   1   19  female  27.900         0    yes  southwest  16884.92400      Teen   \n",
              "1   2   18    male  33.770         1     no  southeast   1725.55230      Teen   \n",
              "2   3   28    male  33.000         3     no  southeast   4449.46200   Elderly   \n",
              "3   4   33    male  22.705         0     no  northwest  21984.47061   Elderly   \n",
              "4   5   32    male  28.880         0     no  northwest   3866.85520   Elderly   \n",
              "\n",
              "  bmi_category   status charges_category  \n",
              "0   overweight   single           medium  \n",
              "1        obese  married         very low  \n",
              "2        obese  married         very low  \n",
              "3       normal   single             high  \n",
              "4   overweight   single         very low  "
            ]
          },
          "execution_count": 45,
          "metadata": {},
          "output_type": "execute_result"
        }
      ],
      "source": [
        "data_insurance.head()"
      ]
    },
    {
      "cell_type": "markdown",
      "id": "ee6959ad",
      "metadata": {
        "id": "ee6959ad"
      },
      "source": [
        "### 1. Distribusi Nasabah"
      ]
    },
    {
      "cell_type": "markdown",
      "id": "447d7048",
      "metadata": {
        "id": "447d7048"
      },
      "source": [
        "#### age status"
      ]
    },
    {
      "cell_type": "code",
      "execution_count": 46,
      "id": "aaee8ce2",
      "metadata": {
        "colab": {
          "base_uri": "https://localhost:8080/",
          "height": 564
        },
        "id": "aaee8ce2",
        "outputId": "ecde2d59-9265-450a-a00b-7e5c29379023"
      },
      "outputs": [
        {
          "data": {
            "image/png": "[encoded data removed]",
            "text/plain": [
              "<Figure size 1000x600 with 1 Axes>"
            ]
          },
          "metadata": {},
          "output_type": "display_data"
        }
      ],
      "source": [
        "plt.figure(figsize=(10,6))\n",
        "plt.hist(data_insurance['age'], bins=10, edgecolor='black')\n",
        "plt.title('Customer Age Distribution')\n",
        "plt.xlabel('Age')\n",
        "plt.ylabel('Amount')\n",
        "plt.show()"
      ]
    },
    {
      "cell_type": "markdown",
      "id": "47f2d66a",
      "metadata": {
        "id": "47f2d66a"
      },
      "source": [
        "#### Sex"
      ]
    },
    {
      "cell_type": "code",
      "execution_count": 47,
      "id": "3034526a",
      "metadata": {
        "colab": {
          "base_uri": "https://localhost:8080/",
          "height": 521
        },
        "id": "3034526a",
        "outputId": "20573b36-d222-4dc0-9758-f9ea83ffb27c"
      },
      "outputs": [
        {
          "data": {
            "image/png": "[encoded data removed]",
            "text/plain": [
              "<Figure size 1000x600 with 1 Axes>"
            ]
          },
          "metadata": {},
          "output_type": "display_data"
        }
      ],
      "source": [
        "sex = data_insurance['sex'].value_counts()\n",
        "plt.figure(figsize=(10,6))\n",
        "plt.pie(sex, labels=sex.index, autopct='%1.1f%%')\n",
        "plt.title('Gender proportion')\n",
        "plt.show()"
      ]
    },
    {
      "cell_type": "markdown",
      "id": "e5f1f7d1",
      "metadata": {
        "id": "e5f1f7d1"
      },
      "source": [
        "#### BMI"
      ]
    },
    {
      "cell_type": "code",
      "execution_count": 48,
      "id": "0dd4a6c9",
      "metadata": {
        "colab": {
          "base_uri": "https://localhost:8080/",
          "height": 564
        },
        "id": "0dd4a6c9",
        "outputId": "9e948681-841a-40f2-f2d8-363ff2c47229"
      },
      "outputs": [
        {
          "data": {
            "image/png": "[encoded data removed]",
            "text/plain": [
              "<Figure size 1000x600 with 1 Axes>"
            ]
          },
          "metadata": {},
          "output_type": "display_data"
        }
      ],
      "source": [
        "bins = np.arange(10, 51, 10)\n",
        "\n",
        "bmi_counts = pd.cut(data_insurance['bmi'], bins=bins, right=False).value_counts().sort_index()\n",
        "\n",
        "plt.figure(figsize=(10, 6))\n",
        "\n",
        "plt.bar(bmi_counts.index.astype(str), bmi_counts, edgecolor='black')\n",
        "\n",
        "plt.title('BMI Distribution')\n",
        "plt.xlabel('BMI Range')\n",
        "plt.ylabel('Frequency')\n",
        "plt.show()\n"
      ]
    },
    {
      "cell_type": "markdown",
      "id": "219d2661",
      "metadata": {
        "id": "219d2661"
      },
      "source": [
        "#### Amount of Children"
      ]
    },
    {
      "cell_type": "code",
      "execution_count": 49,
      "id": "ef7eda1a",
      "metadata": {
        "colab": {
          "base_uri": "https://localhost:8080/",
          "height": 564
        },
        "id": "ef7eda1a",
        "outputId": "7b010a2a-aeac-4739-c752-0a9fce0b5d42"
      },
      "outputs": [
        {
          "data": {
            "image/png": "[encoded data removed]",
            "text/plain": [
              "<Figure size 1000x600 with 1 Axes>"
            ]
          },
          "metadata": {},
          "output_type": "display_data"
        }
      ],
      "source": [
        "plt.figure(figsize=(10, 6))\n",
        "sns.barplot(x=data_insurance.children.value_counts().index, y=data_insurance.children.value_counts(), color='skyblue', edgecolor='black')\n",
        "\n",
        "plt.title('Customer Children Distribution')\n",
        "plt.xlabel('Number of Children')\n",
        "plt.ylabel('Frequency')\n",
        "plt.show()"
      ]
    },
    {
      "cell_type": "code",
      "execution_count": 50,
      "id": "3bdefdfb",
      "metadata": {
        "colab": {
          "base_uri": "https://localhost:8080/",
          "height": 206
        },
        "id": "3bdefdfb",
        "outputId": "6bcbabce-03ce-418d-f5ec-fd8b5020f4a0"
      },
      "outputs": [
        {
          "data": {
            "text/html": [
              "<div>\n",
              "<style scoped>\n",
              "    .dataframe tbody tr th:only-of-type {\n",
              "        vertical-align: middle;\n",
              "    }\n",
              "\n",
              "    .dataframe tbody tr th {\n",
              "        vertical-align: top;\n",
              "    }\n",
              "\n",
              "    .dataframe thead th {\n",
              "        text-align: right;\n",
              "    }\n",
              "</style>\n",
              "<table border=\"1\" class=\"dataframe\">\n",
              "  <thead>\n",
              "    <tr style=\"text-align: right;\">\n",
              "      <th></th>\n",
              "      <th>id</th>\n",
              "      <th>age</th>\n",
              "      <th>sex</th>\n",
              "      <th>bmi</th>\n",
              "      <th>children</th>\n",
              "      <th>smoker</th>\n",
              "      <th>region</th>\n",
              "      <th>charges</th>\n",
              "      <th>age_group</th>\n",
              "      <th>bmi_category</th>\n",
              "      <th>status</th>\n",
              "      <th>charges_category</th>\n",
              "    </tr>\n",
              "  </thead>\n",
              "  <tbody>\n",
              "    <tr>\n",
              "      <th>0</th>\n",
              "      <td>1</td>\n",
              "      <td>19</td>\n",
              "      <td>female</td>\n",
              "      <td>27.900</td>\n",
              "      <td>0</td>\n",
              "      <td>yes</td>\n",
              "      <td>southwest</td>\n",
              "      <td>16884.92400</td>\n",
              "      <td>Teen</td>\n",
              "      <td>overweight</td>\n",
              "      <td>single</td>\n",
              "      <td>medium</td>\n",
              "    </tr>\n",
              "    <tr>\n",
              "      <th>1</th>\n",
              "      <td>2</td>\n",
              "      <td>18</td>\n",
              "      <td>male</td>\n",
              "      <td>33.770</td>\n",
              "      <td>1</td>\n",
              "      <td>no</td>\n",
              "      <td>southeast</td>\n",
              "      <td>1725.55230</td>\n",
              "      <td>Teen</td>\n",
              "      <td>obese</td>\n",
              "      <td>married</td>\n",
              "      <td>very low</td>\n",
              "    </tr>\n",
              "    <tr>\n",
              "      <th>2</th>\n",
              "      <td>3</td>\n",
              "      <td>28</td>\n",
              "      <td>male</td>\n",
              "      <td>33.000</td>\n",
              "      <td>3</td>\n",
              "      <td>no</td>\n",
              "      <td>southeast</td>\n",
              "      <td>4449.46200</td>\n",
              "      <td>Elderly</td>\n",
              "      <td>obese</td>\n",
              "      <td>married</td>\n",
              "      <td>very low</td>\n",
              "    </tr>\n",
              "    <tr>\n",
              "      <th>3</th>\n",
              "      <td>4</td>\n",
              "      <td>33</td>\n",
              "      <td>male</td>\n",
              "      <td>22.705</td>\n",
              "      <td>0</td>\n",
              "      <td>no</td>\n",
              "      <td>northwest</td>\n",
              "      <td>21984.47061</td>\n",
              "      <td>Elderly</td>\n",
              "      <td>normal</td>\n",
              "      <td>single</td>\n",
              "      <td>high</td>\n",
              "    </tr>\n",
              "    <tr>\n",
              "      <th>4</th>\n",
              "      <td>5</td>\n",
              "      <td>32</td>\n",
              "      <td>male</td>\n",
              "      <td>28.880</td>\n",
              "      <td>0</td>\n",
              "      <td>no</td>\n",
              "      <td>northwest</td>\n",
              "      <td>3866.85520</td>\n",
              "      <td>Elderly</td>\n",
              "      <td>overweight</td>\n",
              "      <td>single</td>\n",
              "      <td>very low</td>\n",
              "    </tr>\n",
              "  </tbody>\n",
              "</table>\n",
              "</div>"
            ],
            "text/plain": [
              "   id  age     sex     bmi  children smoker     region      charges age_group  \\\n",
              "0   1   19  female  27.900         0    yes  southwest  16884.92400      Teen   \n",
              "1   2   18    male  33.770         1     no  southeast   1725.55230      Teen   \n",
              "2   3   28    male  33.000         3     no  southeast   4449.46200   Elderly   \n",
              "3   4   33    male  22.705         0     no  northwest  21984.47061   Elderly   \n",
              "4   5   32    male  28.880         0     no  northwest   3866.85520   Elderly   \n",
              "\n",
              "  bmi_category   status charges_category  \n",
              "0   overweight   single           medium  \n",
              "1        obese  married         very low  \n",
              "2        obese  married         very low  \n",
              "3       normal   single             high  \n",
              "4   overweight   single         very low  "
            ]
          },
          "execution_count": 50,
          "metadata": {},
          "output_type": "execute_result"
        }
      ],
      "source": [
        "data_insurance.head()"
      ]
    },
    {
      "cell_type": "markdown",
      "id": "231c232f",
      "metadata": {
        "id": "231c232f"
      },
      "source": [
        "#### Smoker"
      ]
    },
    {
      "cell_type": "code",
      "execution_count": 51,
      "id": "585dc224",
      "metadata": {
        "colab": {
          "base_uri": "https://localhost:8080/",
          "height": 521
        },
        "id": "585dc224",
        "outputId": "42243af3-ce14-456a-8be2-6756e7003fa1"
      },
      "outputs": [
        {
          "data": {
            "image/png": "[encoded data removed]",
            "text/plain": [
              "<Figure size 1000x600 with 1 Axes>"
            ]
          },
          "metadata": {},
          "output_type": "display_data"
        }
      ],
      "source": [
        "smoker_counts = data_insurance['smoker'].value_counts()\n",
        "plt.figure(figsize=(10,6))\n",
        "plt.pie(smoker_counts, labels=smoker_counts.index, autopct='%1.1f%%')\n",
        "plt.title('Proportion of Customers Smoking')\n",
        "plt.show()"
      ]
    },
    {
      "cell_type": "markdown",
      "id": "2885d5de",
      "metadata": {
        "id": "2885d5de"
      },
      "source": [
        "#### Region"
      ]
    },
    {
      "cell_type": "code",
      "execution_count": 52,
      "id": "d7c62dfd",
      "metadata": {
        "colab": {
          "base_uri": "https://localhost:8080/",
          "height": 521
        },
        "id": "d7c62dfd",
        "outputId": "549e90a4-1150-4022-c045-cdf51c258ac4"
      },
      "outputs": [
        {
          "data": {
            "image/png": "[encoded data removed]",
            "text/plain": [
              "<Figure size 1000x600 with 1 Axes>"
            ]
          },
          "metadata": {},
          "output_type": "display_data"
        }
      ],
      "source": [
        "region = data_insurance['region'].value_counts()\n",
        "plt.figure(figsize=(10,6))\n",
        "plt.pie(region, labels=region.index, autopct='%1.1f%%')\n",
        "plt.title('Proportion of Customers Smoking')\n",
        "plt.show()"
      ]
    },
    {
      "cell_type": "markdown",
      "id": "b6802ddb",
      "metadata": {
        "id": "b6802ddb"
      },
      "source": [
        "#### Charges/Bill"
      ]
    },
    {
      "cell_type": "code",
      "execution_count": 53,
      "id": "2b8cac00",
      "metadata": {
        "colab": {
          "base_uri": "https://localhost:8080/",
          "height": 564
        },
        "id": "2b8cac00",
        "outputId": "fb816e61-30ad-49e5-e74b-49e6308d20cc"
      },
      "outputs": [
        {
          "data": {
            "image/png": "[encoded data removed]",
            "text/plain": [
              "<Figure size 1200x600 with 1 Axes>"
            ]
          },
          "metadata": {},
          "output_type": "display_data"
        }
      ],
      "source": [
        "bins = [-np.inf, 1000, 5000, 10000, 15000, 20000, 25000, 30000, np.inf]\n",
        "labels = ['<1000', '1000-5000', '5000-10000', '10000-15000', '15000-20000', '20000-25000', '25000-30000', '30000+']\n",
        "\n",
        "charge_counts = pd.cut(data_insurance['charges'], bins=bins, labels=labels, right=False).value_counts().sort_index()\n",
        "\n",
        "plt.figure(figsize=(12, 6))\n",
        "\n",
        "sns.lineplot(x=charge_counts.index.astype(str), y=charge_counts, marker='o', color='b')\n",
        "\n",
        "plt.title('Charge Distribution')\n",
        "plt.xlabel('Charge Range')\n",
        "plt.ylabel('Frequency')\n",
        "plt.show()\n"
      ]
    },
    {
      "cell_type": "markdown",
      "id": "OJGvy5RnGRuq",
      "metadata": {
        "id": "OJGvy5RnGRuq"
      },
      "source": [
        "### Pertanyaan 2"
      ]
    },
    {
      "cell_type": "markdown",
      "id": "aLqhvofCHm-e",
      "metadata": {
        "id": "aLqhvofCHm-e"
      },
      "source": [
        "#### status"
      ]
    },
    {
      "cell_type": "code",
      "execution_count": 54,
      "id": "ANQe_O2KH8eA",
      "metadata": {
        "colab": {
          "base_uri": "https://localhost:8080/",
          "height": 521
        },
        "id": "ANQe_O2KH8eA",
        "outputId": "dac6afed-a71e-46c8-9e1b-7f2635e5fdeb"
      },
      "outputs": [
        {
          "data": {
            "image/png": "[encoded data removed]",
            "text/plain": [
              "<Figure size 1000x600 with 1 Axes>"
            ]
          },
          "metadata": {},
          "output_type": "display_data"
        }
      ],
      "source": [
        "status = data_insurance['status'].value_counts()\n",
        "plt.figure(figsize=(10,6))\n",
        "plt.pie(status,labels=status.index,autopct=\"%1.1f%%\")\n",
        "plt.title('mariage status')\n",
        "plt.show()"
      ]
    },
    {
      "cell_type": "code",
      "execution_count": 55,
      "id": "cHof7Ad0JbAK",
      "metadata": {
        "colab": {
          "base_uri": "https://localhost:8080/"
        },
        "id": "cHof7Ad0JbAK",
        "outputId": "1aa79875-ebd8-4e53-d721-f861fb25f9c7"
      },
      "outputs": [
        {
          "name": "stdout",
          "output_type": "stream",
          "text": [
            "1.0957446808510638\n"
          ]
        }
      ],
      "source": [
        "average_children = data_insurance['children'].mean()\n",
        "print(average_children)"
      ]
    },
    {
      "cell_type": "code",
      "execution_count": 56,
      "id": "Pr-5fp3oNP60",
      "metadata": {
        "colab": {
          "base_uri": "https://localhost:8080/",
          "height": 472
        },
        "id": "Pr-5fp3oNP60",
        "outputId": "1109f0f5-af1f-41b2-fb81-c7795dd87334"
      },
      "outputs": [
        {
          "data": {
            "image/png": "[encoded data removed]",
            "text/plain": [
              "<Figure size 640x480 with 1 Axes>"
            ]
          },
          "metadata": {},
          "output_type": "display_data"
        }
      ],
      "source": [
        "mean_charges = data_insurance['charges'].mean()\n",
        "min_charges = data_insurance['charges'].min()\n",
        "max_charges = data_insurance['charges'].max()\n",
        "\n",
        "x = ['Min', 'Mean', 'Max']\n",
        "y = [ min_charges,mean_charges, max_charges]\n",
        "\n",
        "plt.bar(x, y, color=['blue', 'green', 'red'])\n",
        "plt.title('Min, Charges Mean, Max')\n",
        "plt.xlabel('Average of Children')\n",
        "plt.ylabel('Value')\n",
        "plt.show()"
      ]
    },
    {
      "cell_type": "markdown",
      "id": "XqOoxXltOzAL",
      "metadata": {
        "id": "XqOoxXltOzAL"
      },
      "source": [
        "### Pertanyaan 3"
      ]
    },
    {
      "cell_type": "code",
      "execution_count": 57,
      "id": "GK1gOGnAO3Q9",
      "metadata": {
        "colab": {
          "base_uri": "https://localhost:8080/",
          "height": 472
        },
        "id": "GK1gOGnAO3Q9",
        "outputId": "81c4c460-b0af-415c-803b-ff2860b27f97"
      },
      "outputs": [
        {
          "data": {
            "image/png": "[encoded data removed]",
            "text/plain": [
              "<Figure size 640x480 with 1 Axes>"
            ]
          },
          "metadata": {},
          "output_type": "display_data"
        }
      ],
      "source": [
        "sns.countplot(x='region', data=data_insurance)\n",
        "\n",
        "plt.title('Distribution of Customer Regions')\n",
        "plt.xlabel('Region')\n",
        "plt.ylabel('Count')\n",
        "\n",
        "plt.show()"
      ]
    },
    {
      "cell_type": "code",
      "execution_count": 58,
      "id": "78f53774",
      "metadata": {},
      "outputs": [
        {
          "data": {
            "image/png": "[encoded data removed]",
            "text/plain": [
              "<Figure size 800x400 with 3 Axes>"
            ]
          },
          "metadata": {},
          "output_type": "display_data"
        }
      ],
      "source": [
        "southwest_df = data_insurance[data_insurance['region'] == 'southwest']\n",
        "\n",
        "age_group_dist = southwest_df['age_group'].value_counts()\n",
        "sex_dist = southwest_df['sex'].value_counts()\n",
        "status_dist = southwest_df['status'].value_counts()\n",
        "\n",
        "fig, axs = plt.subplots(1, 3, figsize=(8, 4))\n",
        "\n",
        "axs[0].bar(age_group_dist.index, age_group_dist.values)\n",
        "axs[0].set_title('Age Group Distribution')\n",
        "axs[0].set_xlabel('Age Group')\n",
        "axs[0].set_ylabel('Count')\n",
        "\n",
        "axs[1].bar(sex_dist.index, sex_dist.values)\n",
        "axs[1].set_title('Sex Distribution')\n",
        "axs[1].set_xlabel('Sex')\n",
        "axs[1].set_ylabel('Count')\n",
        "\n",
        "axs[2].bar(status_dist.index, status_dist.values)\n",
        "axs[2].set_title('Status Distribution')\n",
        "axs[2].set_xlabel('Status')\n",
        "axs[2].set_ylabel('Count')\n",
        "\n",
        "plt.tight_layout()\n",
        "plt.show()\n"
      ]
    },
    {
      "cell_type": "code",
      "execution_count": 59,
      "id": "88e2322d",
      "metadata": {},
      "outputs": [
        {
          "data": {
            "text/html": [
              "<div>\n",
              "<style scoped>\n",
              "    .dataframe tbody tr th:only-of-type {\n",
              "        vertical-align: middle;\n",
              "    }\n",
              "\n",
              "    .dataframe tbody tr th {\n",
              "        vertical-align: top;\n",
              "    }\n",
              "\n",
              "    .dataframe thead th {\n",
              "        text-align: right;\n",
              "    }\n",
              "</style>\n",
              "<table border=\"1\" class=\"dataframe\">\n",
              "  <thead>\n",
              "    <tr style=\"text-align: right;\">\n",
              "      <th></th>\n",
              "      <th>id</th>\n",
              "      <th>age</th>\n",
              "      <th>sex</th>\n",
              "      <th>bmi</th>\n",
              "      <th>children</th>\n",
              "      <th>smoker</th>\n",
              "      <th>region</th>\n",
              "      <th>charges</th>\n",
              "      <th>age_group</th>\n",
              "      <th>bmi_category</th>\n",
              "      <th>status</th>\n",
              "      <th>charges_category</th>\n",
              "    </tr>\n",
              "  </thead>\n",
              "  <tbody>\n",
              "    <tr>\n",
              "      <th>0</th>\n",
              "      <td>1</td>\n",
              "      <td>19</td>\n",
              "      <td>female</td>\n",
              "      <td>27.900</td>\n",
              "      <td>0</td>\n",
              "      <td>yes</td>\n",
              "      <td>southwest</td>\n",
              "      <td>16884.92400</td>\n",
              "      <td>Teen</td>\n",
              "      <td>overweight</td>\n",
              "      <td>single</td>\n",
              "      <td>medium</td>\n",
              "    </tr>\n",
              "    <tr>\n",
              "      <th>1</th>\n",
              "      <td>2</td>\n",
              "      <td>18</td>\n",
              "      <td>male</td>\n",
              "      <td>33.770</td>\n",
              "      <td>1</td>\n",
              "      <td>no</td>\n",
              "      <td>southeast</td>\n",
              "      <td>1725.55230</td>\n",
              "      <td>Teen</td>\n",
              "      <td>obese</td>\n",
              "      <td>married</td>\n",
              "      <td>very low</td>\n",
              "    </tr>\n",
              "    <tr>\n",
              "      <th>2</th>\n",
              "      <td>3</td>\n",
              "      <td>28</td>\n",
              "      <td>male</td>\n",
              "      <td>33.000</td>\n",
              "      <td>3</td>\n",
              "      <td>no</td>\n",
              "      <td>southeast</td>\n",
              "      <td>4449.46200</td>\n",
              "      <td>Elderly</td>\n",
              "      <td>obese</td>\n",
              "      <td>married</td>\n",
              "      <td>very low</td>\n",
              "    </tr>\n",
              "    <tr>\n",
              "      <th>3</th>\n",
              "      <td>4</td>\n",
              "      <td>33</td>\n",
              "      <td>male</td>\n",
              "      <td>22.705</td>\n",
              "      <td>0</td>\n",
              "      <td>no</td>\n",
              "      <td>northwest</td>\n",
              "      <td>21984.47061</td>\n",
              "      <td>Elderly</td>\n",
              "      <td>normal</td>\n",
              "      <td>single</td>\n",
              "      <td>high</td>\n",
              "    </tr>\n",
              "    <tr>\n",
              "      <th>4</th>\n",
              "      <td>5</td>\n",
              "      <td>32</td>\n",
              "      <td>male</td>\n",
              "      <td>28.880</td>\n",
              "      <td>0</td>\n",
              "      <td>no</td>\n",
              "      <td>northwest</td>\n",
              "      <td>3866.85520</td>\n",
              "      <td>Elderly</td>\n",
              "      <td>overweight</td>\n",
              "      <td>single</td>\n",
              "      <td>very low</td>\n",
              "    </tr>\n",
              "  </tbody>\n",
              "</table>\n",
              "</div>"
            ],
            "text/plain": [
              "   id  age     sex     bmi  children smoker     region      charges age_group  \\\n",
              "0   1   19  female  27.900         0    yes  southwest  16884.92400      Teen   \n",
              "1   2   18    male  33.770         1     no  southeast   1725.55230      Teen   \n",
              "2   3   28    male  33.000         3     no  southeast   4449.46200   Elderly   \n",
              "3   4   33    male  22.705         0     no  northwest  21984.47061   Elderly   \n",
              "4   5   32    male  28.880         0     no  northwest   3866.85520   Elderly   \n",
              "\n",
              "  bmi_category   status charges_category  \n",
              "0   overweight   single           medium  \n",
              "1        obese  married         very low  \n",
              "2        obese  married         very low  \n",
              "3       normal   single             high  \n",
              "4   overweight   single         very low  "
            ]
          },
          "execution_count": 59,
          "metadata": {},
          "output_type": "execute_result"
        }
      ],
      "source": [
        "data_insurance.head()"
      ]
    },
    {
      "cell_type": "markdown",
      "id": "6057e8a8",
      "metadata": {},
      "source": []
    },
    {
      "cell_type": "markdown",
      "id": "79d95826",
      "metadata": {
        "id": "79d95826"
      },
      "source": [
        "### Pertanyaan 4"
      ]
    },
    {
      "cell_type": "markdown",
      "id": "LXCGgqOXGQPk",
      "metadata": {
        "id": "LXCGgqOXGQPk"
      },
      "source": []
    },
    {
      "cell_type": "code",
      "execution_count": 60,
      "id": "3823eb8e",
      "metadata": {
        "colab": {
          "base_uri": "https://localhost:8080/",
          "height": 564
        },
        "id": "3823eb8e",
        "outputId": "8eab6166-5c30-4c32-f9f7-85daf4b56f0c"
      },
      "outputs": [
        {
          "data": {
            "image/png": "[encoded data removed]",
            "text/plain": [
              "<Figure size 1000x600 with 1 Axes>"
            ]
          },
          "metadata": {},
          "output_type": "display_data"
        }
      ],
      "source": [
        "plt.figure(figsize=(10,6))\n",
        "sns.scatterplot(data=data_insurance, x='age', y='charges', hue='smoker')\n",
        "\n",
        "plt.title('Premi/Bill patterns by age and smoking status')\n",
        "plt.xlabel('Age')\n",
        "plt.ylabel('Premi/Bill')\n",
        "plt.show()"
      ]
    },
    {
      "cell_type": "code",
      "execution_count": 61,
      "id": "dc23b7ee",
      "metadata": {
        "colab": {
          "base_uri": "https://localhost:8080/",
          "height": 564
        },
        "id": "dc23b7ee",
        "outputId": "856e1274-52fb-49ea-adde-9b38200d8de7"
      },
      "outputs": [
        {
          "name": "stderr",
          "output_type": "stream",
          "text": [
            "C:\\Users\\Albert\\AppData\\Local\\Temp\\ipykernel_22024\\1993594521.py:1: FutureWarning: The default of observed=False is deprecated and will be changed to True in a future version of pandas. Pass observed=False to retain current behavior or observed=True to adopt the future default and silence this warning.\n",
            "  average_charges = data_insurance.groupby('bmi_category')['charges'].mean()\n"
          ]
        },
        {
          "data": {
            "image/png": "[encoded data removed]",
            "text/plain": [
              "<Figure size 1000x600 with 1 Axes>"
            ]
          },
          "metadata": {},
          "output_type": "display_data"
        }
      ],
      "source": [
        "average_charges = data_insurance.groupby('bmi_category')['charges'].mean()\n",
        "\n",
        "plt.figure(figsize=(10, 6))\n",
        "\n",
        "# Menggunakan seaborn untuk menambahkan warna\n",
        "sns.barplot(x=average_charges.index.astype(str), y=average_charges)\n",
        "\n",
        "plt.title('Premi/Bill Patterns by BMI')\n",
        "plt.xlabel('BMI Category')\n",
        "plt.ylabel('Rata-Rata Premi')\n",
        "plt.show()"
      ]
    },
    {
      "cell_type": "code",
      "execution_count": 81,
      "id": "4a7766ff",
      "metadata": {},
      "outputs": [
        {
          "data": {
            "image/png": "[encoded data removed]",
            "text/plain": [
              "<Figure size 1000x600 with 1 Axes>"
            ]
          },
          "metadata": {},
          "output_type": "display_data"
        }
      ],
      "source": [
        "average_charges = data_insurance.groupby('age_group')['charges'].mean()\n",
        "\n",
        "plt.figure(figsize=(10, 6))\n",
        "\n",
        "sns.barplot(x=average_charges.index.astype(str), y=average_charges)\n",
        "\n",
        "plt.title('Premi/Bill Patterns by age group')\n",
        "plt.xlabel('age group Category')\n",
        "plt.ylabel('Rata-Rata Premi')\n",
        "plt.show()"
      ]
    },
    {
      "cell_type": "markdown",
      "id": "4a9f525c",
      "metadata": {
        "id": "4a9f525c"
      },
      "source": [
        "#### 5. Revenue dan Order"
      ]
    },
    {
      "cell_type": "code",
      "execution_count": 62,
      "id": "ace36aab",
      "metadata": {
        "colab": {
          "base_uri": "https://localhost:8080/",
          "height": 206
        },
        "id": "ace36aab",
        "outputId": "9dc14cce-f7d6-4565-8acb-96b6fed1fabb"
      },
      "outputs": [
        {
          "data": {
            "text/html": [
              "<div>\n",
              "<style scoped>\n",
              "    .dataframe tbody tr th:only-of-type {\n",
              "        vertical-align: middle;\n",
              "    }\n",
              "\n",
              "    .dataframe tbody tr th {\n",
              "        vertical-align: top;\n",
              "    }\n",
              "\n",
              "    .dataframe thead th {\n",
              "        text-align: right;\n",
              "    }\n",
              "</style>\n",
              "<table border=\"1\" class=\"dataframe\">\n",
              "  <thead>\n",
              "    <tr style=\"text-align: right;\">\n",
              "      <th></th>\n",
              "      <th>id</th>\n",
              "      <th>age</th>\n",
              "      <th>sex</th>\n",
              "      <th>bmi</th>\n",
              "      <th>children</th>\n",
              "      <th>smoker</th>\n",
              "      <th>region</th>\n",
              "      <th>charges</th>\n",
              "      <th>age_group</th>\n",
              "      <th>bmi_category</th>\n",
              "      <th>status</th>\n",
              "      <th>charges_category</th>\n",
              "    </tr>\n",
              "  </thead>\n",
              "  <tbody>\n",
              "    <tr>\n",
              "      <th>0</th>\n",
              "      <td>1</td>\n",
              "      <td>19</td>\n",
              "      <td>female</td>\n",
              "      <td>27.900</td>\n",
              "      <td>0</td>\n",
              "      <td>yes</td>\n",
              "      <td>southwest</td>\n",
              "      <td>16884.92400</td>\n",
              "      <td>Teen</td>\n",
              "      <td>overweight</td>\n",
              "      <td>single</td>\n",
              "      <td>medium</td>\n",
              "    </tr>\n",
              "    <tr>\n",
              "      <th>1</th>\n",
              "      <td>2</td>\n",
              "      <td>18</td>\n",
              "      <td>male</td>\n",
              "      <td>33.770</td>\n",
              "      <td>1</td>\n",
              "      <td>no</td>\n",
              "      <td>southeast</td>\n",
              "      <td>1725.55230</td>\n",
              "      <td>Teen</td>\n",
              "      <td>obese</td>\n",
              "      <td>married</td>\n",
              "      <td>very low</td>\n",
              "    </tr>\n",
              "    <tr>\n",
              "      <th>2</th>\n",
              "      <td>3</td>\n",
              "      <td>28</td>\n",
              "      <td>male</td>\n",
              "      <td>33.000</td>\n",
              "      <td>3</td>\n",
              "      <td>no</td>\n",
              "      <td>southeast</td>\n",
              "      <td>4449.46200</td>\n",
              "      <td>Elderly</td>\n",
              "      <td>obese</td>\n",
              "      <td>married</td>\n",
              "      <td>very low</td>\n",
              "    </tr>\n",
              "    <tr>\n",
              "      <th>3</th>\n",
              "      <td>4</td>\n",
              "      <td>33</td>\n",
              "      <td>male</td>\n",
              "      <td>22.705</td>\n",
              "      <td>0</td>\n",
              "      <td>no</td>\n",
              "      <td>northwest</td>\n",
              "      <td>21984.47061</td>\n",
              "      <td>Elderly</td>\n",
              "      <td>normal</td>\n",
              "      <td>single</td>\n",
              "      <td>high</td>\n",
              "    </tr>\n",
              "    <tr>\n",
              "      <th>4</th>\n",
              "      <td>5</td>\n",
              "      <td>32</td>\n",
              "      <td>male</td>\n",
              "      <td>28.880</td>\n",
              "      <td>0</td>\n",
              "      <td>no</td>\n",
              "      <td>northwest</td>\n",
              "      <td>3866.85520</td>\n",
              "      <td>Elderly</td>\n",
              "      <td>overweight</td>\n",
              "      <td>single</td>\n",
              "      <td>very low</td>\n",
              "    </tr>\n",
              "  </tbody>\n",
              "</table>\n",
              "</div>"
            ],
            "text/plain": [
              "   id  age     sex     bmi  children smoker     region      charges age_group  \\\n",
              "0   1   19  female  27.900         0    yes  southwest  16884.92400      Teen   \n",
              "1   2   18    male  33.770         1     no  southeast   1725.55230      Teen   \n",
              "2   3   28    male  33.000         3     no  southeast   4449.46200   Elderly   \n",
              "3   4   33    male  22.705         0     no  northwest  21984.47061   Elderly   \n",
              "4   5   32    male  28.880         0     no  northwest   3866.85520   Elderly   \n",
              "\n",
              "  bmi_category   status charges_category  \n",
              "0   overweight   single           medium  \n",
              "1        obese  married         very low  \n",
              "2        obese  married         very low  \n",
              "3       normal   single             high  \n",
              "4   overweight   single         very low  "
            ]
          },
          "execution_count": 62,
          "metadata": {},
          "output_type": "execute_result"
        }
      ],
      "source": [
        "data_insurance.head()"
      ]
    },
    {
      "cell_type": "code",
      "execution_count": 64,
      "id": "7f955a65",
      "metadata": {
        "id": "7f955a65"
      },
      "outputs": [],
      "source": [
        "data_insurance['age_group'] = data_insurance['age_group']\n",
        "\n",
        "profit = data_insurance.groupby('age_group').agg({\n",
        "    \"id\": \"count\",\n",
        "    \"charges\": \"sum\"\n",
        "})\n",
        "\n",
        "profit = profit.reset_index()\n",
        "profit.rename(columns={\"id\": \"order\", \"charges\": \"revenue\"}, inplace=True)\n",
        "age_groups_order = sorted(data_insurance['age_group'].unique())\n",
        "profit['age_group'] = pd.Categorical(profit['age_group'], categories=age_groups_order, ordered=True)\n",
        "profit = profit.sort_values('age_group')"
      ]
    },
    {
      "cell_type": "code",
      "execution_count": 65,
      "id": "dd0fc1d2",
      "metadata": {
        "colab": {
          "base_uri": "https://localhost:8080/",
          "height": 472
        },
        "id": "dd0fc1d2",
        "outputId": "ca071fdb-8388-4e78-9c1f-ed9509ec57d9"
      },
      "outputs": [
        {
          "data": {
            "image/png": "[encoded data removed]",
            "text/plain": [
              "<Figure size 1000x500 with 1 Axes>"
            ]
          },
          "metadata": {},
          "output_type": "display_data"
        }
      ],
      "source": [
        "profit =profit.sort_values('age_group', ascending=False)\n",
        "\n",
        "plt.figure(figsize=(10, 5))\n",
        "plt.plot(\n",
        "    profit[\"age_group\"],\n",
        "    profit[\"order\"],\n",
        "    marker='o',\n",
        "    linewidth=2,\n",
        "    color=\"#72BCD4\"\n",
        ")\n",
        "\n",
        "plt.title(\"Number of Orders per Age Group\", loc=\"center\", fontsize=20)\n",
        "plt.xticks(fontsize=8)\n",
        "plt.yticks(fontsize=8)\n",
        "plt.show()"
      ]
    },
    {
      "cell_type": "markdown",
      "id": "82e05027",
      "metadata": {
        "id": "82e05027"
      },
      "source": [
        "#### Revenue"
      ]
    },
    {
      "cell_type": "code",
      "execution_count": 66,
      "id": "c6b2aa8e",
      "metadata": {
        "colab": {
          "base_uri": "https://localhost:8080/",
          "height": 472
        },
        "id": "c6b2aa8e",
        "outputId": "1e8ebb49-f525-4074-ff4f-b44f92349b6a"
      },
      "outputs": [
        {
          "data": {
            "image/png": "[encoded data removed]",
            "text/plain": [
              "<Figure size 1000x500 with 1 Axes>"
            ]
          },
          "metadata": {},
          "output_type": "display_data"
        }
      ],
      "source": [
        "profit = profit.sort_values('age_group', ascending=False)\n",
        "\n",
        "plt.figure(figsize=(10, 5))\n",
        "plt.plot(\n",
        "    profit[\"age_group\"],\n",
        "    profit[\"revenue\"],\n",
        "    marker='o',\n",
        "    linewidth=2,\n",
        "    color=\"#72BCD4\"\n",
        ")\n",
        "\n",
        "plt.title(\"Number of Revenue per Age Group\", loc=\"center\", fontsize=20)\n",
        "plt.xticks(fontsize=8)\n",
        "plt.yticks(fontsize=8)\n",
        "plt.show()\n"
      ]
    },
    {
      "cell_type": "markdown",
      "id": "fc17ccff",
      "metadata": {
        "id": "fc17ccff"
      },
      "source": [
        "## Tahap 8: Membuat Kesimpulan"
      ]
    },
    {
      "cell_type": "markdown",
      "id": "2a8c771a",
      "metadata": {
        "id": "2a8c771a"
      },
      "source": [
        "Berikan kesimpulan untuk setiap pertanyaan berdasarkan keseluruhan tahapan yang telah dilakukan sebelumnya"
      ]
    },
    {
      "cell_type": "markdown",
      "id": "d6ecd2a2",
      "metadata": {},
      "source": [
        "1. Bagaimana dengan distribusi nasabah asuransi dalam dataset ini?\n",
        "- kesimpulan (age status) : Dalam visualisasi menggunakan BAR PLOT menunjukkan jumlah distribusi usia pelanggan. terdapat umur 20 terdiri dari lebih dari 200 orang, umur 30 terdiri dari 100 orang, umur 40 terdiri dari kurang lebih 100 orang, umur 50 terdiri dari kurang lebih 150 dan umur 60 terdiri dari lebh dari 100.\n",
        "- kesimpulan (sex status) Dalam visualisasi menggunakan PIE CHART menunjukkan persentase proporsi gender, yakni laki-laki dan perempuan. persentase male sekitar 50.5% sedangkan persentase female adalah 49.5%.\n",
        "- kesimpulan (bmi status) : Dalam visualisasi menggunakan BAR PLOT menunjukkan distribusi bmi. terdapat range bmi (10,20) mencapai kurang dari 100, range bmi (20,30) mencapai kurang dari 600, range bmi (30,40) mecapai 600 lebih dan range bmi (40,50) mencapai kurang lebih 100.\n",
        "- kesimpulan (amount of children) : Dalam visualisasi menggunakan BAR menunjukkan distribusi anak pelanggan. terdapat tidak mempunyai anak sebanyak lebih dari 500, 1 anak sebanyak kurang lebih 300, 2 anak sebanyak kurang lebih 200, 3 anak sebanyak kurang lebih 100.\n",
        "- kesimpulan (smoker status) : Dalam visualisasi menggunakan PIE CHART menunjukkan persenan yang merokok dan tidak merokok. terdapat yang merokok sekitar 20.3%. sedangkan yang tidak merokok sekitar 79.7%.\n",
        "- kesimpulan (region status) : Dalam visualisasi menggunakan PIE CHART menunjukkan persenan yang berdomisili. yakni southwest, southeast, northeast dan northwest. terdapat pada southwest sekitar 24.4%, southeast sekitar 27.1%, northeast sekitar 24.4% dan northwest sekitar 24.2%.\n",
        "- kesimpulan (charges/bill) : Dalam visualisasi menggunakan ROW menunjukkan pinjaman dan frequency. terdapat pada pinjaman <1000 = 0, pinjaman 1000-5000 sekitar 350, pinjaman 5000-10000 sekitar kurang dari 350, pinjaman 10000-15000 sekitar lebih dari 200, pinjaman 15000-20000 sekitar lebih dari 50, pinjaman 25000-30000 sekitar 50 dan pinjaman 30000+ sekitar 150.\n",
        "\n",
        "2. Berapa rata-rata jumlah anak yang dimiliki oleh nasabah?\n",
        "- Visualisasi menunjukkan bahwa mayoritas orang (57%) berstatus menikah dan rata-rata jumlah anak berkisar antara kurang dari 1000 hingga lebih dari 6000.\n",
        "3. Bagaimana persebaran wilayah domisili nasabah?\n",
        "- Visualisasi tersebut pada tabel age group distribution menampilkan bahwa hitungan elderly lebih tinggi daripada teen dan mature. Lalu, untuk tabel sex distribution menampilkan bahwa hitungan gender dari male sedikit lebih tinggi daripada female. Dan untuk tabel status distribution menampilkan bahwa hitungan status dari married lebih tinggi daripada single.\n",
        "4. Tampilkan pola atau tren dalam premi yang dikenakan berdasarkan kombinasi faktor usia, BMI, dan status perokok?\n",
        "- rata-rata premi asuransi cenderung meningkat seiring bertambahnya usia. Kelompok usia “Mature” memiliki rata-rata premi tertinggi, diikuti oleh “Elderly”, dan “Teen” memiliki rata-rata premi terendah. Ini menunjukkan bahwa biaya asuransi cenderung lebih tinggi untuk individu yang lebih tua. dapat simpulkan bahwa premi asuransi cenderung meningkat seiring bertambahnya usia dan BMI, dan perokok biasanya membayar premi yang lebih tinggi. Kategori BMI juga mempengaruhi premi, dengan individu ‘obese’ cenderung membayar premi tertinggi.\n",
        "5. bagaimana performa Order dan revenue perusahaan?\n",
        "- Kesimpulan: Premi asuransi dan pendapatan cenderung meningkat seiring bertambahnya usia dan BMI, dengan perokok dan individu ‘obese’ serta kelompok usia ‘Elderly’ biasanya membayar premi tertinggi dan menghasilkan pendapatan tertinggi."
      ]
    }
  ],
  "metadata": {
    "colab": {
      "provenance": []
    },
    "kernelspec": {
      "display_name": "Python 3 (ipykernel)",
      "language": "python",
      "name": "python3"
    },
    "language_info": {
      "codemirror_mode": {
        "name": "ipython",
        "version": 3
      },
      "file_extension": ".py",
      "mimetype": "text/x-python",
      "name": "python",
      "nbconvert_exporter": "python",
      "pygments_lexer": "ipython3",
      "version": "3.11.2"
    }
  },
  "nbformat": 4,
  "nbformat_minor": 5
}
